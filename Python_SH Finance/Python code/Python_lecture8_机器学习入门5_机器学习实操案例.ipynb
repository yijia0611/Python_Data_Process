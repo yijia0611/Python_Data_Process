{
 "cells": [
  {
   "cell_type": "markdown",
   "metadata": {},
   "source": [
    "# 第8讲 机器学习入门"
   ]
  },
  {
   "cell_type": "markdown",
   "metadata": {},
   "source": [
    "<font face=\"宋体\" >郭峰（Email：guofengsfi@163.com)   \n",
    "副教授、博士生导师  \n",
    "上海财经大学公共经济与管理学院 </font> "
   ]
  },
  {
   "cell_type": "markdown",
   "metadata": {},
   "source": [
    "<font face=\"宋体\" >本讲目录：  \n",
    "8.1. 机器学习原理  \n",
    "8.2. 线性回归、岭回归和Lasso回归  \n",
    "8.3. K近邻算法  \n",
    "8.4. 朴素贝叶斯算法  \n",
    "8.5. 机器学习实操案例</font>  "
   ]
  },
  {
   "cell_type": "markdown",
   "metadata": {},
   "source": [
    "## 8.5. 机器学习实操案例"
   ]
  },
  {
   "cell_type": "markdown",
   "metadata": {},
   "source": [
    "<font face=\"宋体\" >利用朴素贝叶斯根据人员姓名来作性别预测，原始数据来源于一个竞赛，训练样本：12万，成功率：约85%</font>  "
   ]
  },
  {
   "cell_type": "markdown",
   "metadata": {},
   "source": [
    "### 文本数据特征工程：one-hot"
   ]
  },
  {
   "cell_type": "code",
   "execution_count": null,
   "metadata": {},
   "outputs": [],
   "source": [
    "from IPython.display import Image\n",
    "path='D:/python/郭峰Python讲义/数据与结果/08机器学习入门/'\n",
    "Image(filename = path+'one_hot.png', width=500, height=260)"
   ]
  },
  {
   "cell_type": "markdown",
   "metadata": {},
   "source": [
    "<font face=\"宋体\" >one-hot表达文本是一个非常初级的方式，更高级的文本处理是正在蓬勃发展的自然语言处理(NLP)，超出了本课程的范围，本部分使用的仍然只是一个one-hot方法</font>  "
   ]
  },
  {
   "cell_type": "markdown",
   "metadata": {},
   "source": [
    "### 导入第三方模块和数据"
   ]
  },
  {
   "cell_type": "code",
   "execution_count": null,
   "metadata": {},
   "outputs": [],
   "source": [
    "#导入相关第三方库\n",
    "import pandas as pd\n",
    "import time\n",
    "from collections import defaultdict\n",
    "import joblib                #可能需要安装 pip install joblib\n",
    "import datetime\n",
    "from sklearn.naive_bayes import GaussianNB\n",
    "from sklearn.naive_bayes import BernoulliNB\n",
    "from sklearn.naive_bayes import MultinomialNB\n",
    "from sklearn.model_selection import cross_val_score\n",
    "from numpy import *\n",
    "from sklearn.model_selection import train_test_split\n",
    "starttime = datetime.datetime.now()\n",
    "\n",
    "#导入数据\n",
    "path=\"D:/python/郭峰Python讲义/数据与结果/08机器学习入门/name_and_gender/\"\n",
    "data=pd.read_csv(path+'train.txt',encoding='utf8')  #一个竞赛网站12万样本\n",
    "data['name']=data['name'].astype(str)\n",
    "data['gender']=data['gender'].astype(int)\n",
    "print(data.shape)\n",
    "data.head(5)"
   ]
  },
  {
   "cell_type": "code",
   "execution_count": null,
   "metadata": {},
   "outputs": [],
   "source": [
    "#如果数据量非常大，可以先将数据分出一部分，用于编写程序【仅用来演示，没有随机】\n",
    "data_train=data.sample(10000) #如果样本非常大，可以先随机挑选一部分，用于编程演示\n",
    "print(\"随机挑选一部分进行建模：\",data_train.shape)"
   ]
  },
  {
   "cell_type": "code",
   "execution_count": null,
   "metadata": {},
   "outputs": [],
   "source": [
    "#特征x是姓名用字，需要将x转换为一个数字化的向量\n",
    "#所有姓名合并在一起，去重，构造一个姓名用字池向量\n",
    "name_vec_total=list(data_train['name'])  \n",
    "print(name_vec_total[0:20])"
   ]
  },
  {
   "cell_type": "code",
   "execution_count": null,
   "metadata": {},
   "outputs": [],
   "source": [
    "name_vec_total=''.join(name_vec_total)\n",
    "print(name_vec_total[0:20])\n",
    "name_vec_total=list(''.join(name_vec_total))\n",
    "print(name_vec_total[0:20])\n",
    "print(\"语料库原始总字数：\",len(name_vec_total))\n",
    "print(237690/120000)"
   ]
  },
  {
   "cell_type": "code",
   "execution_count": null,
   "metadata": {},
   "outputs": [],
   "source": [
    "print(\"不重复字样本量：\",len(set(name_vec_total)))"
   ]
  },
  {
   "cell_type": "code",
   "execution_count": null,
   "metadata": {},
   "outputs": [],
   "source": [
    "#去掉不常见的字\n",
    "freq=defaultdict(int)\n",
    "for w in name_vec_total:\n",
    "    freq[w]+=1\n",
    "name_vec_total=[w  for w in name_vec_total if freq[w]>5]\n",
    "name_vec_total=list(set(name_vec_total)) #去重后再转换成列表\n",
    "print(\"剔除稀缺字后不重复字样本量：\",len(set(name_vec_total)))\n",
    "print(\"不重复姓名用字举例:\",name_vec_total[0:20])"
   ]
  },
  {
   "cell_type": "code",
   "execution_count": null,
   "metadata": {},
   "outputs": [],
   "source": [
    "#姓名用字库保存一下\n",
    "f=open(path+'name_vec_total.txt','w',encoding='utf8')\n",
    "f.write(';'.join(name_vec_total))\n",
    "f.close()"
   ]
  },
  {
   "cell_type": "code",
   "execution_count": null,
   "metadata": {},
   "outputs": [],
   "source": [
    "#把具体某个姓名(如“建国”)的用字用上述姓名用字池向量来表示\n",
    "def words2vec(inputSet): #inputSet是待定义姓名,这个函数基于上文得到的name_total\n",
    "    returnVec = [0] * len(name_vec_total)    #获得所有单词等长的0列表\n",
    "    for word in inputSet:\n",
    "        if word in name_vec_total:\n",
    "            returnVec[name_vec_total.index(word)] += 1   #对应单词位置加1\n",
    "    return returnVec\n",
    "#这个方式是在dataframe中计算\n",
    "data_train['name_vec']=data_train['name'].apply(words2vec)"
   ]
  },
  {
   "cell_type": "code",
   "execution_count": null,
   "metadata": {},
   "outputs": [],
   "source": [
    "#也可以先转换成list后再计算\n",
    "name=list(data_train['name'])\n",
    "print(\"姓名举例:\",name[0:20])\n",
    "name_vec=[words2vec(n) for n in name]   #特征x是用向量表示的姓名，这是一个嵌套列表，会占用内存超级多\n",
    "print(name_vec[0])"
   ]
  },
  {
   "cell_type": "code",
   "execution_count": null,
   "metadata": {},
   "outputs": [],
   "source": [
    "#相应y为gender，\n",
    "gender_vec=list(data_train['gender'])\n",
    "print(gender_vec[0:20])"
   ]
  },
  {
   "cell_type": "code",
   "execution_count": null,
   "metadata": {},
   "outputs": [],
   "source": [
    "#训练集和验证集分割\n",
    "x_train,x_test,y_train,y_test=train_test_split(name_vec,gender_vec,test_size=0.1)\n",
    "print(len(x_train))\n",
    "print(len(x_test))"
   ]
  },
  {
   "cell_type": "code",
   "execution_count": null,
   "metadata": {},
   "outputs": [],
   "source": [
    "#朴素贝叶斯分类\n",
    "#高斯，高斯结果一直不太好\n",
    "bayes_g=GaussianNB()\n",
    "bayes_g= bayes_g.fit(x_train,y_train)\n",
    "y_pred=bayes_g.predict(x_test)\n",
    "print(\"测试集预测：\",y_pred[0:20])\n",
    "print(\"Gaussian正确率 {:05.2f}%\" .format(100*(1-(sum(array(y_pred)!=array(y_test))/len(y_test)))))\n"
   ]
  },
  {
   "cell_type": "code",
   "execution_count": null,
   "metadata": {},
   "outputs": [],
   "source": [
    "#多项式\n",
    "bayes_m=MultinomialNB()\n",
    "bayes_m=bayes_m.fit(x_train,y_train)\n",
    "y_pred=bayes_m.predict(x_test)\n",
    "print(\"测试集预测：\",y_pred[0:20])\n",
    "print(\"MultinomialNB正确率 {:05.2f}%\" .format(100*(1-(sum(array(y_pred)!=array(y_test))/len(y_test)))))\n"
   ]
  },
  {
   "cell_type": "code",
   "execution_count": null,
   "metadata": {},
   "outputs": [],
   "source": [
    "#Bernoulli\n",
    "bayes_b=BernoulliNB()\n",
    "bayes_b=bayes_b.fit(x_train,y_train)\n",
    "y_pred=bayes_b.predict(x_test)\n",
    "print(\"验证集预测：\",y_pred[0:20])\n",
    "print(\"BernoulliNB验证集正确率 {:05.2f}%\" .format(100*(1-(sum(array(y_pred)!=array(y_test))/len(y_test)))))\n"
   ]
  },
  {
   "cell_type": "code",
   "execution_count": null,
   "metadata": {},
   "outputs": [],
   "source": [
    "#模型保存\n",
    "joblib.dump(bayes_b,path+'bayes_bernoulli_nb'+'.model')  #模型的保存"
   ]
  },
  {
   "cell_type": "code",
   "execution_count": null,
   "metadata": {},
   "outputs": [],
   "source": [
    "#test集的预测\n",
    "path=\"D:/python/郭峰Python讲义/数据与结果/08机器学习入门/name_and_gender/\"\n",
    "data2=pd.read_csv(path+'test.txt',encoding='utf8')  #一个竞赛网站12万样本\n",
    "data2['name']=data2['name'].astype(str)\n",
    "print(data2.shape)\n",
    "print(data2.head())"
   ]
  },
  {
   "cell_type": "code",
   "execution_count": null,
   "metadata": {},
   "outputs": [],
   "source": [
    "name_new=list(data2['name']) \n",
    "print(name_new[0:20])"
   ]
  },
  {
   "cell_type": "code",
   "execution_count": null,
   "metadata": {},
   "outputs": [],
   "source": [
    "x_test_new=[words2vec(n) for n in name_new]   \n",
    "print(x_test_new[0])"
   ]
  },
  {
   "cell_type": "code",
   "execution_count": null,
   "metadata": {},
   "outputs": [],
   "source": [
    "y_pred_new=bayes_b.predict(x_test_new)\n",
    "print(y_pred_new[0:20])"
   ]
  },
  {
   "cell_type": "code",
   "execution_count": null,
   "metadata": {},
   "outputs": [],
   "source": [
    "name_new=['峰']\n",
    "print(name_new)\n",
    "x_test_new=[words2vec(n) for n in name_new]   \n",
    "#print(x_test_new[0])\n",
    "y_pred_new=bayes_b.predict(x_test_new)\n",
    "print(y_pred_new)"
   ]
  },
  {
   "cell_type": "code",
   "execution_count": null,
   "metadata": {},
   "outputs": [],
   "source": [
    "#练习：可以尝试编写代码，将cssci数据集中的论文作者的性别推测出来"
   ]
  },
  {
   "cell_type": "markdown",
   "metadata": {},
   "source": [
    "<font face=\"宋体\" >其他常见的机器学习还包括：随机森林、支持向量机、神经网络等等，均超出了本课程的范围</font>  "
   ]
  },
  {
   "cell_type": "markdown",
   "metadata": {},
   "source": [
    "<font face=\"微软雅黑\" size=3>本讲结束</font>"
   ]
  }
 ],
 "metadata": {
  "kernelspec": {
   "display_name": "Python 3",
   "language": "python",
   "name": "python3"
  },
  "language_info": {
   "codemirror_mode": {
    "name": "ipython",
    "version": 3
   },
   "file_extension": ".py",
   "mimetype": "text/x-python",
   "name": "python",
   "nbconvert_exporter": "python",
   "pygments_lexer": "ipython3",
   "version": "3.6.2"
  }
 },
 "nbformat": 4,
 "nbformat_minor": 2
}
