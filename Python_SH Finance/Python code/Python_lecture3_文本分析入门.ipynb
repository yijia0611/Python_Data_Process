{
 "cells": [
  {
   "cell_type": "markdown",
   "metadata": {},
   "source": [
    "# 第3讲 文本分析入门"
   ]
  },
  {
   "cell_type": "markdown",
   "metadata": {},
   "source": [
    "<font face=\"宋体\" >郭峰（Email：guofengsfi@163.com)   \n",
    "副教授、博士生导师  \n",
    "上海财经大学公共经济与管理学院 </font> "
   ]
  },
  {
   "cell_type": "markdown",
   "metadata": {},
   "source": [
    "<font face=\"宋体\" >本讲目录：  \n",
    "3.1.外部数据的读取与存储  \n",
    "3.2 文本分析综合演练  \n",
    "3.3.中文分词  \n",
    "3.4.文本向量化表示  \n",
    "3.5.文本编码格式  \n",
    "3.6.第三方模块安装\n",
    "</font>"
   ]
  },
  {
   "cell_type": "markdown",
   "metadata": {},
   "source": [
    "## 3.1.外部数据的读取与存储"
   ]
  },
  {
   "cell_type": "markdown",
   "metadata": {},
   "source": [
    "数据有各种各样的格式，txt、csv、doc、docx、excel、pdf、地理栅格数据、图像数据"
   ]
  },
  {
   "cell_type": "markdown",
   "metadata": {},
   "source": [
    "### txt格式数据读取"
   ]
  },
  {
   "cell_type": "markdown",
   "metadata": {},
   "source": [
    "<font face=\"微软雅黑\" size=3>文件读取方式 </font> "
   ]
  },
  {
   "cell_type": "markdown",
   "metadata": {},
   "source": [
    "<font face=\"宋体\" >常见的读取文件的模式有三种：r(只读模式，默认)；w（只写模式，不存在则创建；存在则删除内容）；a（追加模式，可读，不存在则创建，存在则追加内容）。</font> "
   ]
  },
  {
   "cell_type": "markdown",
   "metadata": {},
   "source": [
    "<font face=\"宋体\" >更完整的读取方式介绍：https://blog.csdn.net/qq_35962520/article/details/85144611</font> "
   ]
  },
  {
   "cell_type": "markdown",
   "metadata": {},
   "source": [
    "<font face=\"微软雅黑\" size=3>读取txt文件</font> "
   ]
  },
  {
   "cell_type": "code",
   "execution_count": null,
   "metadata": {},
   "outputs": [],
   "source": [
    "path='D:/python/郭峰Python讲义/数据与结果/03文本分析入门/'\n",
    "gov_report=open(path+'政府工作报告2018.txt','r',encoding='gbk')   \n",
    "data=gov_report.read()  #data是一个字符串\n",
    "print(len(data))\n",
    "print(data[0:200])\n",
    "#gov_report.close()  #关闭文件，但data仍然存在\n",
    "#注：gdk代表编码格式 可以用来读中文，详见第3.5节"
   ]
  },
  {
   "cell_type": "markdown",
   "metadata": {},
   "source": [
    "<font face=\"宋体\" >读取数据后可以关闭文件，f.close(),如果不关闭，本地无法修改、删除等操作</font> "
   ]
  },
  {
   "cell_type": "markdown",
   "metadata": {},
   "source": [
    "<font face=\"宋体\" >可以先指定路径，再读取，也可以直接读取(默认文件夹)</font> "
   ]
  },
  {
   "cell_type": "code",
   "execution_count": null,
   "metadata": {},
   "outputs": [],
   "source": [
    "gov_report=open('政府工作报告2018.txt','r',encoding='gbk')   \n",
    "data=gov_report.read()  \n",
    "print(len(data))\n",
    "print(data[0:200])"
   ]
  },
  {
   "cell_type": "code",
   "execution_count": null,
   "metadata": {},
   "outputs": [],
   "source": [
    "<font face=\"宋体\" >补充说明：并非要保存在Notebook安装路径下，只要python代码和数据在同一路径下即可</font> "
   ]
  },
  {
   "cell_type": "markdown",
   "metadata": {},
   "source": [
    "<font face=\"微软雅黑\" size=3>设置默认文件夹</font> "
   ]
  },
  {
   "cell_type": "code",
   "execution_count": null,
   "metadata": {},
   "outputs": [],
   "source": [
    "import os  #os是操作系统模块\n",
    "os.chdir(\"D:/python/郭峰Python讲义/数据与结果/03文本分析入门/\")\n",
    "gov_report=open('政府工作报告2018.txt','r',encoding='gbk')  \n",
    "data=gov_report.read() \n",
    "print(len(data))\n",
    "gov_report.close() "
   ]
  },
  {
   "cell_type": "markdown",
   "metadata": {},
   "source": [
    "<font face=\"微软雅黑\" size=3>实例</font> "
   ]
  },
  {
   "cell_type": "code",
   "execution_count": null,
   "metadata": {},
   "outputs": [],
   "source": [
    "#建国70年大事记\n",
    "path='D:/python/郭峰Python讲义/数据与结果/03文本分析入门/'\n",
    "dsj=open(path+'大事记.txt','r',encoding='utf8')   \n",
    "data=dsj.read()  \n",
    "print(len(data))  #统计文本长度"
   ]
  },
  {
   "cell_type": "code",
   "execution_count": null,
   "metadata": {},
   "outputs": [],
   "source": [
    "#统计关键人物出现次数\n",
    "print(data.count('毛泽东'))\n",
    "print(data.count('邓小平'))\n",
    "print(data.count('江泽民'))\n",
    "print(data.count('胡锦涛'))\n",
    "print(data.count('习近平'))"
   ]
  },
  {
   "cell_type": "code",
   "execution_count": null,
   "metadata": {},
   "outputs": [],
   "source": [
    "#练习3.1：网上找一个文字材料，改革开放四十周年大事记，然后统计\"改革”、”开放\"，\n",
    "#以及你感兴趣的其他词各出现多少次"
   ]
  },
  {
   "cell_type": "markdown",
   "metadata": {},
   "source": [
    "<font face=\"微软雅黑\" size=3>创建txt文件</font> "
   ]
  },
  {
   "cell_type": "markdown",
   "metadata": {},
   "source": [
    "<font face=\"宋体\" >创建txt文件，如果没有则创建，如果有，则覆盖（w),或追加（a)</font> "
   ]
  },
  {
   "cell_type": "code",
   "execution_count": null,
   "metadata": {},
   "outputs": [],
   "source": [
    "path='D:/python/郭峰Python讲义/数据与结果/03文本分析入门/'\n",
    "temp=open(path+'txt_test.txt','w',encoding='utf8')   \n",
    "temp.close() "
   ]
  },
  {
   "cell_type": "markdown",
   "metadata": {},
   "source": [
    "<font face=\"微软雅黑\" size=3>数据存储：覆盖</font> "
   ]
  },
  {
   "cell_type": "code",
   "execution_count": null,
   "metadata": {},
   "outputs": [],
   "source": [
    "path='D:/python/郭峰Python讲义/数据与结果/03文本分析入门/'\n",
    "f=open(path+'txt_test.txt','w',encoding='utf8')\n",
    "f.write('hello word')\n",
    "f.close()"
   ]
  },
  {
   "cell_type": "markdown",
   "metadata": {},
   "source": [
    "<font face=\"微软雅黑\" size=3>数据存储：追加</font> "
   ]
  },
  {
   "cell_type": "code",
   "execution_count": null,
   "metadata": {},
   "outputs": [],
   "source": [
    "path='D:/python/郭峰Python讲义/数据与结果/03文本分析入门/'\n",
    "f=open(path+'txt_test.txt','a',encoding='utf8')\n",
    "f.write('\\n'+'hello word for second time')\n",
    "f.close()"
   ]
  },
  {
   "cell_type": "code",
   "execution_count": null,
   "metadata": {},
   "outputs": [],
   "source": [
    "#练习3.2：在上一个练习基础上，把统计的第一个词以及对应的数量，保存到txt文件中，追加的方式。"
   ]
  },
  {
   "cell_type": "code",
   "execution_count": null,
   "metadata": {},
   "outputs": [],
   "source": [
    "#练习3.3：在上一个练习基础上，把其他的词和数量，以追加的方式，输出到txt文件。"
   ]
  },
  {
   "cell_type": "markdown",
   "metadata": {},
   "source": [
    "### csv数据读取"
   ]
  },
  {
   "cell_type": "markdown",
   "metadata": {},
   "source": [
    "<font face=\"微软雅黑\" size=3>csv数据读写 </font>  "
   ]
  },
  {
   "cell_type": "markdown",
   "metadata": {},
   "source": [
    "<font face=\"宋体\" >csv（comma-separated values，逗号分割值），有时候也称为字符分割值，因为分隔符也可以不是逗号；csv以纯文本形式存储表格数据（数字和文本等）</font>  "
   ]
  },
  {
   "cell_type": "code",
   "execution_count": null,
   "metadata": {},
   "outputs": [],
   "source": [
    "path='D:/python/郭峰Python讲义/数据与结果/03文本分析入门/'\n",
    "gdp=open(path+'gdp.csv','r')\n",
    "data=gdp.read()  #读取所有\n",
    "#gdp.close()  #关闭后这里仍存在\n",
    "print(data)   \n",
    "#data是一个字符串，并非一个行*列的结构化数据，python处理结构化数据为pandas，之后会详细讲解"
   ]
  },
  {
   "cell_type": "code",
   "execution_count": null,
   "metadata": {},
   "outputs": [],
   "source": [
    "#练习3.4：将上述gdp数据的年份和gdp改造成两个列表"
   ]
  },
  {
   "cell_type": "code",
   "execution_count": null,
   "metadata": {},
   "outputs": [],
   "source": [
    "#答案：\n",
    "#步骤1：换行符分割\n",
    "data=data.split('\\n')\n",
    "print(data)"
   ]
  },
  {
   "cell_type": "code",
   "execution_count": null,
   "metadata": {},
   "outputs": [],
   "source": [
    "#步骤2：嵌套分割\n",
    "data=[d.split(',') for d in data[0:-1]]\n",
    "print(data)"
   ]
  },
  {
   "cell_type": "code",
   "execution_count": null,
   "metadata": {},
   "outputs": [],
   "source": [
    "#步骤3：年份和gdp\n",
    "year=[d[0] for d in data]\n",
    "print(year)\n",
    "gdp=[d[1] for d in data[1:]]\n",
    "print(gdp)"
   ]
  },
  {
   "cell_type": "code",
   "execution_count": null,
   "metadata": {},
   "outputs": [],
   "source": [
    "#练习3.5：从头开始，把读入的上述data设置为字典格式"
   ]
  },
  {
   "cell_type": "markdown",
   "metadata": {},
   "source": [
    "<font face=\"微软雅黑\" size=3>csv格式的按行读取 </font>  "
   ]
  },
  {
   "cell_type": "code",
   "execution_count": null,
   "metadata": {
    "scrolled": false
   },
   "outputs": [],
   "source": [
    "file = open(path+\"actors.csv\",encoding='gbk')\n",
    "lines=file.readlines()\n",
    "print(lines)"
   ]
  },
  {
   "cell_type": "markdown",
   "metadata": {},
   "source": [
    "<font face=\"微软雅黑\" size=3>两种读取方法对比 </font>  "
   ]
  },
  {
   "cell_type": "code",
   "execution_count": null,
   "metadata": {},
   "outputs": [],
   "source": [
    "file = open(path+\"actors.csv\",encoding='gbk')\n",
    "data = file.read()   # 读取所有\n",
    "file.close()\n",
    "print(data)"
   ]
  },
  {
   "cell_type": "markdown",
   "metadata": {},
   "source": [
    "<font face=\"微软雅黑\" size=3>另一种读取csv的方法 </font>  "
   ]
  },
  {
   "cell_type": "code",
   "execution_count": null,
   "metadata": {},
   "outputs": [],
   "source": [
    "import csv  #读取csv，需要import一下\n",
    "path='D:/python/郭峰Python讲义/数据与结果/03文本分析入门/'\n",
    "csvfile=open(path+'gdp.csv')\n",
    "c=csv.reader(csvfile)\n",
    "for row in c:\n",
    "    print(row)"
   ]
  },
  {
   "cell_type": "markdown",
   "metadata": {},
   "source": [
    "<font face=\"微软雅黑\" size=3>数据保存为csv </font>  "
   ]
  },
  {
   "cell_type": "code",
   "execution_count": null,
   "metadata": {},
   "outputs": [],
   "source": [
    "import csv\n",
    "with open(path+\"test.csv\",\"w\") as csvfile: \n",
    "    writer = csv.writer(csvfile)\n",
    "    #先写入columns_name\n",
    "    writer.writerow([\"index\",\"a_name\",\"b_name\"])\n",
    "    #写入多行用writerows\n",
    "    writer.writerows([[0,1,3],[1,2,3],[2,3,4]])"
   ]
  },
  {
   "cell_type": "code",
   "execution_count": null,
   "metadata": {},
   "outputs": [],
   "source": [
    "#练习3.6：上述数据写入test.csv之后，出现一些空白行，试通过百度，自行找到解决办法（很简单）"
   ]
  },
  {
   "cell_type": "markdown",
   "metadata": {},
   "source": [
    "<font face=\"微软雅黑\" size=3>with读取方法 </font> "
   ]
  },
  {
   "cell_type": "markdown",
   "metadata": {},
   "source": [
    "<font face=\"宋体\" >有文献推荐使用with的读取方式:with代码块执行完任务时，内部会自动关闭并释放文件资源 </font> "
   ]
  },
  {
   "cell_type": "code",
   "execution_count": null,
   "metadata": {},
   "outputs": [],
   "source": [
    "#with open(filepath,'r',encoding=encoding, errors='rgnore') as file:\n",
    "#    data=file.read()"
   ]
  },
  {
   "cell_type": "code",
   "execution_count": null,
   "metadata": {},
   "outputs": [],
   "source": [
    "with open(path+'gdp.csv','r',encoding='gbk') as gdp:\n",
    "    g=gdp.read()    #readlines()全部读取\n",
    "#print(g)\n",
    "#省略了f.close()"
   ]
  },
  {
   "cell_type": "markdown",
   "metadata": {},
   "source": [
    "<font face=\"宋体\" >附录：批量生成\"省份*年份\"的空白txt文件</font> "
   ]
  },
  {
   "cell_type": "code",
   "execution_count": null,
   "metadata": {},
   "outputs": [],
   "source": [
    "path='D:/python/郭峰Python讲义/数据与结果/03文本分析入门/政府工作报告/'\n",
    "pathn='D:/python/郭峰Python讲义/数据与结果/03文本分析入门/政府工作报告/nodata_prov/'\n",
    "file1='省份名称.txt'\n",
    "file2='年份.txt'"
   ]
  },
  {
   "cell_type": "code",
   "execution_count": null,
   "metadata": {},
   "outputs": [],
   "source": [
    "#步骤1：读取省份名称\n",
    "prov_name = open(path+file1,encoding='gbk',errors='replace')\n",
    "prov_name=prov_name.read()\n",
    "print(prov_name)"
   ]
  },
  {
   "cell_type": "code",
   "execution_count": null,
   "metadata": {},
   "outputs": [],
   "source": [
    "#步骤2：提取省份列表\n",
    "prov_name=prov_name.split('\\n')\n",
    "print(prov_name) #以换行符来分割的时候，末尾多了一个"
   ]
  },
  {
   "cell_type": "code",
   "execution_count": null,
   "metadata": {},
   "outputs": [],
   "source": [
    "#步骤3：年份列表提取\n",
    "year = open(path+file2,encoding='gbk',errors='replace')\n",
    "year=year.read()\n",
    "year=year.split('\\n')\n",
    "print(year)  #末尾同样多了一个"
   ]
  },
  {
   "cell_type": "code",
   "execution_count": null,
   "metadata": {},
   "outputs": [],
   "source": [
    "#步骤4：生成31省份*20年的空白文件\n",
    "for y in year[0:-1]:\n",
    "    for p in prov_name[0:-1]:\n",
    "        f= open(pathn+str(p)+\"_\"+str(y)+'.txt','w+') \n",
    "        f.close()"
   ]
  },
  {
   "cell_type": "markdown",
   "metadata": {},
   "source": [
    "<font face=\"微软雅黑\" size=3>第三方模块os  </font> "
   ]
  },
  {
   "cell_type": "markdown",
   "metadata": {},
   "source": [
    "<font face=\"宋体\" >第三方库os提供程序与操作系统直接操作的各个功能  </font> "
   ]
  },
  {
   "cell_type": "markdown",
   "metadata": {},
   "source": [
    "<font face=\"宋体\" >【实战操作】生成\"城市*年份\"的空白txt文件,利用的是城市地方工作报告文件夹目录 </font> "
   ]
  },
  {
   "cell_type": "code",
   "execution_count": null,
   "metadata": {
    "scrolled": true
   },
   "outputs": [],
   "source": [
    "import os\n",
    "path='D:/python/郭峰Python讲义/数据与结果/03文本分析入门/政府工作报告/政府工作报告/'\n",
    "pathn='D:/python/郭峰Python讲义/数据与结果/03文本分析入门/政府工作报告/nodata_city/'\n",
    "files= os.listdir(path)  #得到文件夹下的所有文件名称  \n",
    "print(files[0:10])"
   ]
  },
  {
   "cell_type": "code",
   "execution_count": null,
   "metadata": {},
   "outputs": [],
   "source": [
    "for file in files:\n",
    "    fn= open(pathn+file[0:-8]+\"_\"+file[-8:-4]+'.txt','w+') \n",
    "    fn.close()"
   ]
  },
  {
   "cell_type": "markdown",
   "metadata": {},
   "source": [
    "<font face=\"宋体\" >os模块更多用途  \n",
    "os.getcwd()：得到当前的工作目录  \n",
    "os.listdir() ：返回制定目录下的所有文件和目录名  \n",
    "os.path.dirpath()：获取路径名称  \n",
    "os.path.abspath()：获取绝对路径  \n",
    "os.path.basename() ：获取当前的文件名称  \n",
    "os.replace(old，new) ：将文件重命名   \n",
    "os.path.join(path,name) ：将名称为name的字符串与path路径拼接  \n",
    "os.path.getsize(filename) : 获取文件的大小  \n",
    "os.path.split() :返回一个文件的目录名和文件名  \n",
    "os.chdir():设定当前工作目录  \n",
    "os.makedirs(path+name):创建绝对路径下文件夹名,不指定path则在默认工作目录下创建文件夹 </font> "
   ]
  },
  {
   "cell_type": "markdown",
   "metadata": {},
   "source": [
    "<font face=\"宋体\" >os参考资料：https://docs.python.org/zh-cn/3/library/os.html#os-file-dir  </font> "
   ]
  },
  {
   "cell_type": "code",
   "execution_count": null,
   "metadata": {},
   "outputs": [],
   "source": [
    "#练习3.7：批量阅读上述生成的空白文档，然后每一个文档内写入这个城市的名称，\n",
    "#之后保存成另外一个文档，文档名为“城市名_年份_new\""
   ]
  },
  {
   "cell_type": "markdown",
   "metadata": {},
   "source": [
    "## 3.2 文本分析综合演练"
   ]
  },
  {
   "cell_type": "markdown",
   "metadata": {},
   "source": [
    "<font face=\"微软雅黑\" size=3>txt字数统计，一个文件 </font>   "
   ]
  },
  {
   "cell_type": "code",
   "execution_count": null,
   "metadata": {},
   "outputs": [],
   "source": [
    "path='D:/python/郭峰Python讲义/数据与结果/03文本分析入门/'\n",
    "f= open(path+\"政府工作报告2018.txt\",\"r\")\n",
    "report=f.read()  \n",
    "#print(report)\n",
    "report_len = len(report)                \n",
    "line_num = report.count(\"\\n\")+1       #统计行数\n",
    "line_lkq = report.count(\"李克强\") \n",
    "words_num = len(report.split())     #统计单词数,这个适合于英文文本，这里强行应用而已，将字符串按空格分割成一个list，统计list的长度\n",
    "print(\"字符数：%s,\\n行数:%s,\\n单词数量%s\"%(report_len,line_num,words_num))\n",
    "print(report_len)"
   ]
  },
  {
   "cell_type": "markdown",
   "metadata": {},
   "source": [
    "<font face=\"微软雅黑\" size=3>字数统计,文件夹批量处理</font> "
   ]
  },
  {
   "cell_type": "code",
   "execution_count": null,
   "metadata": {},
   "outputs": [],
   "source": [
    "import os\n",
    "path = \"D:/python/郭峰Python讲义/数据与结果/03文本分析入门/政府工作报告/政府工作报告/\" #文件夹目录  \n",
    "path2 = \"D:/python/郭峰Python讲义/数据与结果/03文本分析入门/\" #结果目录  \n",
    "files= os.listdir(path)  #得到文件夹下的所有文件名称\n",
    "print(files[0:10])\n",
    "wnum={}   #定义一个空字典\n",
    "for file in files:    #遍历文件夹\n",
    "     #print(file)\n",
    "     if not os.path.isdir(file):      #判断是否是文件夹，不是文件夹才打开  \n",
    "          f = open(path+file,encoding='gbk',errors=\"replace\")     #打开文件  \n",
    "          try:\n",
    "                text=f.read()\n",
    "                file=file[:-4]\n",
    "                wnum[file]=len(text)     #一个字典\n",
    "          except:                        #try, except是查验错误的一种方式，正确的话就执行，错误的话，输出到底哪个错误了\n",
    "                print(file)\n",
    "#print(wnum)\n",
    "f = open(path2+\"city_wordnum.txt\", \"w+\")  #结果读入到一个txt文件当中\n",
    "f.write(\"city\"+\"\\t\"+\"year\"+\"\\t\"+\"wnum\"+\"\\n\")  #列名\n",
    "for key in wnum:\n",
    "    f.write(key[:-4]+\"\\t\"+key[-4:]+\"\\t\"+str(wnum[key])+\"\\n\")\n",
    "f.close()"
   ]
  },
  {
   "cell_type": "code",
   "execution_count": null,
   "metadata": {},
   "outputs": [],
   "source": [
    "#练习3.8：在上一个代码上修改，不生成字典，每次循环后直接把结果输出到csv文件中"
   ]
  },
  {
   "cell_type": "markdown",
   "metadata": {},
   "source": [
    "### 字频统计"
   ]
  },
  {
   "cell_type": "code",
   "execution_count": null,
   "metadata": {},
   "outputs": [],
   "source": [
    "#先定义一个函数，然后进行调用，编程经验丰富者的常用方法\n",
    "def count_chinese_word(filepath, encoding='gb2312'):\n",
    "    word_num = {}    \n",
    "    with open (filepath, 'r', encoding= encoding ,errors=\"ignore\") as txt_file:\n",
    "        text=txt_file.read()\n",
    "        #print(text)\n",
    "        for uchar in text:\n",
    "            if is_chinese(uchar):\n",
    "                if uchar in word_num:\n",
    "                    word_num[uchar] = word_num[uchar] + 1\n",
    "                else:\n",
    "                    word_num[uchar] = 1\n",
    "    return word_num\n",
    "\n",
    "#上面的函数调用下面的函数，下面这个函数用来判断是否汉字\n",
    "#根据汉字编码在统一编码中所占的区间来标识，阿拉伯数字被排除在外了。\n",
    "def is_chinese(uchar):   \n",
    "    if uchar >= u'\\u4E00' and uchar <= u'\\u9FA5':\n",
    "        return True\n",
    "    else:\n",
    "        return False\n",
    "    \n",
    "path=\"D:/python/郭峰Python讲义/数据与结果/03文本分析入门/\"\n",
    "d=count_chinese_word(path+'政府工作报告2018.txt')\n",
    "print(d['中'])\n",
    "#d=list(d.items())\n",
    "#print(d[0:20])\n",
    "d=sorted(d.items(),key=lambda t:t[1], reverse=True)\n",
    "print(d[0:20])"
   ]
  },
  {
   "cell_type": "code",
   "execution_count": null,
   "metadata": {},
   "outputs": [],
   "source": [
    "#练习3.9：把上述代码应用在改革开放四十年大事记上，看大事记中，最常见（前20个）的字有哪些。"
   ]
  },
  {
   "cell_type": "markdown",
   "metadata": {},
   "source": [
    "### 关键词提取和统计"
   ]
  },
  {
   "cell_type": "markdown",
   "metadata": {},
   "source": [
    "<font face=\"微软雅黑\" size=3>批量关键词数量统计，输入txt，输出一个txt文件</font>"
   ]
  },
  {
   "cell_type": "code",
   "execution_count": null,
   "metadata": {},
   "outputs": [],
   "source": [
    "import os\n",
    "\n",
    "path = \"D:/python/郭峰Python讲义/数据与结果/03文本分析入门/政府工作报告/政府工作报告/\" #文件夹目录  \n",
    "path2 = \"D:/python/郭峰Python讲义/数据与结果/03文本分析入门/\" #结果目录  \n",
    "\n",
    "keyword='债'     #想统计什么在这里改动就行了\n",
    "fn = open(path2+\"citybaogao_keyword_num2.txt\", \"w+\",encoding='gbk',errors='replace')  #统计结果读入到一个txt文件当中\n",
    "fn.write(\"city_name\"+\" \"+\"year\"+\" \"+\"num\"+\"\\n\")\n",
    "\n",
    "files= os.listdir(path)  #得到文件夹下的所有文件名称  \n",
    "keyword_num=0  #没有再定义成一个字典，直接将结果存储到新的txt文档当中\n",
    "for file in files: \n",
    "    f = open(path+file,encoding='gbk',errors='replace') \n",
    "    try:\n",
    "        text=f.read()\n",
    "        file=file[:-4]\n",
    "        wordnum=text.count(keyword)\n",
    "        fn.write(str(file[:-4])+\" \"+str(file[-4:])+\" \"+str(wordnum)+\"\\n\")\n",
    "        keyword_num=keyword_num+wordnum  #统计这个词累计出现了多少次\n",
    "    except:\n",
    "        print(file)\n",
    "    f.close()\n",
    "fn.close()\n",
    "print(keyword_num)"
   ]
  },
  {
   "cell_type": "markdown",
   "metadata": {},
   "source": [
    "<font face=\"微软雅黑\" size=3>附录：挑出一系列关键词所在的句子,不重复出现。</font>"
   ]
  },
  {
   "cell_type": "code",
   "execution_count": null,
   "metadata": {},
   "outputs": [],
   "source": [
    "import re\n",
    "import os\n",
    "\n",
    "#教学案例\n",
    "path= \"D:/python/郭峰Python讲义/数据与结果/03文本分析入门/政府工作报告/政府工作报告/\"\n",
    "pathn= \"D:/python/郭峰Python讲义/数据与结果/03文本分析入门//\" \n",
    "\n",
    "keywords=['城投','债','融资平台'] #城投债论文\n",
    "#keywords=['金融','信贷','贷款','融资','债券','集资','借贷','上市','银行','证券','信托','私募','股权基金'] #学生毕业论文\n",
    "length=len(keywords)\n",
    "keywordnum=0\n",
    "fn = open(pathn+\"keywordnearby.txt\", \"w+\",encoding='gbk',errors='replace') \n",
    "files= os.listdir(path)  #得到文件夹下的所有文件名称  \n",
    "for file in files: \n",
    "    fn.write(str('\\n'+file[:-8]+'*'+file[-8:-4]+'*'))\n",
    "    f = open(path+file,'r',encoding='gbk',errors='replace') \n",
    "    text=f.read()\n",
    "    g = re.split(r\"[，。？；,.]\", text) #根据文章中的实际情况添加分割句子的标点，这是一个正则表达式\n",
    "    temp=[]\n",
    "    for line in g:\n",
    "        for i in range(length):\n",
    "            if keywords[i] in line: \n",
    "                if line in temp:\n",
    "                    continue\n",
    "                else:\n",
    "                    temp=temp+[line]\n",
    "                    line_new=line.replace('\\n','')  #删除换行\n",
    "                    line_new=line_new.strip()  #删除空格\n",
    "                    fn.write(line_new+'*')\n",
    "                    keywordnum=keywordnum+1\n",
    "            else:\n",
    "                continue\n",
    "    f.close()\n",
    "fn.close()\n",
    "print(keywordnum)"
   ]
  },
  {
   "cell_type": "markdown",
   "metadata": {},
   "source": [
    "# 3.3. jieba中文分词"
   ]
  },
  {
   "cell_type": "markdown",
   "metadata": {},
   "source": [
    "<font face=\"宋体\" >英文用空格分割了“词”，中文没有这样的分割符号，如果对中文“词”进行分析，就需要对中文文本进行分词,中文分词有一套数学逻辑，并不是唯一的，更技术性介绍，可以百度学习资料</font> "
   ]
  },
  {
   "cell_type": "code",
   "execution_count": 2,
   "metadata": {},
   "outputs": [
    {
     "data": {
      "text/plain": [
       "'0.39'"
      ]
     },
     "execution_count": 2,
     "metadata": {},
     "output_type": "execute_result"
    }
   ],
   "source": [
    "#需要先安装jieba模块：pip install jieba\n",
    "import jieba\n",
    "jieba.__version__"
   ]
  },
  {
   "cell_type": "markdown",
   "metadata": {},
   "source": [
    "<font face=\"微软雅黑\" size=3>jieba分词方法比较</font>  "
   ]
  },
  {
   "cell_type": "code",
   "execution_count": null,
   "metadata": {
    "scrolled": true
   },
   "outputs": [],
   "source": [
    "import jieba \n",
    "seg1 = jieba.cut(\"我来到上海财经大学上学\") # 默认精确模式，这个用来统计词频率\n",
    "print(seg1)\n",
    "print(list(seg1))"
   ]
  },
  {
   "cell_type": "code",
   "execution_count": null,
   "metadata": {},
   "outputs": [],
   "source": [
    "# jieba支持多种分词方式，具体对比如下\n",
    "seg1 = jieba.cut(\"我来到上海财经大学上学\") # 默认精确模式，这个用来统计词频率\n",
    "seg2 = jieba.cut_for_search(\"我来到上海财经大学上学\") #搜索引擎模式\n",
    "seg3 = jieba.cut(\"我来到上海财经大学上学\", cut_all=True) # 全模式\n",
    "print(' '.join(seg1))\n",
    "print(' '.join(seg2))\n",
    "print(' '.join(seg3))"
   ]
  },
  {
   "cell_type": "code",
   "execution_count": null,
   "metadata": {},
   "outputs": [],
   "source": [
    "#也有分的不太好的例子\n",
    "wordList = list(jieba.cut(\"南京市长江大桥视察南京大桥\") ) \n",
    "print(wordList)"
   ]
  },
  {
   "cell_type": "markdown",
   "metadata": {},
   "source": [
    "<font face=\"微软雅黑\" size=3>jieba分词实例</font> "
   ]
  },
  {
   "cell_type": "code",
   "execution_count": 6,
   "metadata": {},
   "outputs": [
    {
     "name": "stderr",
     "output_type": "stream",
     "text": [
      "Building prefix dict from the default dictionary ...\n"
     ]
    },
    {
     "name": "stdout",
     "output_type": "stream",
     "text": [
      "砥砺前行，统筹推进“五位一体”总体布局，协调推进“四个全面”战略布局，改革开放和社会主义现代化建设全面开创新局面。党的十九大确立了习近平新时代中国特色社会主义思想的历史地位，制定了决胜全面建成小康社会、夺取新时代中国特色社会主义伟大胜利的宏伟蓝图和行动纲领，具有重大现实意义和深远历史意义。各地区各部门不断增强政治意识、大局意识、核心意识、看齐意识，深入贯彻落实新发展理念，“十二五”规划胜利完成，“\n",
      "************************我这是一个妖娆的分割线*****************\n"
     ]
    },
    {
     "name": "stderr",
     "output_type": "stream",
     "text": [
      "Dumping model to file cache C:\\Users\\guofe\\AppData\\Local\\Temp\\jieba.cache\n",
      "Loading model cost 1.295 seconds.\n",
      "Prefix dict has been built succesfully.\n"
     ]
    },
    {
     "name": "stdout",
     "output_type": "stream",
     "text": [
      "砥砺  前行  ，  统筹  推进  “  五位一体  ”  总体布局  ，  协调  推进  “  四个  全面  ”  战略  布局  ，  改革开放  和  社会主义  现代化  建设  全面  开  创新  局面  。  党  的  十九  大  确立  了  习近平  新  时代  中国  特色  社会主义  思想  的  历史  地位  ，  制定  了  决胜  全面  建成  小康社会  、  夺取  新  时代  中国  特色  社会主义  伟大胜利  的  宏伟蓝图  和  行动  纲领  ，  具有  重大  现实意义  和  深远  历史  意义  。  各  地区  各  部门  不断  增强  政治  意识  、  大局意识  、  核心  意识  、  看齐  意识  ，  深入  贯彻落实  新  发展  理念  ，  “  十二五  ”  规划  胜利  完成  ，  “\n"
     ]
    }
   ],
   "source": [
    "#政府工资报告\n",
    "path='D:/python/郭峰Python讲义/数据与结果/03文本分析入门/'\n",
    "f= open(path+\"政府工作报告2018.txt\",\"r\")\n",
    "report=f.read()  \n",
    "report=report[200:400]\n",
    "print(report)\n",
    "print('************************我这是一个妖娆的分割线*****************')\n",
    "seg1 = jieba.cut(report)\n",
    "print('  '.join(seg1))"
   ]
  },
  {
   "cell_type": "markdown",
   "metadata": {},
   "source": [
    "<font face=\"微软雅黑\" size=3>分析一份报告出现的中文词汇频率，包含数字、标点等</font> "
   ]
  },
  {
   "cell_type": "code",
   "execution_count": null,
   "metadata": {},
   "outputs": [],
   "source": [
    "import jieba\n",
    "from collections import Counter\n",
    "path= \"D:/python/郭峰Python讲义/数据与结果/03文本分析入门/\" \n",
    "with open (path+\"政府工作报告2018.txt\", 'r', encoding= 'gbk' ,errors=\"ignore\") as file:\n",
    "    data1=file.read()\n",
    "print(\"总字数:\",len(data1))\n",
    "cut = jieba.cut(data1)\n",
    "data = dict(Counter(cut))\n",
    "#print(data)\n",
    "y=sorted(data.items(), key=lambda d:d[1], reverse = True )\n",
    "print(\"总词数：\",len(y))\n",
    "print(y[0:50])"
   ]
  },
  {
   "cell_type": "code",
   "execution_count": null,
   "metadata": {},
   "outputs": [],
   "source": [
    "#去掉标点符号和单字词\n",
    "yn=[c for c in y if len(c[0])>1]\n",
    "print(yn[0:10])\n",
    "\n",
    "#去掉低频词\n",
    "yn=[c for c in yn if c[1]>10]\n",
    "print(yn[0:10])"
   ]
  },
  {
   "cell_type": "code",
   "execution_count": null,
   "metadata": {},
   "outputs": [],
   "source": [
    "#练习3.10：分析改革开放四十周年大事记常见中文词"
   ]
  },
  {
   "cell_type": "markdown",
   "metadata": {},
   "source": [
    "### 停用词和自定义词"
   ]
  },
  {
   "cell_type": "markdown",
   "metadata": {},
   "source": [
    "<font face=\"宋体\" >在任何自然语言中停用词是最常用的词。为了分析文本数据和构建NLP模型，这些停用词可能对构成文档的意义没有太多价值。通常，英语文本中使用的最常用词是\"the\"，\"is\"，\"in\"，\"for\"，\"where\"，\"when\"，\"to\"，\"at\"等。中文中的”的地得“等也没有太多价值，因此可以删除</font> "
   ]
  },
  {
   "cell_type": "markdown",
   "metadata": {},
   "source": [
    "<font face=\"微软雅黑\" size=3>对比：标准分词</font> "
   ]
  },
  {
   "cell_type": "code",
   "execution_count": null,
   "metadata": {},
   "outputs": [],
   "source": [
    "import jieba\n",
    "path2= \"D:/python/郭峰Python讲义/数据与结果/03文本分析入门/\" \n",
    "with open (path2+\"政府工作报告2018.txt\", 'r', encoding= 'gbk' ,errors=\"ignore\") as file:\n",
    "    data=file.read()\n",
    "cut = jieba.cut(data)\n",
    "cut_new=(' '.join(cut))\n",
    "print(cut_new[500:700])"
   ]
  },
  {
   "cell_type": "markdown",
   "metadata": {},
   "source": [
    "<font face=\"微软雅黑\" size=3>对比：去停用词</font> "
   ]
  },
  {
   "cell_type": "code",
   "execution_count": null,
   "metadata": {},
   "outputs": [],
   "source": [
    "#把停用词做成字典【也有将其做成一个列表】\n",
    "import jieba\n",
    "path= \"D:/python/郭峰Python讲义/数据与结果/03文本分析入门/cssci/\" \n",
    "stopwords = {}\n",
    "fstop = open(path+'stopword.txt', 'r')\n",
    "for eachWord in fstop:\n",
    "    stopwords[eachWord.strip()] = eachWord.strip()\n",
    "fstop.close()\n",
    "print(list(stopwords.values())[20:40])\n",
    "print(list(stopwords.keys())[20:40])\n",
    "\n",
    "with open (path2+\"政府工作报告2018.txt\", 'r', encoding= 'gbk' ,errors=\"ignore\") as file:\n",
    "    data=file.read()\n",
    "cut = jieba.cut(data)\n",
    "\n",
    "wordList = list(cut)                      #用结巴分词，对每行内容进行分词  \n",
    "cut2= ''  \n",
    "for word in wordList:\n",
    "    if word not in stopwords:  \n",
    "        cut2 += word  \n",
    "        cut2 += ' ' \n",
    "print(cut2[400:600])"
   ]
  },
  {
   "cell_type": "markdown",
   "metadata": {},
   "source": [
    "<font face=\"微软雅黑\" size=3>对比：自定义词典</font> "
   ]
  },
  {
   "cell_type": "code",
   "execution_count": null,
   "metadata": {},
   "outputs": [],
   "source": [
    "path= \"D:/python/郭峰Python讲义/数据与结果/03文本分析入门/cssci/\" \n",
    "\n",
    "#加载一下自定义词典即可\n",
    "jieba.load_userdict(path+\"keyword.txt\") #加载自定义词典  \n",
    "\n",
    "\n",
    "with open (path2+\"政府工作报告2018.txt\", 'r', encoding= 'gbk' ,errors=\"ignore\") as file:\n",
    "    data=file.read()\n",
    "\n",
    "cut = jieba.cut(data)\n",
    "cut_new=(' '.join(cut))\n",
    "print(cut_new[500:700])"
   ]
  },
  {
   "cell_type": "markdown",
   "metadata": {},
   "source": [
    "### 附录：分词综合练习"
   ]
  },
  {
   "cell_type": "code",
   "execution_count": null,
   "metadata": {},
   "outputs": [],
   "source": [
    "import pandas as pd\n",
    "import numpy as np\n",
    "import datetime\n",
    "starttime = datetime.datetime.now()\n",
    "\n",
    "path= \"D:/python/郭峰Python讲义/数据与结果/03文本分析入门/cssci/\" \n",
    "f = open(path+\"cssci_clean.csv\",encoding='utf-8')\n",
    "papers = pd.read_csv(f,header=0,sep=',')\n",
    "f.close()\n",
    "\n",
    "#计算主题模型时，需要将标题、关键词和摘要合并\n",
    "papers['keyword']=papers['keyword'].fillna(\";\")\n",
    "papers['content']=papers['title']+\";\"+papers['keyword']+papers['abstract']\n",
    "papers=papers[papers['content'].str.len()>100]   #将标题+关键词+摘要少于100字的样本删除\n",
    "print(\"标题+关键词+摘要少于100字的样本删除后数量:\"+str(len(papers))) #查看行*列数\n",
    "papers.to_csv(path+'cssci_clean_cut.csv',encoding='utf8')\n",
    "print(papers.shape)"
   ]
  },
  {
   "cell_type": "code",
   "execution_count": null,
   "metadata": {},
   "outputs": [],
   "source": [
    "#根据关键词为分词准备自定义词典\n",
    "import jieba\n",
    "import pandas as pd\n",
    "import numpy as np\n",
    "import datetime\n",
    "starttime = datetime.datetime.now()\n",
    "print(starttime)\n",
    "\n",
    "path= \"D:/python/郭峰Python讲义/数据与结果/03文本分析入门/cssci/\" \n",
    "f = open(path+\"cssci_clean_cut.csv\",encoding='utf-8')\n",
    "papers = pd.read_csv(f,header=0,sep=',')\n",
    "f.close()\n",
    "\n",
    "#去掉一些关键词较为特殊的样本\n",
    "#关键词不能为空，且长度不超过30字符，早期系统自动识别的关键词数量较多\n",
    "papers=papers[papers['keyword'].str.len()>1]\n",
    "papers=papers[papers['keyword'].str.len()<30]\n",
    "#papers=papers[papers['kwnum']<6]\n",
    "\n",
    "keyword=papers['keyword'].sum()  ##聚合关键词，成为一个字符串\n",
    "print(\"关键词聚合后：\",keyword[0:100])\n",
    "\n",
    "keyword=keyword.split(\";\")  #关键词分割成一个列表\n",
    "print(\"关键词分割后：\",keyword[0:10])\n",
    "print(\"关键词总个数：\",len(keyword))\n",
    "\n",
    "keyword=list(set(keyword)) #去重复，set为集合的意思\n",
    "print(\"去重后关键词个数：\",len(keyword))\n",
    "\n",
    "keyword = [kw for kw in keyword if len(kw) > 1 and len(kw)<7]\n",
    "print(\"去掉过短过长的关键词后的个数：\",len(keyword))\n",
    "\n",
    "#保存关键词，一个词一行\n",
    "fn=open(path+'keyword.txt','w',encoding='utf-8')\n",
    "for kw in keyword:\n",
    "    fn.write(str(kw)+\"\\n\")\n",
    "fn.close()\n",
    "\n",
    "endtime = datetime.datetime.now()\n",
    "print((endtime - starttime).seconds)"
   ]
  },
  {
   "cell_type": "code",
   "execution_count": null,
   "metadata": {},
   "outputs": [],
   "source": [
    "#分词，运行完较为费时\n",
    "#参考资料：http://www.cnblogs.com/zhangtianyuan/p/6875080.html\n",
    "\n",
    "#!/usr/bin/python  \n",
    "#-*- encoding:utf-8 -*-\n",
    "\n",
    "import jieba                                           #导入jieba模块\n",
    "import jieba.posseg as pseg\n",
    "import pandas as pd\n",
    "import re\n",
    "import numpy as np\n",
    "import datetime\n",
    "starttime = datetime.datetime.now()\n",
    "\n",
    "path= \"D:/python/郭峰Python讲义/数据与结果/03文本分析入门/cssci/\" \n",
    "f = open(path+\"cssci_clean_cut.csv\",encoding='utf-8')\n",
    "papers = pd.read_csv(f,header=0,sep=',')\n",
    "papers=papers[0:100]\n",
    "\n",
    "papers['index']=range(papers.shape[0])  #之前的index序号不连贯了,重新整理\n",
    "papers.set_index('index',inplace=True)\n",
    "\n",
    "jieba.load_userdict(path+\"keyword.txt\") #加载自定义词典  \n",
    "\n",
    "#把停用词做成字典\n",
    "stopwords = {}\n",
    "fstop = open(path+'stopword.txt', 'r')\n",
    "for eachWord in fstop:\n",
    "    stopwords[eachWord.strip()] = eachWord.strip()\n",
    "fstop.close()\n",
    "\n",
    "content = papers['content'].astype(str)                                 #以读的方式打开文件\n",
    "\n",
    "papers['cut_out']=None\n",
    "for i in range(0,len(content)):\n",
    "    line = content[i].strip()     ##之前的index序号不连贯了，这里容易出错。\n",
    "    line1 = re.sub(\"[0-9\\s+\\.\\!\\/_,$%^*()?;；:-【】+\\\"\\']+|[+——！，;:。？、~@#￥%……&*（）]+\", \"\",line)\n",
    "    wordList = list(jieba.cut(line1))                        #用结巴分词，对每行内容进行分词  \n",
    "    outStr = ''  \n",
    "    for word in wordList:\n",
    "        if word not in stopwords:  \n",
    "            outStr += word  \n",
    "            outStr += ' '  \n",
    "    papers['cut_out'][i]=outStr\n",
    "print(papers['content'][20])\n",
    "print(papers['cut_out'][20])\n",
    "papers[\"cutlength\"] =papers['cut_out'].str.len()\n",
    "papers=papers[papers['cutlength'] >10]  #分词之后，部分出现空值等异常现象\n",
    "\n",
    "cut_out=papers['cut_out']\n",
    "papers.to_csv(path+'cssci_abstract_cut.csv',encoding='utf8')\n",
    "cut_out.to_csv(path+'cut_out.csv')\n",
    "print(papers.shape)\n",
    "endtime = datetime.datetime.now()\n",
    "print((endtime - starttime).seconds)"
   ]
  },
  {
   "cell_type": "markdown",
   "metadata": {},
   "source": [
    "## 3.4 文本的向量化表达"
   ]
  },
  {
   "cell_type": "markdown",
   "metadata": {},
   "source": [
    "直接对字、词和句子，能进行的分析仍然比较有限，很多情形下，需要把他们转换成数学表达（向量）。"
   ]
  },
  {
   "cell_type": "markdown",
   "metadata": {},
   "source": [
    "最基本的文本向量化表达法：独热表示法"
   ]
  },
  {
   "cell_type": "code",
   "execution_count": null,
   "metadata": {},
   "outputs": [],
   "source": [
    "from numpy import *\n",
    "list1= [['my', 'dog', 'has', 'flea', 'problems', 'help', 'please'],\n",
    "                   ['maybe', 'not', 'take', 'him', 'to', 'dog', 'park', 'stupid'],\n",
    "                   ['my', 'dalmation', 'is', 'so', 'cute', 'I', 'love', 'him'],\n",
    "                   ['stop', 'posting', 'stupid', 'worthless', 'garbage'],\n",
    "                   ['mr', 'licks', 'ate', 'my', 'steak', 'how', 'to', 'stop', 'him'],\n",
    "                   ['quit', 'buying', 'worthless', 'dog', 'food', 'stupid']]\n",
    "\n",
    "set_v= set([])\n",
    "for document in list1:\n",
    "    set_v = set_v | set(document)\n",
    "set_v =list(set_v)\n",
    "print(set_v)"
   ]
  },
  {
   "cell_type": "code",
   "execution_count": null,
   "metadata": {},
   "outputs": [],
   "source": [
    "#另外一种方法\n",
    "list_2 = [i for k in list1 for i in k]\n",
    "v2=list(set(list_2))\n",
    "print(v2)"
   ]
  },
  {
   "cell_type": "code",
   "execution_count": null,
   "metadata": {},
   "outputs": [],
   "source": [
    " #优化词集模型,将单词列表变为数字向量列表\n",
    "def bagOfWords2VecMN(vocabList, inputSet):\n",
    "    returnVec = [0] * len(vocabList)    #获得所有单词等长的0列表\n",
    "    for word in inputSet:\n",
    "        if word in vocabList:\n",
    "            returnVec[vocabList.index(word)] += 1   #对应单词位置加1\n",
    "    return returnVec\n",
    "test1=bagOfWords2VecMN(set_v,list1[0])\n",
    "print(test1)"
   ]
  },
  {
   "cell_type": "code",
   "execution_count": null,
   "metadata": {},
   "outputs": [],
   "source": [
    "v2=['my', 'dog', 'has']\n",
    "test2=bagOfWords2VecMN(set_v,v2)\n",
    "print(test2)"
   ]
  },
  {
   "cell_type": "code",
   "execution_count": null,
   "metadata": {},
   "outputs": [],
   "source": [
    "#思考题：上述独热表达法存在什么缺陷？"
   ]
  },
  {
   "cell_type": "markdown",
   "metadata": {},
   "source": [
    "## 3.5. 文本编码格式"
   ]
  },
  {
   "cell_type": "markdown",
   "metadata": {},
   "source": [
    "<font face=\"宋体\" >字符编码（Character Encoding）是将字符集中的字符码映射为字节流的一种具体实现方案。常见的字符编码有 ASCII 编码、UTF-8 编码、GBK 编码等。gbk或gb2312可以用来处理中文。不同电脑默认的编码方式可能不同，所以有时候需要调整。关于python编码的详细介绍:https://www.cnblogs.com/Jedore/p/7052994.html</font>"
   ]
  },
  {
   "cell_type": "code",
   "execution_count": null,
   "metadata": {},
   "outputs": [],
   "source": [
    "path='D:/python/郭峰Python讲义/数据与结果/03文本分析入门/'\n",
    "gov_report=open(path+'政府工作报告2018.txt','r',encoding='gbk')   #gbk 可以用来读中文\n",
    "data=gov_report.read()  #data是一个字符串\n",
    "print(len(data))\n",
    "print(data[100:200])"
   ]
  },
  {
   "cell_type": "markdown",
   "metadata": {},
   "source": [
    "<font face=\"宋体\" >我一般将编码格式统一设置为utf-8，也同样建议你们这么做</font>"
   ]
  },
  {
   "cell_type": "markdown",
   "metadata": {},
   "source": [
    "<font face=\"宋体\" >需要注意的是，如果用utf8编码格式保存成csv的文件，本地打开的时候可能会出现乱码。这个问题有两种解决办法，一个是对这个csv格式不用默认的excel格式来打开，而是文本方式打开，然后另存一个跟你电脑格式匹配的格式（比如ANSI）。另一个是可以在python保存csv文件时，将编码格式修改为“utf-8-sig‘，这样处理，就可以本地打开csv格式了。</font>"
   ]
  },
  {
   "cell_type": "code",
   "execution_count": null,
   "metadata": {},
   "outputs": [],
   "source": [
    "import csv\n",
    "path='D:/python/郭峰Python讲义/数据与结果/03文本分析入门/'\n",
    "with open(path+\"test.csv\",\"w\",encoding='utf-8') as csvfile: \n",
    "    writer = csv.writer(csvfile)\n",
    "    #先写入columns_name\n",
    "    writer.writerow([\"index\",\"a_name\",\"b_name\"])\n",
    "    #写入多行用writerows\n",
    "    writer.writerows([[0,\"中国\",3],[1,\"美国\",3],[2,\"日本\",4]])"
   ]
  },
  {
   "cell_type": "markdown",
   "metadata": {},
   "source": [
    "<font face=\"微软雅黑\" size=3>附录：批量修改文件的编码格式</font>"
   ]
  },
  {
   "cell_type": "code",
   "execution_count": null,
   "metadata": {
    "scrolled": true
   },
   "outputs": [],
   "source": [
    "import os \n",
    "path='D:/python/郭峰Python讲义/数据与结果/03文本分析入门/政府工作报告/省级政府工作报告2018编码混杂/'\n",
    "path2='D:/python/郭峰Python讲义/数据与结果/03文本分析入门/政府工作报告/省级政府工作报告2018编码清理/'\n",
    "\n",
    "files= os.listdir(path)\n",
    "for file in files:\n",
    "    try:\n",
    "        f1=open(path+file, 'r',encoding='utf8')  \n",
    "        content = f1.read()\n",
    "    except:\n",
    "        #continue  #通过添加这个continue可以不执行下面两行命令，可以看看发生了什么\n",
    "        print(file)\n",
    "        f1=open(path+file,'r')\n",
    "        content = f1.read()\n",
    "    #print(content[0:5])\n",
    "    f2=open(path2+file,'w',encoding='utf8')\n",
    "    f2.write(content)\n",
    "    f1.close()\n",
    "    f2.close()"
   ]
  },
  {
   "cell_type": "markdown",
   "metadata": {},
   "source": [
    "<font face=\"宋体\" >其他批量调整的方法：https://blog.csdn.net/oh5W6HinUg43JvRhhB/article/details/80681661</font>"
   ]
  },
  {
   "cell_type": "markdown",
   "metadata": {},
   "source": [
    "## 3.6. 第三方模块安装"
   ]
  },
  {
   "cell_type": "markdown",
   "metadata": {},
   "source": [
    "<font face=\"宋体\" >python是一个非常开放性的平台，自带了很多模块，也有大量第三方贡献的模块</font>"
   ]
  },
  {
   "cell_type": "code",
   "execution_count": null,
   "metadata": {},
   "outputs": [],
   "source": [
    "#从Python标准库当中引入模块，用import,如： \n",
    "import random\n",
    "x=random.random()  #0-1之间的均匀分布\n",
    "print(x)"
   ]
  },
  {
   "cell_type": "code",
   "execution_count": null,
   "metadata": {},
   "outputs": [],
   "source": [
    "#允许引入多个模块，但各个模块之间需要用逗号隔开  \n",
    "import random,math"
   ]
  },
  {
   "cell_type": "code",
   "execution_count": null,
   "metadata": {},
   "outputs": [],
   "source": [
    "#可以改名\n",
    "import pandas as pd"
   ]
  },
  {
   "cell_type": "markdown",
   "metadata": {},
   "source": [
    "<font face=\"宋体\" >非标准库之外的第三方模块导入前需要安装，安装的方式有多种，我们这里只介绍pip的方式（其他方法可以百度）</font>"
   ]
  },
  {
   "cell_type": "markdown",
   "metadata": {},
   "source": [
    "<font face=\"宋体\" >在线安装：pip install jieba</font>"
   ]
  },
  {
   "cell_type": "code",
   "execution_count": null,
   "metadata": {},
   "outputs": [],
   "source": [
    "#版本更新太快，经常会出现不兼容的问题，这是一个非常讨厌的问题\n",
    "import jieba\n",
    "jieba.__version__"
   ]
  },
  {
   "cell_type": "markdown",
   "metadata": {},
   "source": [
    "<font face=\"宋体\" >安装指定版本：pip install django==2.0</font>"
   ]
  },
  {
   "cell_type": "markdown",
   "metadata": {},
   "source": [
    "<font face=\"宋体\" >离线安装:GDAL-2.3.2-cp36-cp36m-win_amd64  \n",
    "pip install GDAL-2.3.2-cp36-cp36m-win_amd64.whl</font>"
   ]
  },
  {
   "cell_type": "markdown",
   "metadata": {},
   "source": [
    "<font face=\"宋体\" >python第三方模块下载地址：https://www.lfd.uci.edu/~gohlke/pythonlibs/</font>"
   ]
  },
  {
   "cell_type": "markdown",
   "metadata": {},
   "source": [
    "<font face=\"微软雅黑\" size=3>本讲结束</font>"
   ]
  }
 ],
 "metadata": {
  "kernelspec": {
   "display_name": "Python 3",
   "language": "python",
   "name": "python3"
  },
  "language_info": {
   "codemirror_mode": {
    "name": "ipython",
    "version": 3
   },
   "file_extension": ".py",
   "mimetype": "text/x-python",
   "name": "python",
   "nbconvert_exporter": "python",
   "pygments_lexer": "ipython3",
   "version": "3.6.2"
  }
 },
 "nbformat": 4,
 "nbformat_minor": 2
}
