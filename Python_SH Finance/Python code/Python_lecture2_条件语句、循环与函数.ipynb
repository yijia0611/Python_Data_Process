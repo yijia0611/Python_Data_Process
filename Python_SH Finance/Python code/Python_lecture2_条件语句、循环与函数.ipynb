{
 "cells": [
  {
   "cell_type": "markdown",
   "metadata": {},
   "source": [
    "# 第2讲 条件语句、循环与函数"
   ]
  },
  {
   "cell_type": "markdown",
   "metadata": {},
   "source": [
    "<font face=\"宋体\" >郭峰（Email：guofengsfi@163.com)   \n",
    "副教授、博士生导师  \n",
    "上海财经大学公共经济与管理学院 </font> "
   ]
  },
  {
   "cell_type": "markdown",
   "metadata": {},
   "source": [
    "<font face=\"宋体\" >本讲目录：  \n",
    "2.1. Python语句规则  \n",
    "2.2. if语句  \n",
    "2.3. while循环和for循环  \n",
    "2.4. break and continue  \n",
    "2.5. 函数  \n",
    "2.6. Python常见错误与调试 </font>  "
   ]
  },
  {
   "cell_type": "markdown",
   "metadata": {},
   "source": [
    "## 2.1. Python语句规则"
   ]
  },
  {
   "cell_type": "markdown",
   "metadata": {},
   "source": [
    "<font face=\"微软雅黑\" size=3>代码块</font>  "
   ]
  },
  {
   "cell_type": "markdown",
   "metadata": {},
   "source": [
    "<font face=\"宋体\" >满足一定条件时执行一次或多次的代码，就是代码块，或者称为语句块。</font> "
   ]
  },
  {
   "cell_type": "markdown",
   "metadata": {},
   "source": [
    "<font face=\"宋体\" >如果将变量（整数型、浮点型、字符串、布尔值等）比喻为中文中的字，那么列表、字典、集合（以及非常特殊的字符串），就可以理解为词语或成语，要满足一定规则才能组合在一起。为进一步执行更复杂的任务，在词语基础上再进一步组成句子（代码块），就需要满足一些语句规则，这些代码块，组合在一起，可以执行更复杂的任务</font>  "
   ]
  },
  {
   "cell_type": "markdown",
   "metadata": {},
   "source": [
    "<font face=\"宋体\" >语句块创建方法是在代码前放置空格缩进，同样缩进就是同一代码块；缩进不同，就被认为非同一语句块。</font>  "
   ]
  },
  {
   "cell_type": "markdown",
   "metadata": {},
   "source": [
    "<font face=\"宋体\" color=blue >缩进往往要与冒号“:”结合使用，需要注意是英文冒号，这一点初学者容易出错，“:”用来标识代码块的开始</font>  "
   ]
  },
  {
   "cell_type": "markdown",
   "metadata": {},
   "source": [
    "<font face=\"微软雅黑\" size=3>语句块实例</font>  "
   ]
  },
  {
   "cell_type": "code",
   "execution_count": null,
   "metadata": {},
   "outputs": [],
   "source": [
    "x=1\n",
    "if x>0:\n",
    "    x=x*100\n",
    "    print('x是正数') "
   ]
  },
  {
   "cell_type": "markdown",
   "metadata": {},
   "source": [
    "<font face=\"宋体\" >Python 的代码块不使用大括号 {} 来控制类、函数以及其他逻辑判断。在其他语言中通常用{}来代表代码块。Python 最具特色的就是用缩进来写代码块。缩进是Python争议最大的特点之一，熟练后会习惯，初学者需谨慎对待。  \n",
    "    \n",
    "python当中也没有结束语句块的标志，而在matlab等使用end等代表语句块结束。</font> "
   ]
  },
  {
   "cell_type": "markdown",
   "metadata": {},
   "source": [
    "<font face=\"宋体\" color=blue>缩进的空白数量是可变的，但是所有代码块语句必须包含相同的缩进空白数量，这个必须严格执行。</font> "
   ]
  },
  {
   "cell_type": "markdown",
   "metadata": {},
   "source": [
    "<font face=\"宋体\" >下面语句中，print(ti)不能空格，否则会报错</font> "
   ]
  },
  {
   "cell_type": "code",
   "execution_count": null,
   "metadata": {},
   "outputs": [],
   "source": [
    "i=5\n",
    "print(i)"
   ]
  },
  {
   "cell_type": "markdown",
   "metadata": {},
   "source": [
    "<font face=\"宋体\" >但是我们可以使用斜杠（ \\）将一行的语句分为多行显示</font> "
   ]
  },
  {
   "cell_type": "code",
   "execution_count": null,
   "metadata": {},
   "outputs": [],
   "source": [
    "s = 'a' + \\\n",
    "    'b' + \\\n",
    "    'c'\n",
    "print(s)"
   ]
  },
  {
   "cell_type": "markdown",
   "metadata": {},
   "source": [
    "<font face=\"宋体\" >语句中包含[], {} 或 () 括号就不需要使用多行连接符。</font> "
   ]
  },
  {
   "cell_type": "code",
   "execution_count": null,
   "metadata": {
    "scrolled": true
   },
   "outputs": [],
   "source": [
    "a=[1,2,4,5,6,\n",
    "   7,8,9,10]\n",
    "print(a)"
   ]
  },
  {
   "cell_type": "markdown",
   "metadata": {},
   "source": [
    "<font face=\"宋体\" >Python常见语句种类：选择、循环</font> "
   ]
  },
  {
   "cell_type": "markdown",
   "metadata": {},
   "source": [
    "## 2.2. if语句"
   ]
  },
  {
   "cell_type": "markdown",
   "metadata": {},
   "source": [
    "<font face=\"微软雅黑\" size=3>选择执行</font> "
   ]
  },
  {
   "cell_type": "code",
   "execution_count": null,
   "metadata": {},
   "outputs": [],
   "source": [
    "x=1\n",
    "if x>0:\n",
    "    x=x*100\n",
    "    print(x)\n",
    "    print('x是正数')    #自动回车会空了4格，但空2格也可以运行\n",
    "else:\n",
    "    x=0\n",
    "    print(x)\n",
    "    print(\"x是负数\")\n",
    "print(x+10)  #这一行已经不属于上面的代码块"
   ]
  },
  {
   "cell_type": "markdown",
   "metadata": {},
   "source": [
    "<font face=\"宋体\" >在选择和循环结构中，条件表达式的值只要不是False、0（或0.0、0等）、空值None、空列表、空元组、空集合、空字典、空字符串、空range对象或其他空迭代对象，Python解释器均认为与True等价。从这个意义上来讲，几乎所有的Python合法表达式都可以作为条件表达式，包括含有函数调用的表达式。</font> "
   ]
  },
  {
   "cell_type": "code",
   "execution_count": null,
   "metadata": {},
   "outputs": [],
   "source": [
    "x=-1\n",
    "if (x-x+3):   #类似这种经过“复杂”运算后成为判断条件的，尤其需要重视\n",
    "    print('x是正数')\n",
    "else:\n",
    "    x=x*100\n",
    "    print(x)"
   ]
  },
  {
   "cell_type": "markdown",
   "metadata": {},
   "source": [
    "<font face=\"微软雅黑\" size=3>选择与分支</font> "
   ]
  },
  {
   "cell_type": "code",
   "execution_count": null,
   "metadata": {},
   "outputs": [],
   "source": [
    "x=10\n",
    "if x%2==0:             #求余数运算\n",
    "    print('x是偶数')\n",
    "else:                   #这个不能缩进，否则会报错                 \n",
    "    print('x是奇数')"
   ]
  },
  {
   "cell_type": "markdown",
   "metadata": {},
   "source": [
    "<font face=\"微软雅黑\" size=3>条件链</font> "
   ]
  },
  {
   "cell_type": "code",
   "execution_count": null,
   "metadata": {},
   "outputs": [],
   "source": [
    "age =3\n",
    "if age >= 18: \n",
    "    print('adult')\n",
    "elif age >= 6:             #关键字elif是else if的缩写\n",
    "    print('teenager')\n",
    "else: \n",
    "    print('kid')\n",
    "#注意缩进"
   ]
  },
  {
   "cell_type": "markdown",
   "metadata": {},
   "source": [
    "<font face=\"微软雅黑\" size=3>嵌套条件语句</font> "
   ]
  },
  {
   "cell_type": "code",
   "execution_count": null,
   "metadata": {},
   "outputs": [],
   "source": [
    "x=2\n",
    "y=3\n",
    "if x==y:\n",
    "    print('x和y相等')\n",
    "else:\n",
    "    if x<y:    \n",
    "        print('x比y小')\n",
    "    else:\n",
    "        print('x比y大')"
   ]
  },
  {
   "cell_type": "markdown",
   "metadata": {},
   "source": [
    "<font face=\"宋体\" color=blue>一个逻辑（语句块）增加一次空格</font> "
   ]
  },
  {
   "cell_type": "markdown",
   "metadata": {},
   "source": [
    "<font face=\"宋体\" >Python还支持如下形式的表达式：value1 if condition else value2。其中，当条件表达式condition的值与True等价时，表达式的值为value1，否则表达式的值为value2。这种写法倒是符合英语语法。当然，初学者仍建议按传统方式写。</font> "
   ]
  },
  {
   "cell_type": "code",
   "execution_count": null,
   "metadata": {},
   "outputs": [],
   "source": [
    "a = 5\n",
    "print(\"a大于3\") if a>3 else print(\"a小于等于3\")"
   ]
  },
  {
   "cell_type": "markdown",
   "metadata": {},
   "source": [
    "<font face=\"微软雅黑\" size=3>条件语句小应用</font> "
   ]
  },
  {
   "cell_type": "code",
   "execution_count": null,
   "metadata": {},
   "outputs": [],
   "source": [
    "#编写程序，判断今天是今年的第几天\n",
    "import time\n",
    "date = time.localtime()\n",
    "print(date)\n",
    "print(list(date))\n",
    "year = date[0]\n",
    "month = date[1]\n",
    "day = date[2]\n",
    "print(year,month,day)"
   ]
  },
  {
   "cell_type": "code",
   "execution_count": null,
   "metadata": {},
   "outputs": [],
   "source": [
    "day_month = [31, 28, 31, 30, 31, 30, 31, 31, 30, 31, 30, 31]\n",
    "if year%400==0 or (year%4==0 and year%100!=0): #判断是否为闰年\n",
    "    day_month[1] = 29\n",
    "if month==1:\n",
    "    print(day)\n",
    "else:\n",
    "    print(sum(day_month[:month-1])+day)"
   ]
  },
  {
   "cell_type": "markdown",
   "metadata": {},
   "source": [
    "## 2.3. while循环和for循环"
   ]
  },
  {
   "cell_type": "markdown",
   "metadata": {},
   "source": [
    "<font face=\"宋体\" >计算机可以通过循环来自动化重复性地处理某些重复相似的任务而不犯错误，这是电脑擅长于人之处</font> "
   ]
  },
  {
   "cell_type": "markdown",
   "metadata": {},
   "source": [
    "<font face=\"微软雅黑\" size=3>while语句实现累加</font>"
   ]
  },
  {
   "cell_type": "code",
   "execution_count": null,
   "metadata": {},
   "outputs": [],
   "source": [
    "i=1\n",
    "sum=0\n",
    "while i<101:\n",
    "    sum=sum+i\n",
    "    i=i+1\n",
    "    print(i)  #大样本循环计算中，通过这个操作，可以监督程序运行进程\n",
    "print(sum)"
   ]
  },
  {
   "cell_type": "markdown",
   "metadata": {},
   "source": [
    "<font face=\"宋体\" >while语句规则：while 判断条件加冒号，下一行缩进。执行的语句可以是单个语句，也可以是语句块。而判断条件可以是任何表达式，任何非零、或非空（null）的值均为True。当判断语句条件为假False时，循环结束。</font>"
   ]
  },
  {
   "cell_type": "code",
   "execution_count": null,
   "metadata": {},
   "outputs": [],
   "source": [
    "sum = 0\n",
    "n =100 \n",
    "while n > 0: \n",
    "   sum = sum + n \n",
    "   n = n - 1 \n",
    "print (sum) "
   ]
  },
  {
   "cell_type": "code",
   "execution_count": null,
   "metadata": {},
   "outputs": [],
   "source": [
    "#练习2.1：通过while和if语句，输出20以内所有偶数"
   ]
  },
  {
   "cell_type": "code",
   "execution_count": null,
   "metadata": {},
   "outputs": [],
   "source": [
    "#练习2.2：在上个练习基础上，求出100以内所有奇数的和"
   ]
  },
  {
   "cell_type": "markdown",
   "metadata": {},
   "source": [
    "<font face=\"微软雅黑\" size=3>for 循环语法</font>"
   ]
  },
  {
   "cell_type": "markdown",
   "metadata": {},
   "source": [
    "<font face=\"宋体\" >for 规则与while基本相同</font>"
   ]
  },
  {
   "cell_type": "code",
   "execution_count": null,
   "metadata": {},
   "outputs": [],
   "source": [
    "#10以内求和\n",
    "sum = 0 \n",
    "for x in [1, 2, 3, 4, 5, 6, 7, 8, 9, 10]: \n",
    "    sum = sum + x \n",
    "print(sum) "
   ]
  },
  {
   "cell_type": "code",
   "execution_count": null,
   "metadata": {},
   "outputs": [],
   "source": [
    "#100以内累计求和，包含100(如果不包含100，改怎么处理)\n",
    "sum = 0 \n",
    "for x in range(101):    \n",
    "    sum = sum + x \n",
    "print(sum) "
   ]
  },
  {
   "cell_type": "markdown",
   "metadata": {},
   "source": [
    "<font face=\"宋体\" color=blue>任何可迭代对象都可以作为for循环，包括我们自己定义的数据类型。只要符合迭代条件，就可以使用for循环，列表、元组、字符串、字典都属于可迭代对象，尤其是字符串都可以作为迭代对象！</font>"
   ]
  },
  {
   "cell_type": "code",
   "execution_count": null,
   "metadata": {},
   "outputs": [],
   "source": [
    "for ch in '我们正在学习python':\n",
    "    print(ch)"
   ]
  },
  {
   "cell_type": "markdown",
   "metadata": {},
   "source": [
    "<font face=\"宋体\" >enumerate() 函数用于将一个可遍历的数据对象(如列表、元组或字符串)组合为一个索引序列，同时列出数据和数据下标，一般用在 for 循环当中。</font>"
   ]
  },
  {
   "cell_type": "code",
   "execution_count": null,
   "metadata": {},
   "outputs": [],
   "source": [
    "for i,x in enumerate(['a','b','c']):    \n",
    "    #print(i,x)\n",
    "    print(\"指标i:\",i,'数值x:',x)"
   ]
  },
  {
   "cell_type": "markdown",
   "metadata": {},
   "source": [
    "<font face=\"宋体\" color=blue>查找偶数和奇数</font>"
   ]
  },
  {
   "cell_type": "code",
   "execution_count": null,
   "metadata": {},
   "outputs": [],
   "source": [
    "numbers=[12, 37, 5, 42, 8, 3]\n",
    "even=[]\n",
    "odd=[]\n",
    "for number in numbers:\n",
    "    if number%2==0:\n",
    "        even.append(number)  #在even上拼接number\n",
    "    else:\n",
    "        odd.append(number)   #在odd上拼接number\n",
    "print(even)\n",
    "print(odd)\n",
    "print(numbers)"
   ]
  },
  {
   "cell_type": "markdown",
   "metadata": {},
   "source": [
    "<font face=\"微软雅黑\" size=3>for语句与列表生成</font>"
   ]
  },
  {
   "cell_type": "code",
   "execution_count": null,
   "metadata": {},
   "outputs": [],
   "source": [
    "a2=[x*x for x in range(1,5)]\n",
    "a3=[x for x in range(1,11) if x%2==0]\n",
    "a4=[m+n for m in 'abc' for n in 'xyz']\n",
    "a5=[\"Hello\", \"World\", \"IBM\", \"APPle\"]\n",
    "a6=[s[0] for s in a5 ]\n",
    "print(a6)"
   ]
  },
  {
   "cell_type": "markdown",
   "metadata": {},
   "source": [
    "<font face=\"宋体\" color=blue>这些列表生成式在后面的具体编程时，非常有用处，需要认真琢磨</font>"
   ]
  },
  {
   "cell_type": "code",
   "execution_count": null,
   "metadata": {},
   "outputs": [],
   "source": [
    "#练习2.3：在以下列表中，将每个数字*10000\n",
    "gdp=[2, 4, 6, 8, 10, 12, 14, 16, 18, 20]"
   ]
  },
  {
   "cell_type": "code",
   "execution_count": null,
   "metadata": {},
   "outputs": [],
   "source": [
    "#练习2.4：模仿上述方法，将以下列表中的每个人的“名”取出来(剔除\"姓\")\n",
    "name=['郭峰','刘峰','汪峰','张三丰','王小二']"
   ]
  },
  {
   "cell_type": "markdown",
   "metadata": {},
   "source": [
    "<font face=\"微软雅黑\" size=3>循环中的else子句</font>"
   ]
  },
  {
   "cell_type": "markdown",
   "metadata": {},
   "source": [
    "<font face=\"宋体\" >该方法在while，for等循环不满足条件时作的一些工作</font>"
   ]
  },
  {
   "cell_type": "code",
   "execution_count": null,
   "metadata": {},
   "outputs": [],
   "source": [
    "num=0\n",
    "while num<3:\n",
    "    print(num,\" 小于 3\")\n",
    "    num=num+1\n",
    "else:\n",
    "    print(num,\" 大于等于 3\")\n",
    "    print(\"循环结束！\")"
   ]
  },
  {
   "cell_type": "markdown",
   "metadata": {},
   "source": [
    "<font face=\"微软雅黑\" size=3>查找字符在一个字符串的位置</font>"
   ]
  },
  {
   "cell_type": "code",
   "execution_count": null,
   "metadata": {},
   "outputs": [],
   "source": [
    "word='hello word on'\n",
    "letter='o'\n",
    "index=0\n",
    "for i in word:\n",
    "    if i==letter:\n",
    "        print(index)\n",
    "    index+=1\n",
    "word.find('o') #只找第一个"
   ]
  },
  {
   "cell_type": "markdown",
   "metadata": {},
   "source": [
    "<font face=\"微软雅黑\" size=3>查找中文字符在一个字符串的位置</font>"
   ]
  },
  {
   "cell_type": "code",
   "execution_count": null,
   "metadata": {},
   "outputs": [],
   "source": [
    "chword='我爱我的祖国，我的祖国爱我吗？'\n",
    "letter='祖'\n",
    "index=0\n",
    "for i in chword:\n",
    "    if i==letter:\n",
    "        print(index)\n",
    "    index+=1\n",
    "chword.find('祖') #只找第一个"
   ]
  },
  {
   "cell_type": "markdown",
   "metadata": {},
   "source": [
    "<font face=\"微软雅黑\" size=3>for与while循环辨析</font> "
   ]
  },
  {
   "cell_type": "markdown",
   "metadata": {},
   "source": [
    "<font face=\"宋体\" >相同点是二者没有本质区别，也没有速度区别，在表达能力上二者也是等价的；区别在于二者的适用的场合不同。for循环更适用于循环的开始和结束已知，循环次数固定的场合；while循环更适合于条件确定的场合。直观地讲，二者都表示循环，区别是for循环适用于你知道循环体，比如for i in range(10)，循环体就是在range(10)里面，而while循环适用于你也不知道循环体是什么，只知道判定条件，符合该条件就循环，不符合该条件就跳出。</font> "
   ]
  },
  {
   "cell_type": "markdown",
   "metadata": {},
   "source": [
    "<font face=\"微软雅黑\" size=3>循环的优化</font>   "
   ]
  },
  {
   "cell_type": "markdown",
   "metadata": {},
   "source": [
    "<font face=\"宋体\" >为了优化程序以获得更高的效率和运行速度，在编写循环语句时，应尽量减少循环内部不必要的计算，将与循环变量无关的代码尽可能地提取到循环之外。对于使用多重循环嵌套的情况，应尽量减少内层循环中不必要的计算，尽可能地向外提。</font>   "
   ]
  },
  {
   "cell_type": "code",
   "execution_count": null,
   "metadata": {},
   "outputs": [],
   "source": [
    "#练习2.5：鸡兔同笼问题。假设一个笼子里共有鸡、兔30只，脚90只，求鸡、兔各有多少只。"
   ]
  },
  {
   "cell_type": "code",
   "execution_count": null,
   "metadata": {},
   "outputs": [],
   "source": [
    "#练习2.6：编写程序，输出由1、2、3、4这四个数字组成的每位数都不相同的所有三位数，如123，124等            "
   ]
  },
  {
   "cell_type": "markdown",
   "metadata": {},
   "source": [
    "## 2.4. break和continue"
   ]
  },
  {
   "cell_type": "markdown",
   "metadata": {},
   "source": [
    "<font face=\"宋体\" >break语句在while循环和for循环中都可以使用，一般放在if选择结构中，一旦break语句被执行，将使得该层循环提前结束。continue语句的作用是终止当前循环，并忽略continue之后的语句，然后回到循环的顶端，提前进入下一次循环。除非break语句让代码更简单或更清晰，否则不要轻易使用。</font>   "
   ]
  },
  {
   "cell_type": "markdown",
   "metadata": {},
   "source": [
    "<font face=\"微软雅黑\" size=3>break 语句</font>   "
   ]
  },
  {
   "cell_type": "code",
   "execution_count": null,
   "metadata": {},
   "outputs": [],
   "source": [
    "#生成不超过10个随机数，得到第一个0.5-0.6之间的数，然后停止\n",
    "import random\n",
    "i=0\n",
    "while i<10:\n",
    "    x=random.random()    \n",
    "    if x>=0.5 and x<=0.6:\n",
    "        y=x*2\n",
    "        break  #满足该条件时，停止整个（该层）循环\n",
    "        y=y*2\n",
    "    else:\n",
    "        y=x\n",
    "    y=y*10\n",
    "    print(\"循环结果：\",i,x,y)\n",
    "    i=i+1\n",
    "print(\"最终结果：\",i,x,y) "
   ]
  },
  {
   "cell_type": "markdown",
   "metadata": {},
   "source": [
    "<font face=\"微软雅黑\" size=3>continue语句</font>   "
   ]
  },
  {
   "cell_type": "code",
   "execution_count": null,
   "metadata": {},
   "outputs": [],
   "source": [
    "import random\n",
    "i=0\n",
    "while i<10:\n",
    "    x=random.random()    \n",
    "    if x>=0.5 and x<=0.6:\n",
    "        y=x*2\n",
    "        print(\"0.5-0.6:\",i,x,y)\n",
    "        continue  #满足该条件时，停止本句下面语句块内容，执行下一个循环\n",
    "        y=y*2\n",
    "    else:\n",
    "        y=x\n",
    "    y=y*10\n",
    "    print(\"循环结果：\",i,x,y)  #始终执行10遍，x在0.5-0.6之间被忽略，重新抽样\n",
    "    i=i+1\n",
    "print(\"最终结果：\",i,x,y) "
   ]
  },
  {
   "cell_type": "markdown",
   "metadata": {},
   "source": [
    "<font face=\"微软雅黑\" size=3>打印100以内的素数</font>   "
   ]
  },
  {
   "cell_type": "code",
   "execution_count": null,
   "metadata": {},
   "outputs": [],
   "source": [
    "#跳出内层循环\n",
    "i=1\n",
    "while i<100:\n",
    "    i=i+1\n",
    "    j=2\n",
    "    n=int(i**0.5)\n",
    "    while j<=n:\n",
    "        if i % j==0:\n",
    "            break\n",
    "        j=j+1     \n",
    "    if(j==n+1):\n",
    "        print(str(i)+\" is prime number\")   # is 前面可以加个空格"
   ]
  },
  {
   "cell_type": "markdown",
   "metadata": {},
   "source": [
    "<font face=\"微软雅黑\" size=3>死循环</font> "
   ]
  },
  {
   "cell_type": "markdown",
   "metadata": {},
   "source": [
    "<font face=\"宋体\" color=blue>使用循环语句，要避免出现死循环的问题</font> "
   ]
  },
  {
   "cell_type": "code",
   "execution_count": null,
   "metadata": {},
   "outputs": [],
   "source": [
    "i=1\n",
    "while i<10:\n",
    "    if i%2==0:\n",
    "        i=i+1\n",
    "        continue\n",
    "    else:\n",
    "        print(i)   #出现了死循环\n",
    "        i+=1"
   ]
  },
  {
   "cell_type": "markdown",
   "metadata": {},
   "source": [
    "<font face=\"宋体\" color=blue>这样子就不会有问题：</font> "
   ]
  },
  {
   "cell_type": "code",
   "execution_count": null,
   "metadata": {},
   "outputs": [],
   "source": [
    "for i in range(10):\n",
    "    if i%2==0:\n",
    "        continue\n",
    "    else:\n",
    "        print(i)"
   ]
  },
  {
   "cell_type": "markdown",
   "metadata": {},
   "source": [
    "## 2.5. 函数"
   ]
  },
  {
   "cell_type": "markdown",
   "metadata": {},
   "source": [
    "<font face=\"宋体\">函数是实现代码重复使用的一种方式</font> "
   ]
  },
  {
   "cell_type": "markdown",
   "metadata": {},
   "source": [
    "<font face=\"微软雅黑\" size=3>调用函数</font> "
   ]
  },
  {
   "cell_type": "markdown",
   "metadata": {},
   "source": [
    "<font face=\"宋体\">Python提供了很多内置函数，可以直接调用</font> "
   ]
  },
  {
   "cell_type": "code",
   "execution_count": null,
   "metadata": {},
   "outputs": [],
   "source": [
    "print(abs(-20))\n",
    "print(int(3.5))\n",
    "print(float(5))\n",
    "print(str(6))\n",
    "a=[1,3,5]\n",
    "print(max(a))\n",
    "print(min(a))"
   ]
  },
  {
   "cell_type": "markdown",
   "metadata": {},
   "source": [
    "<font face=\"微软雅黑\" size=3>自定义函数</font> "
   ]
  },
  {
   "cell_type": "markdown",
   "metadata": {},
   "source": [
    "<font face=\"宋体\">def 开头定义函数，依然加冒号：。所有的传入的参数和自变量都必须放在圆括号内，可以在圆括号内定义参数。参数类型和数值要匹配。return后面表示返回值</font> "
   ]
  },
  {
   "cell_type": "code",
   "execution_count": null,
   "metadata": {},
   "outputs": [],
   "source": [
    "#圆的面积\n",
    "r1 = 1\n",
    "r2 = 2 \n",
    "r3 = 3 \n",
    "s1 = 3.14 * r1 * r1 \n",
    "s2 = 3.14 * r2 * r2 \n",
    "s3 = 3.14 * r3 * r3 \n",
    "def area(x):    \n",
    "    if x >= 0: \n",
    "        s=3.14*x*x \n",
    "    else: \n",
    "        s=0\n",
    "    return s\n",
    "print(area(1))\n",
    "print(area(2))\n",
    "print(area(3))"
   ]
  },
  {
   "cell_type": "code",
   "execution_count": null,
   "metadata": {},
   "outputs": [],
   "source": [
    "#股票代码标识，6开头加上XSHG，否则为XSHE\n",
    "def replace_code(code):\n",
    "    if code[0]=='6':\n",
    "        code2=code+'.XSHG'\n",
    "    elif code[0]=='0':\n",
    "        code2=code+'.SZHG'\n",
    "    else:\n",
    "        code2=code+'.CYHE'\n",
    "    return code2\n",
    "x=replace_code('000059')\n",
    "print(x)"
   ]
  },
  {
   "cell_type": "markdown",
   "metadata": {},
   "source": [
    "<font face=\"微软雅黑\" size=3>函数参数</font>"
   ]
  },
  {
   "cell_type": "markdown",
   "metadata": {},
   "source": [
    "<font face=\"宋体\">函数的参数：默认参数，减少调用书写，必须按照顺序</font>"
   ]
  },
  {
   "cell_type": "code",
   "execution_count": null,
   "metadata": {},
   "outputs": [],
   "source": [
    "def power(x, n=2): #n直接给定也可以，n=2\n",
    "    s = 1 \n",
    "    while n > 0: \n",
    "        n = n - 1 \n",
    "        s = s * x \n",
    "    return s \n",
    "print(power(5,4))\n",
    "print(power(5))  #定义时n直接给定，则这一条可以执行，否则不能执行"
   ]
  },
  {
   "cell_type": "markdown",
   "metadata": {},
   "source": [
    "<font face=\"微软雅黑\" size=3>函数中的变量</font>"
   ]
  },
  {
   "cell_type": "markdown",
   "metadata": {},
   "source": [
    "<font face=\"宋体\" color=blue>函数中的变量是局部变量，只在函数内有效，函数之外失效</font>"
   ]
  },
  {
   "cell_type": "code",
   "execution_count": null,
   "metadata": {},
   "outputs": [],
   "source": [
    "b= 2\n",
    "def ChangeInt( a ):\n",
    "    b = a*2\n",
    "    return  b\n",
    "print(ChangeInt(3))\n",
    "print( b)  # 想想结果应该是什么"
   ]
  },
  {
   "cell_type": "code",
   "execution_count": null,
   "metadata": {},
   "outputs": [],
   "source": [
    "#练习2.7：编写一个函数，实现如下目的：给定任何一个整数，输出不超过这个整数的所有奇数的和"
   ]
  },
  {
   "cell_type": "code",
   "execution_count": null,
   "metadata": {},
   "outputs": [],
   "source": [
    "#练习2.8：编写一个函数，实现以下目的：给出上财学生百分制成绩，即可得知其绩点"
   ]
  },
  {
   "cell_type": "markdown",
   "metadata": {},
   "source": [
    "<font face=\"微软雅黑\" size=3>匿名函数</font>"
   ]
  },
  {
   "cell_type": "markdown",
   "metadata": {},
   "source": [
    "<font face=\"宋体\">很多情况下，我们需要使用函数的功能，但是又懒得定义一个函数，此时，匿名函数就上场了。匿名函数就是不再使用def语句这样的标准形式定义一个函数。Python用lambda来创建匿名函数</font>"
   ]
  },
  {
   "cell_type": "code",
   "execution_count": null,
   "metadata": {},
   "outputs": [],
   "source": [
    "my_lambda = lambda x: x*100\n",
    "print(my_lambda(123))"
   ]
  },
  {
   "cell_type": "markdown",
   "metadata": {},
   "source": [
    "<font face=\"宋体\">对匿名函数形式的解读：冒号前面为输入，冒号后面为输出。该匿名函数相当于以下普通函数</font>"
   ]
  },
  {
   "cell_type": "code",
   "execution_count": null,
   "metadata": {},
   "outputs": [],
   "source": [
    "def function(x):\n",
    "     return x*100\n",
    "print(function(123))"
   ]
  },
  {
   "cell_type": "markdown",
   "metadata": {},
   "source": [
    "<font face=\"宋体\">两个输入</font>"
   ]
  },
  {
   "cell_type": "code",
   "execution_count": null,
   "metadata": {},
   "outputs": [],
   "source": [
    "test= lambda x,y:x+y*2\n",
    "print(test(2,1))"
   ]
  },
  {
   "cell_type": "markdown",
   "metadata": {},
   "source": [
    "<font face=\"宋体\">相当于：</font>"
   ]
  },
  {
   "cell_type": "code",
   "execution_count": null,
   "metadata": {},
   "outputs": [],
   "source": [
    "def function(x, y):\n",
    "     return x+y*2\n",
    "print(function(2,1))"
   ]
  },
  {
   "cell_type": "markdown",
   "metadata": {},
   "source": [
    "<font face=\"微软雅黑\" size=3>匿名函数优势</font>"
   ]
  },
  {
   "cell_type": "markdown",
   "metadata": {},
   "source": [
    "<font face=\"宋体\">使用Python写一些脚本时，使用lambda可以省去定义函数的过程，让代码更加精简。对于一些抽象的，不会被别的地方再重复使用的函数，有时候函数起个名字也是个难题，使用lambda不需要考虑命名的问题。使用lambda在某些时候然后代码更容易理解</font>"
   ]
  },
  {
   "cell_type": "markdown",
   "metadata": {},
   "source": [
    "<font face=\"微软雅黑\" size=3>高阶函数之map函数，映射</font>"
   ]
  },
  {
   "cell_type": "markdown",
   "metadata": {},
   "source": [
    "<font face=\"宋体\">map函数接收一个函数与序列，它的作用是把一种规则，可以是函数或字典，作用到序列的每一个元素。</font>"
   ]
  },
  {
   "cell_type": "code",
   "execution_count": null,
   "metadata": {},
   "outputs": [],
   "source": [
    "#返回序列中每个元素的倍数\n",
    "lis = [1, 2, 3]\n",
    "def f(x):\n",
    "    return x*2\n",
    "result = map(f, lis)  #将f函数映射到lis的每个序列\n",
    "print(list(result))\n",
    "print([f(a) for a in lis])"
   ]
  },
  {
   "cell_type": "markdown",
   "metadata": {},
   "source": [
    "<font face=\"宋体\">使用lambda函数</font>"
   ]
  },
  {
   "cell_type": "code",
   "execution_count": null,
   "metadata": {},
   "outputs": [],
   "source": [
    "result1 = map(lambda x: x*2, lis) \n",
    "print(list(result1))\n",
    "\n",
    "result2 = [x*2 for x in lis] #使用列表推导式\n",
    "print(result2)"
   ]
  },
  {
   "cell_type": "markdown",
   "metadata": {},
   "source": [
    "<font face=\"微软雅黑\" size=3>附录：效率比较</font>"
   ]
  },
  {
   "cell_type": "markdown",
   "metadata": {},
   "source": [
    "<font face=\"宋体\" color=blue>循环最慢，列表生成之次之，map函数效率最高</font>"
   ]
  },
  {
   "cell_type": "code",
   "execution_count": null,
   "metadata": {},
   "outputs": [],
   "source": [
    "import time , sys\n",
    "reps = 1000\n",
    "size = 10000\n",
    " \n",
    "def tester ( func , *args ) :\n",
    "    startTime = time.time()\n",
    "    for i in range(reps) :\n",
    "        func ( *args )\n",
    "    elapsed = time.time() - startTime\n",
    "    return elapsed\n",
    " \n",
    "def forStatement() :\n",
    "    res = []\n",
    "    for x in range(size) :\n",
    "        res.append(abs(x))\n",
    " \n",
    "#列表解析\n",
    "def listComprehension() :\n",
    "    res = [ abs(x) for x in range(size) ]\n",
    " \n",
    "#map\n",
    "def mapFunction () :\n",
    "    res = map ( abs , range(size) )\n",
    " \n",
    "#生成器表达式\n",
    "def generatorExpression() :\n",
    "    res = list( abs(x) for x in range(size) )\n",
    " \n",
    "print(sys.version)\n",
    "tests = ( forStatement , listComprehension , mapFunction , generatorExpression )\n",
    "for testfunc in tests :\n",
    "    print(testfunc.__name__.ljust(20) , '--->' , tester(testfunc))"
   ]
  },
  {
   "cell_type": "markdown",
   "metadata": {},
   "source": [
    "<font face=\"微软雅黑\" size=3>高阶函数之filter函数，过滤</font>"
   ]
  },
  {
   "cell_type": "markdown",
   "metadata": {},
   "source": [
    "<font face=\"宋体\">filter接收一个函数和一个序列，它的作用是把传入的函数依次作用于每个元素，然后根据返回值是True还是False决定保留还是丢弃该元素。filter返回的是一个迭代器（iterator），因此，需要用list()函数返回结果。</font>"
   ]
  },
  {
   "cell_type": "code",
   "execution_count": null,
   "metadata": {},
   "outputs": [],
   "source": [
    "#求列表中为奇数的元素\n",
    "a1=[1,2,4,3,5,7,8,9,10]\n",
    "def f(x):\n",
    "    if x%2:\n",
    "        return x\n",
    "b1=filter(f, a1)\n",
    "print(list(b1))"
   ]
  },
  {
   "cell_type": "code",
   "execution_count": null,
   "metadata": {},
   "outputs": [],
   "source": [
    "#或者直接用匿名函数表示输入函数\n",
    "b2=filter(lambda x:x%2,a1)\n",
    "print(list(b2))\n",
    "\n",
    "b3=[item*100 for item in filter(lambda x:x%2,a1)]\n",
    "print(b3)"
   ]
  },
  {
   "cell_type": "code",
   "execution_count": null,
   "metadata": {},
   "outputs": [],
   "source": [
    "#筛选列表中大于3的元素\n",
    "a1=[1,2,4,3,5,7,8,9,10]\n",
    "b1=[i*10 for i in filter(lambda x:x>3,a1)]\n",
    "print(b1)"
   ]
  },
  {
   "cell_type": "code",
   "execution_count": null,
   "metadata": {
    "scrolled": true
   },
   "outputs": [],
   "source": [
    "#筛选列表中为3的倍数的元素\n",
    "a2=range(1,10)\n",
    "b2=[i*10 for i in filter(lambda x:x%3==0,a2)]\n",
    "print(b2)"
   ]
  },
  {
   "cell_type": "code",
   "execution_count": null,
   "metadata": {},
   "outputs": [],
   "source": [
    "#练习2.9：使用filter函数，将以下列表中，姓为“郭”的姓名挑选出来，但却只保留它的“名”\n",
    "name=['郭峰','乔峰','汪峰','郭靖']"
   ]
  },
  {
   "cell_type": "markdown",
   "metadata": {},
   "source": [
    "<font face=\"微软雅黑\" size=3>filter是满足条件（条件为真）的留下，是对原数组的过滤；map则是对原数组的加工，映射成一个新数组。</font>"
   ]
  },
  {
   "cell_type": "markdown",
   "metadata": {},
   "source": [
    "## 2.6. Python常见错误与调试"
   ]
  },
  {
   "cell_type": "markdown",
   "metadata": {},
   "source": [
    "<font face=\"宋体\">在程序运行过程中，总会遇到各种各样的错误。经过一段学习后，应该能对常见的错误进行判断和处理</font>"
   ]
  },
  {
   "cell_type": "markdown",
   "metadata": {},
   "source": [
    "<font face=\"微软雅黑\" size=3>常见错误</font>"
   ]
  },
  {
   "cell_type": "markdown",
   "metadata": {},
   "source": [
    "<font face=\"宋体\">例如：语法错误，通常提示：SyntaxError，invalid syntax</font>"
   ]
  },
  {
   "cell_type": "code",
   "execution_count": null,
   "metadata": {},
   "outputs": [],
   "source": [
    "i=1\n",
    "s=0\n",
    "while i<11:   #如果去掉这个冒号，就会报错“SyntaxError”\n",
    "    s=s+i\n",
    "    i=i+1\n",
    "    #print(i)\n",
    "print(s)        #如果这里少一个括号，也会报错“SyntaxError”"
   ]
  },
  {
   "cell_type": "markdown",
   "metadata": {},
   "source": [
    "<font face=\"宋体\">其他常见错误：  \n",
    "invalid syntax\t语法错误。表示基本语法错误，譬如中文冒号；引号；缺少括号等    \n",
    "AttributeError\t对象没有这个属性， 访问一个不存在的方法，通常是拼写错误  \n",
    "IndexError\t序列中没有此索引(index)，列表、字符串或者元组下标越界  \n",
    "KeyError\t字典中没有这个键  \n",
    "MemoryError\t内存溢出错误(对于Python 解释器不是致命的)  \n",
    "NameError\t未声明/初始化对象 (没有属性)，在他前面的变量名可能写错了  \n",
    "TypeError\t对类型无效的操作，变量类型错误，参数错误等  \n",
    "ValueError\t传入无效的参数  \n",
    "更完整的常见错误列表参见：https://www.cnblogs.com/zln1021/p/6106185.html</font>"
   ]
  },
  {
   "cell_type": "markdown",
   "metadata": {},
   "source": [
    "<font face=\"微软雅黑\" size=3>异常处理</font>"
   ]
  },
  {
   "cell_type": "markdown",
   "metadata": {},
   "source": [
    "<font face=\"宋体\">针对常见异常，python解析器会输出错误的那一行，并且在最先找到的错误的位置标记了一个箭头。对于难理解的异常可以将报错内容在百度、Google等搜索引擎中进行检索，基本上都能找到解决办法。例如百度：SyntaxError: unexpected EOF while parsing。</font>"
   ]
  },
  {
   "cell_type": "markdown",
   "metadata": {},
   "source": [
    "<font face=\"宋体\">对于程序运行中出现的某些异常，如果我们想跳过该异常，那么可以采用try...except语句继续执行。首先执行try子句（try和except关键字之间的（多行）语句，如果没有异常发生，则跳过except子句并完成try语句执行；如果执行try子句时出现异常，则跳过try剩余子句。然后，如果异常类型和except关键字的异常匹配，则执行except子句；如果未发生异常，则执行完except子句后跳出，执行try...except..之外的代码；如果发生异常和except子句中指定的异常都不匹配，则将其传递到外部的try语句中；如果未找到处理程序，则程序将停止并显示执行错误的提示信息。</font>"
   ]
  },
  {
   "cell_type": "markdown",
   "metadata": {},
   "source": [
    "<font face=\"微软雅黑\" size=3>异常示例</font>"
   ]
  },
  {
   "cell_type": "markdown",
   "metadata": {},
   "source": [
    "<font face=\"宋体\">except捕捉多个异常，异常类型放到except后面的元组里</font>"
   ]
  },
  {
   "cell_type": "code",
   "execution_count": null,
   "metadata": {},
   "outputs": [],
   "source": [
    "try: \n",
    "    10*(1/0)    #0不能做分母\n",
    "except ZeroDivisionError:\n",
    "    print('零不能整除')\n",
    "except TypeError:\n",
    "    print('类型错误')\n",
    "print('执行完毕')"
   ]
  },
  {
   "cell_type": "code",
   "execution_count": null,
   "metadata": {},
   "outputs": [],
   "source": [
    "try: \n",
    "    10*(1/0)    #0不能做分母\n",
    "except:\n",
    "    print('有错误')\n",
    "print('执行完毕')"
   ]
  },
  {
   "cell_type": "code",
   "execution_count": null,
   "metadata": {},
   "outputs": [],
   "source": [
    "num=[4,5,6,8,9,0,10,20,30]\n",
    "for n in num:\n",
    "    try: \n",
    "        result=10*(1/n)    #0不能做分\n",
    "    except:\n",
    "        print(n,'出现错误')\n",
    "    print(n,result)  #这里有问题，需要注意一下\n",
    "#print('执行完毕')"
   ]
  },
  {
   "cell_type": "markdown",
   "metadata": {},
   "source": [
    "<font face=\"宋体\">可以不用指定异常类型，这相当于指定多个操作路径。这个在网页爬虫出现解码错误时，可以指定多个编码格式，非常有用。</font>"
   ]
  },
  {
   "cell_type": "code",
   "execution_count": null,
   "metadata": {},
   "outputs": [],
   "source": [
    "try:\n",
    "    print(4/0)\n",
    "except:\n",
    "    try:\n",
    "        print(5/0)\n",
    "    except:\n",
    "        print(6)"
   ]
  },
  {
   "cell_type": "markdown",
   "metadata": {},
   "source": [
    "<font face=\"宋体\">try...except Exception as e：Exception匹配了所有异常，把异常名称赋给了e，其中e也可以换成其他变量名。</font>"
   ]
  },
  {
   "cell_type": "code",
   "execution_count": null,
   "metadata": {},
   "outputs": [],
   "source": [
    "try:\n",
    "    10*(1/0)\n",
    "except Exception as e:\n",
    "    print('代码异常，异常类型：',str(e))"
   ]
  },
  {
   "cell_type": "markdown",
   "metadata": {},
   "source": [
    "<font face=\"宋体\">try...except...finally：finally的作用时，无论except是否捕捉到异常，finally后面的代码都会执行。</font>"
   ]
  },
  {
   "cell_type": "code",
   "execution_count": null,
   "metadata": {},
   "outputs": [],
   "source": [
    "import sys\n",
    "import time\n",
    "\n",
    "f = None\n",
    "try:\n",
    "    f = open('poem.txt')\n",
    "except IOError:\n",
    "    print('Could not find the file')\n",
    "except KeyboardInterrupt:\n",
    "    print('You cancel the reading from the file')\n",
    "finally:\n",
    "    if f:\n",
    "        f.close()\n",
    "    print('closed the file')"
   ]
  },
  {
   "cell_type": "markdown",
   "metadata": {},
   "source": [
    "<font face=\"宋体\">说明：try一般应用在爬虫等地方，百万个帖子中，有几个异常帖子，跳过不爬，也不让它影响爬虫进程</font>"
   ]
  },
  {
   "cell_type": "markdown",
   "metadata": {},
   "source": [
    "<font face=\"微软雅黑\" size=3>本讲结束</font>"
   ]
  }
 ],
 "metadata": {
  "kernelspec": {
   "display_name": "Python 3",
   "language": "python",
   "name": "python3"
  },
  "language_info": {
   "codemirror_mode": {
    "name": "ipython",
    "version": 3
   },
   "file_extension": ".py",
   "mimetype": "text/x-python",
   "name": "python",
   "nbconvert_exporter": "python",
   "pygments_lexer": "ipython3",
   "version": "3.6.2"
  }
 },
 "nbformat": 4,
 "nbformat_minor": 2
}
