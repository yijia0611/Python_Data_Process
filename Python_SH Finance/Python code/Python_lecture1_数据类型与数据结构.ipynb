{
 "cells": [
  {
   "cell_type": "markdown",
   "metadata": {},
   "source": [
    "# 第1讲 数据类型与数据结构"
   ]
  },
  {
   "cell_type": "markdown",
   "metadata": {},
   "source": [
    "<font face=\"宋体\" >郭峰（Email：guofengsfi@163.com)   \n",
    "副教授、博士生导师  \n",
    "上海财经大学公共经济与管理学院 </font> "
   ]
  },
  {
   "cell_type": "markdown",
   "metadata": {},
   "source": [
    "<font face=\"宋体\" >本讲目录:  \n",
    "1.1. 数据类型与变量赋值   \n",
    "1.2. 运算符  \n",
    "1.3. 列表与元组  \n",
    "1.4. 字符串  \n",
    "1.5. 字典与集合 </font>  "
   ]
  },
  {
   "cell_type": "markdown",
   "metadata": {},
   "source": [
    "## 1.1. 数据类型与变量赋值"
   ]
  },
  {
   "cell_type": "markdown",
   "metadata": {},
   "source": [
    "<font face=\"宋体\" >Python的数据类型  \n",
    "整数（int）：  1   -100  \n",
    "浮点数（float）：  3.1415926   6.77e10  \n",
    "布尔值（bool）： True False  \n",
    "空值：   None  \n",
    "字符串（string）：   'abc'   \"xyz\"  \"\"\"I am ok\"\"\"  \n",
    "两个单引号或双引号（不能一单一双），如果字符串本身包含单引号，则用双引号表示。 </font> "
   ]
  },
  {
   "cell_type": "markdown",
   "metadata": {},
   "source": [
    "<font face=\"宋体\" >列表（list)、元组（tuple)、字典（dictionary）、集合（sets)，也可以认为是一种数据类型，但我倾向于把他们视作一种“数据结构”，下文详述</font>"
   ]
  },
  {
   "cell_type": "markdown",
   "metadata": {},
   "source": [
    "<font face=\"微软雅黑\" size=4>数据类型判断 </font>   "
   ]
  },
  {
   "cell_type": "code",
   "execution_count": null,
   "metadata": {
    "scrolled": true
   },
   "outputs": [],
   "source": [
    "print(type(42.0))  #浮点数\n",
    "print(type('i am ok'))  #字符串\n",
    "print(type (1))  #整数\n",
    "print(type (True)) #布尔值"
   ]
  },
  {
   "cell_type": "markdown",
   "metadata": {},
   "source": [
    "<font face=\"微软雅黑\" size=3>数据类型转换 </font>  "
   ]
  },
  {
   "cell_type": "code",
   "execution_count": null,
   "metadata": {},
   "outputs": [],
   "source": [
    "print(int(5.66))  #向下取整  \n",
    "print(type('556'))\n",
    "print(int('556'))\n",
    "print(float('5'))\n",
    "print(float(6))\n",
    "print(bool(9))  #非零、非空即真\n",
    "print(bool(0.0)) \n",
    "print(bool(None))\n",
    "print(str(111))"
   ]
  },
  {
   "cell_type": "markdown",
   "metadata": {},
   "source": [
    "<font face=\"微软雅黑\" size=3>附录：四舍五入round(t,n)   </font>  "
   ]
  },
  {
   "cell_type": "markdown",
   "metadata": {},
   "source": [
    "<font face=\"宋体\">一些十进制的小数，转换成二进制的时候就是无限循环小数了,存储时由于位数限制会丢失部分精度。比如2.55实际上在计算机的存储中是2.54999999999999982...再比如2.60在计算机存储为2.60000000000000008881..当保留位的下一位为1-4时，由于在存储中也小于5，四舍五入没有问题；当保留位的下一位为6-9时，其在存储中大于5，四舍五入也没问题。当保留小数位后有至少两位时，也不存在这样的问题，但当小数位后只有1位5时，在存储中可能存为49..可能会出现问题。参考：https://www.zhihu.com/question/20128906/answer/38215332</font> "
   ]
  },
  {
   "cell_type": "markdown",
   "metadata": {},
   "source": [
    "<font face=\"微软雅黑\" size=3>数据类型不能误用 </font>  "
   ]
  },
  {
   "cell_type": "markdown",
   "metadata": {},
   "source": [
    "<font face=\"宋体\" color=Blue>Python的数据类型比较灵活，但仍然需要重视不能误用、混用。例如，字符串和数字不能相加，如果必须“相加”，需要先转换一下格式。下面这个需要在编程中经常遇到： </font> "
   ]
  },
  {
   "cell_type": "code",
   "execution_count": null,
   "metadata": {},
   "outputs": [],
   "source": [
    "print(\"圆周率是：\"+str(3.14))"
   ]
  },
  {
   "cell_type": "code",
   "execution_count": null,
   "metadata": {},
   "outputs": [],
   "source": [
    "#以下为报错：\n",
    "print(\"圆周率是：\"+3.14)"
   ]
  },
  {
   "cell_type": "markdown",
   "metadata": {},
   "source": [
    "<font face=\"微软雅黑\" size=3>变量赋值  赋值符号左边为变量</font>  "
   ]
  },
  {
   "cell_type": "code",
   "execution_count": null,
   "metadata": {},
   "outputs": [],
   "source": [
    "x=10\n",
    "x1=5\n",
    "x2=x+x1\n",
    "y='abc'\n",
    "z=True\n",
    "print(x,y,z)\n",
    "print(x2)\n",
    "#Python中语句结束不需要以分号结束，变量不需要提前定义（有一些编程语言需要，如Matlab）"
   ]
  },
  {
   "cell_type": "markdown",
   "metadata": {},
   "source": [
    "<font face=\"宋体\">变量（标识符）命名规则：  \n",
    "包含字母、数字、下划线等，但不能是数字开头，以下无效：2things；\n",
    "大小写敏感；    \n",
    "不能是程序关键字（如if，and和or等） Python 3 共有33个关键字，都不能作为变量名使用；  \n",
    "关键词列表：https://blog.csdn.net/lifanping/article/details/78501046</font> "
   ]
  },
  {
   "cell_type": "markdown",
   "metadata": {},
   "source": [
    "<font face=\"宋体\">最好是变量英文名称或汉语拼音，方便理解</font>"
   ]
  },
  {
   "cell_type": "code",
   "execution_count": null,
   "metadata": {},
   "outputs": [],
   "source": [
    "gdp=100000\n",
    "GDP=gdp*2\n",
    "print(gdp,GDP)"
   ]
  },
  {
   "cell_type": "markdown",
   "metadata": {},
   "source": [
    "<font face=\"微软雅黑\" size=3>别样赋值,序列解包</font>  "
   ]
  },
  {
   "cell_type": "code",
   "execution_count": null,
   "metadata": {},
   "outputs": [],
   "source": [
    "x,y,z=1,2,3\n",
    "print(x,y,z)\n",
    "#x，y数值交换\n",
    "x,y=y,x\n",
    "print(x,y,z)\n",
    "#在大数据编程中使用这个方法，可以减少新变量的产生"
   ]
  },
  {
   "cell_type": "markdown",
   "metadata": {},
   "source": [
    "## 1.2. 运算符"
   ]
  },
  {
   "cell_type": "markdown",
   "metadata": {},
   "source": [
    "<font face=\"宋体\">算术运算  \n",
    "加（+）减（-）乘（\\*）除（/）整除（//）余数（%）  \n",
    "幂运算 **  \n",
    "逻辑运算 and ，or，not  \n",
    "关系（比较）运算 <,>,<=,>=,==,!=  \n",
    "成员运算 in ， not in  \n",
    "</font> "
   ]
  },
  {
   "cell_type": "markdown",
   "metadata": {},
   "source": [
    "<font face=\"微软雅黑\" size=3>算术运算</font>  "
   ]
  },
  {
   "cell_type": "code",
   "execution_count": null,
   "metadata": {},
   "outputs": [],
   "source": [
    "a=1\n",
    "b=10\n",
    "c=a+b\n",
    "print(c)\n",
    "print(a+b)\n",
    "print(11%3)  #求余运算"
   ]
  },
  {
   "cell_type": "markdown",
   "metadata": {},
   "source": [
    "<font face=\"宋体\" color=Blue>字符串也可以相加！！！【但不能相减，去试试！】 </font> "
   ]
  },
  {
   "cell_type": "code",
   "execution_count": null,
   "metadata": {},
   "outputs": [],
   "source": [
    "print(\"a\"+\"b\")\n",
    "print(\"a\"*5)  "
   ]
  },
  {
   "cell_type": "markdown",
   "metadata": {},
   "source": [
    "<font face=\"宋体\" >如果需要字符串和数字相加怎么办？ </font> "
   ]
  },
  {
   "cell_type": "code",
   "execution_count": null,
   "metadata": {},
   "outputs": [],
   "source": [
    "a='age'\n",
    "b=35\n",
    "print(a+str(b))  "
   ]
  },
  {
   "cell_type": "code",
   "execution_count": null,
   "metadata": {},
   "outputs": [],
   "source": [
    "#增加一些连接符号，是方便未来再分割\n",
    "print(a+'_'+str(b))  "
   ]
  },
  {
   "cell_type": "code",
   "execution_count": null,
   "metadata": {},
   "outputs": [],
   "source": [
    "#琢磨一下这个，初学者常见错误\n",
    "print(a+'_'+'b')  "
   ]
  },
  {
   "cell_type": "markdown",
   "metadata": {},
   "source": [
    "<font face=\"宋体\" >因为字符串可以相加，所以文件目录名，网址等都可以相加了</font> "
   ]
  },
  {
   "cell_type": "code",
   "execution_count": null,
   "metadata": {},
   "outputs": [],
   "source": [
    "path='D:/python/郭峰Python讲义/数据与结果/'  #python当中\\是转义符，转义符的具体含义下文详述\n",
    "filename='abc1.docx'\n",
    "print(path+filename)"
   ]
  },
  {
   "cell_type": "code",
   "execution_count": null,
   "metadata": {},
   "outputs": [],
   "source": [
    "for i in range(1,10):  #生成1-9的列表（不是1-10）\n",
    "    print(path+'abc'+str(i)+'.docx')"
   ]
  },
  {
   "cell_type": "markdown",
   "metadata": {},
   "source": [
    "<font face=\"微软雅黑\" size=3>关系运算</font>  "
   ]
  },
  {
   "cell_type": "code",
   "execution_count": null,
   "metadata": {},
   "outputs": [],
   "source": [
    "print(8==8)\n",
    "print(7!=5)\n",
    "print(4<6)\n",
    "print(4<1 and 4<5)\n",
    "print(1<4<5)"
   ]
  },
  {
   "cell_type": "markdown",
   "metadata": {},
   "source": [
    "<font face=\"宋体\" >对于print(1<4<5)，需要说明的是：有的编程语言是从左到右依次比较，而Python是直接比较所有的，比较智能。</font> "
   ]
  },
  {
   "cell_type": "markdown",
   "metadata": {},
   "source": [
    "<font face=\"微软雅黑\" size=3>逻辑运算</font>  "
   ]
  },
  {
   "cell_type": "code",
   "execution_count": null,
   "metadata": {},
   "outputs": [],
   "source": [
    "print(3==5)\n",
    "print(3==5 or 1==5/5)\n",
    "print(3==5 and 1==5/5)\n",
    "print(1<2 or 3+4)   #结果为True\n",
    "print(1>2 or 3+4)   #结果为7"
   ]
  },
  {
   "cell_type": "code",
   "execution_count": null,
   "metadata": {},
   "outputs": [],
   "source": [
    "print(True and True)\n",
    "print(True and False)\n",
    "print(False and True)\n",
    "print(False or False)\n",
    "print(True and True)   #True\n",
    "print(True and False)  #False\n",
    "print(False and True)  #False\n",
    "print(False and False) #False\n",
    "print(not True)        #False\n",
    "print(not False)       #True"
   ]
  },
  {
   "cell_type": "markdown",
   "metadata": {},
   "source": [
    "<font face=\"微软雅黑\" size=3>赋值运算符</font>  "
   ]
  },
  {
   "cell_type": "code",
   "execution_count": null,
   "metadata": {},
   "outputs": [],
   "source": [
    "a=1\n",
    "b=2\n",
    "a=a*10000\n",
    "#a=a+b\n",
    "#b=a/b\n",
    "#a=1+b//a   #\n",
    "#a=a+1\n",
    "#a+=1\n",
    "#a=b=5*7\n",
    "#a=b==2\n",
    "#a=(b==5*7) \n",
    "print(a,b)"
   ]
  },
  {
   "cell_type": "markdown",
   "metadata": {},
   "source": [
    "<font face=\"微软雅黑\" size=3>成员运算</font>  "
   ]
  },
  {
   "cell_type": "code",
   "execution_count": null,
   "metadata": {},
   "outputs": [],
   "source": [
    "print('a' in 'abcx')\n",
    "d='x'\n",
    "print('d' in  'abcx')\n",
    "#结果为True 或者 False"
   ]
  },
  {
   "cell_type": "code",
   "execution_count": null,
   "metadata": {},
   "outputs": [],
   "source": [
    "words='我是上海财经大学的一名学生，我正在努力学习python语言'\n",
    "word='学生'\n",
    "print(word in words)"
   ]
  },
  {
   "cell_type": "markdown",
   "metadata": {},
   "source": [
    "<font face=\"宋体\" color=Blue>运算优先级：符合基本数学逻辑：先乘除，后加减，小括号优先。</font> "
   ]
  },
  {
   "cell_type": "markdown",
   "metadata": {},
   "source": [
    "<font face=\"宋体\" >关于运算符更详细的介绍，可以参阅网络资料： https://www.cnblogs.com/kongjiangbing/p/7258535.html</font> "
   ]
  },
  {
   "cell_type": "markdown",
   "metadata": {},
   "source": [
    "## 1.3. 列表与元组"
   ]
  },
  {
   "cell_type": "markdown",
   "metadata": {},
   "source": [
    "<font face=\"宋体\" >在Python 中，最基本的数据结构是序列（sequence）,序列可以分为列表、元组等；  \n",
    "序列中的每个元素被分配一个序号，即元素的位置，也称索引；  \n",
    "第一个索引是0，第二个索引是1，以此类推，最后一个元素索引为-1，倒数第二个为-2；  \n",
    "此外，字符串也可以视为一个特殊的列表,列表的相关方法，字符串大部分也适用。</font> "
   ]
  },
  {
   "cell_type": "markdown",
   "metadata": {},
   "source": [
    "<font face=\"微软雅黑\" size=3>列表</font>   "
   ]
  },
  {
   "cell_type": "code",
   "execution_count": null,
   "metadata": {},
   "outputs": [],
   "source": [
    "#用中括号圈起，逗号分隔：[10, 20, 30, 40]\n",
    "a=[10,20, 30, 40]\n",
    "print(a)"
   ]
  },
  {
   "cell_type": "markdown",
   "metadata": {},
   "source": [
    "<font face=\"微软雅黑\" size=3>列表的访问</font>  "
   ]
  },
  {
   "cell_type": "code",
   "execution_count": null,
   "metadata": {},
   "outputs": [],
   "source": [
    "#从零开始\n",
    "print(a[0]) \n",
    "\n",
    "b=[\"abc\",\"def\",'xyz']\n",
    "print(b[2])"
   ]
  },
  {
   "cell_type": "markdown",
   "metadata": {},
   "source": [
    "<font face=\"微软雅黑\" size=3>嵌套列表</font>  "
   ]
  },
  {
   "cell_type": "code",
   "execution_count": null,
   "metadata": {},
   "outputs": [],
   "source": [
    "a=[\"age\",35,[[1,2],[3,4,5,6],[7,8,9]]]\n",
    "print(a[0][1])\n",
    "print(str(a[1])[0])\n",
    "print(a[2][1][1])"
   ]
  },
  {
   "cell_type": "markdown",
   "metadata": {},
   "source": [
    "<font face=\"微软雅黑\" size=3>列表的赋值和改变表</font>  "
   ]
  },
  {
   "cell_type": "code",
   "execution_count": null,
   "metadata": {},
   "outputs": [],
   "source": [
    "a=[[1,2],[3,4,5,6],[7,8,9]]\n",
    "a[1][2]=6 \n",
    "print(a)"
   ]
  },
  {
   "cell_type": "markdown",
   "metadata": {},
   "source": [
    "<font face=\"微软雅黑\" size=3>列表相加</font>  "
   ]
  },
  {
   "cell_type": "code",
   "execution_count": null,
   "metadata": {},
   "outputs": [],
   "source": [
    "a=[1,2,3]\n",
    "b=[4,5,6]\n",
    "c=a+b     #[1,2,3,4,5,6] 序列相加是连接操作\n",
    "print(c)"
   ]
  },
  {
   "cell_type": "markdown",
   "metadata": {},
   "source": [
    "<font face=\"微软雅黑\" size=3>列表分片</font>  "
   ]
  },
  {
   "cell_type": "code",
   "execution_count": null,
   "metadata": {},
   "outputs": [],
   "source": [
    "num=[1,2,3,4,5,6,7,8,9,10,\";\"]\n",
    "a=num[0:4] #左闭右开的“区间”\n",
    "b=num[-1] #最后一个\n",
    "c=num[0:-1] #到倒数第二个\n",
    "d=num[5:] #到末尾\n",
    "print(a,b,c,d)"
   ]
  },
  {
   "cell_type": "markdown",
   "metadata": {},
   "source": [
    "<font face=\"微软雅黑\" size=3>列表的相关函数</font>  "
   ]
  },
  {
   "cell_type": "code",
   "execution_count": null,
   "metadata": {},
   "outputs": [],
   "source": [
    "a=[1,2,3,4,5]\n",
    "#del(a[0])  #删除后的列表为[2,3,4,5] \n",
    "#print(a)\n",
    "print(a[0:len(a)-1]) #len：统计列表元素的数量\n",
    "print(3 in a)      # 判断，True\n",
    "print(max(a))    #取列表最大值\n",
    "print(min(a))     #取列表最小值\n",
    "#print(a)"
   ]
  },
  {
   "cell_type": "markdown",
   "metadata": {},
   "source": [
    "<font face=\"微软雅黑\" size=3>列表相关方法1</font>  "
   ]
  },
  {
   "cell_type": "code",
   "execution_count": null,
   "metadata": {},
   "outputs": [],
   "source": [
    "a=[1,2,3,4,5,3]  \n",
    "b=[6,7,8]\n",
    "a_count=a.count(3)  #统计a中3出现的次数\n",
    "a_index=a.index(3) #找到3的索引位置,只返回第一个\n",
    "#另：a.index(3,3)  #第二个参数可以指定返回从某个索引以后出现的。\n",
    "a.insert(3,9) #在索引3处插入9，其他后移\n",
    "a.reverse() #反向列表中的元素\n",
    "a.sort() #对列表进行排序\n",
    "print(a)\n",
    "print(a_count)\n",
    "print(a_index)\n",
    "#print(cc)\n",
    "#print(a)"
   ]
  },
  {
   "cell_type": "markdown",
   "metadata": {},
   "source": [
    "<font face=\"微软雅黑\" size=3> 删除元素的方法</font> "
   ]
  },
  {
   "cell_type": "code",
   "execution_count": null,
   "metadata": {},
   "outputs": [],
   "source": [
    "a=[1,2,3,4,5,3] \n",
    "#c=a.pop() #移除最后一个元素，a少了3，c返回的是3\n",
    "a.remove(3) #将值为3的元素（第一个）删一个，从最前开始\n",
    "#c=a.pop(2) \n",
    "print(a)\n",
    "print(c)\n",
    "d=a.remove(3)\n",
    "#print(a)\n",
    "#print(d)"
   ]
  },
  {
   "cell_type": "markdown",
   "metadata": {},
   "source": [
    "<font face=\"微软雅黑\" size=3>添加元素</font> "
   ]
  },
  {
   "cell_type": "code",
   "execution_count": null,
   "metadata": {},
   "outputs": [],
   "source": [
    "#这个要仔细区分\n",
    "a=[1,2,3,4,5,3] \n",
    "a1=[1,2,3,4,5,3]\n",
    "b=[6,7,8]\n",
    "#a.append(b)  #在列表末尾添加元素\n",
    "a.extend(b) #a这个列表后面添加b列表\n",
    "#c=a.append(b)\n",
    "print(a)\n",
    "#print(c)\n",
    "d=a1.extend(b)\n",
    "#print(a1)\n",
    "#print(d)\n",
    "#print(len(a),len(a1))"
   ]
  },
  {
   "cell_type": "markdown",
   "metadata": {},
   "source": [
    "<font face=\"微软雅黑\" size=3>表相关方法2</font> "
   ]
  },
  {
   "cell_type": "code",
   "execution_count": null,
   "metadata": {},
   "outputs": [],
   "source": [
    "t=['b','a','c']\n",
    "#t.append('x')\n",
    "#t2=['v','f']\n",
    "#t.extend(t2)\n",
    "t.sort() # 对于多维列表，按第一个元素排序\n",
    "#t.sort(reverse=True)#降序排列\n",
    "#删除元素，指定下标\n",
    "#t.pop(1) #删除所以为1的元素\n",
    "#del t[1:3] #删除多个元素\n",
    "#t.count('a') #统计'a'出现的次数\n",
    "print(t)\n",
    "print(t.count('a'))\n"
   ]
  },
  {
   "cell_type": "markdown",
   "metadata": {},
   "source": [
    "<font face=\"微软雅黑\" size=3>特殊列表生成式</font> "
   ]
  },
  {
   "cell_type": "code",
   "execution_count": null,
   "metadata": {},
   "outputs": [],
   "source": [
    "a1=range(0,11)\n",
    "print(list(a1))"
   ]
  },
  {
   "cell_type": "code",
   "execution_count": null,
   "metadata": {},
   "outputs": [],
   "source": [
    "a2=range(0,11,2)\n",
    "print(a2)\n",
    "print(list(a2))"
   ]
  },
  {
   "cell_type": "markdown",
   "metadata": {},
   "source": [
    "<font face=\"微软雅黑\" size=3>元组</font> "
   ]
  },
  {
   "cell_type": "markdown",
   "metadata": {},
   "source": [
    "<font face=\"宋体\" >元组是不可变序列，用逗号分隔了一些值，自动创建了元组。tuple函数的功能与list函数功能基本一致，只是不可改变，所以用小括号。函数和方法类同列表，但不可修改。</font>"
   ]
  },
  {
   "cell_type": "code",
   "execution_count": null,
   "metadata": {},
   "outputs": [],
   "source": [
    "x=(1,2)\n",
    "y=[1,2]\n",
    "#x[0]=2  这个会报错\n",
    "y[0]=4\n",
    "print(len(x),y)"
   ]
  },
  {
   "cell_type": "markdown",
   "metadata": {},
   "source": [
    "## 1.4. 字符串"
   ]
  },
  {
   "cell_type": "markdown",
   "metadata": {},
   "source": [
    "<font face=\"宋体\" >字符串是一个序列，如同列表，列表可以使用的方法，他大部分也适用</font>"
   ]
  },
  {
   "cell_type": "code",
   "execution_count": null,
   "metadata": {},
   "outputs": [],
   "source": [
    "fruit='banana'\n",
    "a=fruit[1] #下标从0开始\n",
    "print(a)"
   ]
  },
  {
   "cell_type": "markdown",
   "metadata": {},
   "source": [
    "<font face=\"微软雅黑\" size=3>字符串的计算</font> "
   ]
  },
  {
   "cell_type": "code",
   "execution_count": null,
   "metadata": {},
   "outputs": [],
   "source": [
    "#字符串相加\n",
    "a=\"abc\"\n",
    "b=\"xyz\"\n",
    "print(a+b) #拼接\n"
   ]
  },
  {
   "cell_type": "code",
   "execution_count": null,
   "metadata": {},
   "outputs": [],
   "source": [
    "#字符串切片\n",
    "c=a+b\n",
    "d=c[2:5]  #切片\n",
    "print(d)"
   ]
  },
  {
   "cell_type": "markdown",
   "metadata": {},
   "source": [
    "<font face=\"宋体\" >切片操作是指按照步长，截取从起始索引到结束索引，但不包含结束索引的所有元素，将步长设为-1，就可以反序切片</font>"
   ]
  },
  {
   "cell_type": "code",
   "execution_count": null,
   "metadata": {},
   "outputs": [],
   "source": [
    "#s=['M','o','n','t','y',' ','P','y','t','o','n']\n",
    "s='Monty Python'\n",
    "print(s[0:5])  #'Monty'\n",
    "print(s[6:12]) #'Python'\n",
    "print(s[:5])\n",
    "print(s[6:])\n",
    "print(s[:])\n",
    "print(s[5:5])  #空"
   ]
  },
  {
   "cell_type": "code",
   "execution_count": null,
   "metadata": {},
   "outputs": [],
   "source": [
    "word='a  banana  a'\n",
    "print(word.find('an')) #指定查找的起始和终止位置"
   ]
  },
  {
   "cell_type": "markdown",
   "metadata": {},
   "source": [
    "<font face=\"微软雅黑\" size=3>字符串方法：搜索与替换</font> "
   ]
  },
  {
   "cell_type": "code",
   "execution_count": null,
   "metadata": {},
   "outputs": [],
   "source": [
    "#查找\n",
    "word='a  banana  a'\n",
    "#print(word.find('na')) #查找字符串’na‘第一次出现的位置\n",
    "print(word.find('na',3)) # 指定查找的起始位置\n",
    "#word.find('na',3,5) #指定查找的起始和终止位置\n"
   ]
  },
  {
   "cell_type": "code",
   "execution_count": null,
   "metadata": {},
   "outputs": [],
   "source": [
    "#替换\n",
    "word=word.replace(' ','') #用前面替换后面\n",
    "print(word)\n",
    "word2='aabs....ddab'  #\n",
    "word3=word2.replace('.','')\n",
    "print(word2)\n",
    "print(word3)"
   ]
  },
  {
   "cell_type": "markdown",
   "metadata": {},
   "source": [
    "<font face=\"微软雅黑\" size=3>其他字符串方法</font> "
   ]
  },
  {
   "cell_type": "code",
   "execution_count": null,
   "metadata": {},
   "outputs": [],
   "source": [
    "word='hello word '\n",
    "print(word.lower())   # 全小写\n",
    "print(word.upper())   # 全大写\n",
    "print(word.capitalize()) #首字母大写"
   ]
  },
  {
   "cell_type": "code",
   "execution_count": null,
   "metadata": {},
   "outputs": [],
   "source": [
    "word=' hello word '\n",
    "print(word.rstrip()) #去除右边空格\n",
    "print(word.lstrip())  #去除左边空格\n",
    "print(word.strip())   #去除两边空格\n",
    "#去空格在网络爬虫中使用较多，文件两侧莫名多了一些空格，可以用此删除"
   ]
  },
  {
   "cell_type": "markdown",
   "metadata": {},
   "source": [
    "<font face=\"微软雅黑\" size=3>字符串分割符切片</font> "
   ]
  },
  {
   "cell_type": "markdown",
   "metadata": {},
   "source": [
    "<font face=\"宋体\" >语法：str.split(str=\"\",num=string.count(str)),其中str代表制定操作的字符串，str=\"\"代表分隔符，默认为空格；num代表分割次数，返回结果为分割后的字符串</font> "
   ]
  },
  {
   "cell_type": "code",
   "execution_count": null,
   "metadata": {},
   "outputs": [],
   "source": [
    "word='do it now'\n",
    "#wordn=word.split() #空格分割\n",
    "wordn=word.split('i') #用i分割\n",
    "print(wordn)"
   ]
  },
  {
   "cell_type": "code",
   "execution_count": null,
   "metadata": {},
   "outputs": [],
   "source": [
    "time1='2018-4-15'\n",
    "timen=time1.split('-')\n",
    "year=timen[0]\n",
    "print(timen)\n",
    "print(year)"
   ]
  },
  {
   "cell_type": "markdown",
   "metadata": {},
   "source": [
    "<font face=\"微软雅黑\" size=3>列表与字符串的转化</font> "
   ]
  },
  {
   "cell_type": "markdown",
   "metadata": {},
   "source": [
    "<font face=\"宋体\" >join和split与str和list的区别：列表通过join转化为字符串，字符串通过split转化为列表；str和list是对每个字符进行转化</font> "
   ]
  },
  {
   "cell_type": "code",
   "execution_count": 1,
   "metadata": {},
   "outputs": [
    {
     "name": "stdout",
     "output_type": "stream",
     "text": [
      "周一周二周三周四周五周六周日\n"
     ]
    }
   ],
   "source": [
    "a = ['周一','周二','周三','周四','周五','周六','周日']\n",
    "d = \"\".join(a)\n",
    "print(d)\n",
    "#周一周二周三周四周五周六周日"
   ]
  },
  {
   "cell_type": "code",
   "execution_count": 2,
   "metadata": {},
   "outputs": [
    {
     "name": "stdout",
     "output_type": "stream",
     "text": [
      "周一;周二;周三;周四;周五;周六;周日\n"
     ]
    }
   ],
   "source": [
    "#最好用一个分隔符区分，方便后面有需要时再将其重新分割\n",
    "s = \";\".join(a)\n",
    "print(s)\n",
    "#周一;周二;周三;周四;周五;周六;周日"
   ]
  },
  {
   "cell_type": "code",
   "execution_count": 3,
   "metadata": {},
   "outputs": [
    {
     "name": "stdout",
     "output_type": "stream",
     "text": [
      "['周一', '周二', '周三', '周四', '周五', '周六', '周日']\n"
     ]
    }
   ],
   "source": [
    "c=s.split(';')\n",
    "print(c)\n",
    "#['周一', '周二', '周三', '周四', '周五', '周六', '周日']"
   ]
  },
  {
   "cell_type": "code",
   "execution_count": 4,
   "metadata": {},
   "outputs": [
    {
     "name": "stdout",
     "output_type": "stream",
     "text": [
      "['周一周二周三周四周五周六周日']\n"
     ]
    }
   ],
   "source": [
    "e=d.split()  #默认是用空格来分割\n",
    "print(e)\n",
    "#['周一周二周三周四周五周六周日']"
   ]
  },
  {
   "cell_type": "code",
   "execution_count": 5,
   "metadata": {},
   "outputs": [
    {
     "name": "stdout",
     "output_type": "stream",
     "text": [
      "['周', '一', '周', '二', '周', '三', '周', '四', '周', '五', '周', '六', '周', '日']\n"
     ]
    }
   ],
   "source": [
    "e2=list(d)\n",
    "print(e2)\n"
   ]
  },
  {
   "cell_type": "code",
   "execution_count": 6,
   "metadata": {},
   "outputs": [
    {
     "ename": "AttributeError",
     "evalue": "'list' object has no attribute 'split'",
     "output_type": "error",
     "traceback": [
      "\u001b[1;31m---------------------------------------------------------------------------\u001b[0m",
      "\u001b[1;31mAttributeError\u001b[0m                            Traceback (most recent call last)",
      "\u001b[1;32m<ipython-input-6-c709ba283a37>\u001b[0m in \u001b[0;36m<module>\u001b[1;34m()\u001b[0m\n\u001b[1;32m----> 1\u001b[1;33m \u001b[0mf\u001b[0m\u001b[1;33m=\u001b[0m\u001b[0ma\u001b[0m\u001b[1;33m.\u001b[0m\u001b[0msplit\u001b[0m\u001b[1;33m(\u001b[0m\u001b[1;34m','\u001b[0m\u001b[1;33m)\u001b[0m  \u001b[1;31m#列表不能分割为字符串，只有字符串才能分割为列表\u001b[0m\u001b[1;33m\u001b[0m\u001b[0m\n\u001b[0m\u001b[0;32m      2\u001b[0m \u001b[0mprint\u001b[0m\u001b[1;33m(\u001b[0m\u001b[0mf\u001b[0m\u001b[1;33m)\u001b[0m\u001b[1;33m\u001b[0m\u001b[0m\n\u001b[0;32m      3\u001b[0m \u001b[1;31m#输出错误\u001b[0m\u001b[1;33m\u001b[0m\u001b[1;33m\u001b[0m\u001b[0m\n",
      "\u001b[1;31mAttributeError\u001b[0m: 'list' object has no attribute 'split'"
     ]
    }
   ],
   "source": [
    "f=a.split(',')  #列表不能分割为字符串，只有字符串才能分割为列表\n",
    "print(f)\n",
    "#输出错误"
   ]
  },
  {
   "cell_type": "markdown",
   "metadata": {},
   "source": [
    "<font face=\"微软雅黑\" size=3>字符串注意事项</font> "
   ]
  },
  {
   "cell_type": "code",
   "execution_count": null,
   "metadata": {},
   "outputs": [],
   "source": [
    "word='hello word '\n",
    "#word[0]='H' #字符串是常量，不可修改\n",
    "#word='Hello word '#可以重新整体赋值\n",
    "word=word.capitalize()#修改后重新赋值给word，丢弃旧的\n",
    "print(word)"
   ]
  },
  {
   "cell_type": "code",
   "execution_count": null,
   "metadata": {},
   "outputs": [],
   "source": [
    "#列表可以修改\n",
    "w=['h','e','l','l','o']\n",
    "w[2]='o'\n",
    "print(w)"
   ]
  },
  {
   "cell_type": "code",
   "execution_count": null,
   "metadata": {},
   "outputs": [],
   "source": [
    "# 操作符 in\n",
    "print('a' in 'banana')"
   ]
  },
  {
   "cell_type": "markdown",
   "metadata": {},
   "source": [
    "<font face=\"微软雅黑\" size=3>统计字符个数</font> "
   ]
  },
  {
   "cell_type": "code",
   "execution_count": null,
   "metadata": {},
   "outputs": [],
   "source": [
    "fruit=\"我爱我的祖国，我的祖国爱我吗\"\n",
    "count=0\n",
    "for letter in fruit:\n",
    "    if letter=='我':\n",
    "        count=count+1\n",
    "print(count)"
   ]
  },
  {
   "cell_type": "code",
   "execution_count": null,
   "metadata": {},
   "outputs": [],
   "source": [
    "fruit=\"banaaaddddana\"\n",
    "count=0\n",
    "for letter in fruit:\n",
    "    if letter=='a':\n",
    "        count=count+1\n",
    "print(count)"
   ]
  },
  {
   "cell_type": "markdown",
   "metadata": {},
   "source": [
    "<font face=\"微软雅黑\" size=3>字符串与数值混合</font> "
   ]
  },
  {
   "cell_type": "code",
   "execution_count": null,
   "metadata": {},
   "outputs": [],
   "source": [
    "i=5\n",
    "print('Value is：',i)\n",
    "print('I repeat, the value is：', i)"
   ]
  },
  {
   "cell_type": "markdown",
   "metadata": {},
   "source": [
    "<font face=\"微软雅黑\" size=3>格式化输出</font> "
   ]
  },
  {
   "cell_type": "code",
   "execution_count": null,
   "metadata": {},
   "outputs": [],
   "source": [
    "# %m.n 浮点型输出\n",
    "# %d 整数输出\n",
    "# %s 字符串输出\n",
    "price=700\n",
    "print('今天茅台股票的价格是:'+str(price)+'_元')\n",
    "print('今天茅台股票的价格是:%d元' % price)"
   ]
  },
  {
   "cell_type": "code",
   "execution_count": null,
   "metadata": {},
   "outputs": [],
   "source": [
    "x=5\n",
    "y=10\n",
    "z=20\n",
    "print('比%d高的比例： %.2f%% ，人数:%d' % (z,x, y))"
   ]
  },
  {
   "cell_type": "markdown",
   "metadata": {},
   "source": [
    "<font face=\"微软雅黑\" size=3>转义字符</font> "
   ]
  },
  {
   "cell_type": "code",
   "execution_count": null,
   "metadata": {},
   "outputs": [],
   "source": [
    "#如何定义abc\"axc\"这个字符串\n",
    "d=\"abc\\\"axc\\\"\"\n",
    "print(d)"
   ]
  },
  {
   "cell_type": "code",
   "execution_count": null,
   "metadata": {},
   "outputs": [],
   "source": [
    "print('精诚所至\\n金石为开') # \\n为换行符"
   ]
  },
  {
   "cell_type": "code",
   "execution_count": null,
   "metadata": {},
   "outputs": [],
   "source": [
    "print('精诚所至\\\\n金石为开')\n",
    "print('精诚所至'+'\\n'+'金石为开')\n",
    "print('精诚所至'+'\\\\n'+'金石为开')\n",
    "print('D:/python/')"
   ]
  },
  {
   "cell_type": "markdown",
   "metadata": {},
   "source": [
    "<font face=\"微软雅黑\" size=3>附录：字符串规则</font> "
   ]
  },
  {
   "cell_type": "markdown",
   "metadata": {},
   "source": [
    "<font face=\"宋体\" >英文原始 ASCII，包含数字、英文字符等128个代码，只需1个字节；中文编码 GB2312;GBK;GB18030  \n",
    "通俗理解：为了满足计算机需要，中国最开始创建了GB2312,共收了6763个汉字；后来随着时代发展，发现原有的GB2312汉字不够用了，又在GB2312的基础上创建了GBK，增加了字符数目；但随着中国对外交流日深，GBK所收录的汉字和字符也不够用了，于是中国最后又创建了GB18030，收录了70244个汉字和字符。因此，理论上，如果爬虫中GB2312和GBK都无法识别的话，用GB18030可以识别。</font>   "
   ]
  },
  {
   "cell_type": "markdown",
   "metadata": {},
   "source": [
    "<font face=\"宋体\" >Unicode，国际上为了将世界所有语言的字符都统一起来，创建了Unicode，为了容纳这多字符，需要更多的字节。由于大量的生僻字符不常用，造成存储浪费，UTF-8，是一种针对 Unicode 的可变长度字符编码。它可以用来表示 Unicode 标准中的任何字符，且其编码中的第一个字节仍与 ASCII 相容，这使得原来处理 ASCII 字符的软件无须或只须做少部份修改，即可继续使用。UTF-8 使用一至四个字节为每个字符编码。</font> "
   ]
  },
  {
   "cell_type": "markdown",
   "metadata": {},
   "source": [
    "<font face=\"宋体\" >Python3中，字符串是以UTF-8编码的，支持多语言 </font> "
   ]
  },
  {
   "cell_type": "markdown",
   "metadata": {},
   "source": [
    "<meta charset=\"UTF-8\"> 表示该网页用的是UTF-8编码"
   ]
  },
  {
   "cell_type": "markdown",
   "metadata": {},
   "source": [
    "## 1.5. 字典与集合"
   ]
  },
  {
   "cell_type": "markdown",
   "metadata": {},
   "source": [
    "<font face=\"微软雅黑\" size=3>字典定义</font> "
   ]
  },
  {
   "cell_type": "markdown",
   "metadata": {},
   "source": [
    "<font face=\"宋体\" >字典（dict），全称dictionary，使用键-值（key:value)存储数据，具有极快的查找速度。键key的值是唯一的，一个key只能对应一个value，value值可以重复。key-value关系类似于映射。多次对一个key 存储value，后面的值会覆盖前面的值。key可以是整数，实数，也可以是字符串，这是字典的伟大之处。value更加灵活，几乎可以是一切，数值、字符、列表、字典。字典用大括号{}标识，（回忆：列表为[],元组为（））。key与value之间用冒号分割，各项（键/值）之间用逗号分割。空字典用{}表示</font> "
   ]
  },
  {
   "cell_type": "markdown",
   "metadata": {},
   "source": [
    "<font face=\"微软雅黑\" size=3>字典基本模式</font> "
   ]
  },
  {
   "cell_type": "code",
   "execution_count": null,
   "metadata": {},
   "outputs": [],
   "source": [
    "gdp={2015:10000,2016:20000,2017:30000,2018:40000}\n",
    "print(gdp[2016])"
   ]
  },
  {
   "cell_type": "code",
   "execution_count": null,
   "metadata": {},
   "outputs": [],
   "source": [
    "chengji={'小明':95,'小王':75,'小张':85,'小刘':'不及格'}   #不同类型数据格式可以拼接\n",
    "print(chengji['小明'])"
   ]
  },
  {
   "cell_type": "code",
   "execution_count": null,
   "metadata": {},
   "outputs": [],
   "source": [
    "#d.keys(),d.values() 分别得到key和value的列表\n",
    "gdp={2015:10000,2016:20000,2017:30000,2018:40000}\n",
    "print(list(gdp.keys())[0])\n",
    "print(gdp.values())\n",
    "print(list(gdp.items()))#得到（key,value）元组组合的列表"
   ]
  },
  {
   "cell_type": "markdown",
   "metadata": {},
   "source": [
    "<font face=\"微软雅黑\" size=3>判断某个key是否存在</font> "
   ]
  },
  {
   "cell_type": "code",
   "execution_count": null,
   "metadata": {},
   "outputs": [],
   "source": [
    "print(2015 in gdp)\n",
    "print('小郭' in chengji)"
   ]
  },
  {
   "cell_type": "markdown",
   "metadata": {},
   "source": [
    "<font face=\"微软雅黑\" size=3>字典与列表的区别在</font> "
   ]
  },
  {
   "cell_type": "markdown",
   "metadata": {},
   "source": [
    "<font face=\"宋体\" >字典是无序的，列表是有序的；字典有key，查找快，列表无key，查找慢；增加元操作对比。  \n",
    "d['new']=x 字典增加一对key和value  \n",
    "s.append(x) 列表增加一个元素</font>"
   ]
  },
  {
   "cell_type": "code",
   "execution_count": null,
   "metadata": {},
   "outputs": [],
   "source": [
    "gdp[2013]=500\n",
    "print(gdp)\n",
    "#del gdp[2015]    #删除之后改变原始数据，不能重复运行本命令块\n",
    "#print(gdp)\n",
    "print(len(gdp))  #统计字典键的个数"
   ]
  },
  {
   "cell_type": "markdown",
   "metadata": {},
   "source": [
    "<font face=\"微软雅黑\" size=3>字典排序的问题</font>"
   ]
  },
  {
   "cell_type": "markdown",
   "metadata": {},
   "source": [
    "<font face=\"宋体\" >字典属于集合，本身无序，需要转化为list才能排序</font>"
   ]
  },
  {
   "cell_type": "markdown",
   "metadata": {},
   "source": [
    "<font face=\"微软雅黑\" size=3>字典方法</font> "
   ]
  },
  {
   "cell_type": "code",
   "execution_count": null,
   "metadata": {},
   "outputs": [],
   "source": [
    "gdp={2015:10000,2016:20000,2017:30000,2018:40000}\n",
    "gdp.clear()   #清空字典\n",
    "print(gdp)\n",
    "gdp={2015:10000,2016:20000,2017:30000,2018:40000}\n",
    "b=gdp.get(2017)  #返回指定键的值，如果键不在字典中，返回默认值。\n",
    "print(b)"
   ]
  },
  {
   "cell_type": "markdown",
   "metadata": {},
   "source": [
    "<font face=\"微软雅黑\" size=3>附录：字典的应用：分类统计（可以回过头再来学）</font> "
   ]
  },
  {
   "cell_type": "markdown",
   "metadata": {},
   "source": [
    "<font face=\"宋体\" >功能：筛子投掷两边，数字相加，2-12分别出现的概率，重复10000  \n",
    "从Python标准库当中引入模块，用import  \n",
    "允许引入多个模块，但各个模块之间需要用逗号隔开</font>"
   ]
  },
  {
   "cell_type": "code",
   "execution_count": null,
   "metadata": {},
   "outputs": [],
   "source": [
    "import random\n",
    "def dice():\n",
    "    y=random.choice([1,2,3,4,5,6])\n",
    "    return y\n",
    "d={}\n",
    "for i in range(10000):\n",
    "    a=dice()+dice()\n",
    "    if a in d.keys():\n",
    "        d[a]+=1\n",
    "    else:\n",
    "        d[a]=1\n",
    "print(d)"
   ]
  },
  {
   "cell_type": "markdown",
   "metadata": {},
   "source": [
    "<font face=\"微软雅黑\" size=3>集合</font> "
   ]
  },
  {
   "cell_type": "code",
   "execution_count": null,
   "metadata": {
    "scrolled": true
   },
   "outputs": [],
   "source": [
    "c={5,4,4,6}\n",
    "print(c)\n",
    "#set和dict类似，一组key的集合，不存储数据\n",
    "#set元素之间没有顺序\n",
    "a=[1,2,3,3,4,5,5,7,8]\n",
    "print(set(a))\n",
    "print(list(set(a)))"
   ]
  },
  {
   "cell_type": "markdown",
   "metadata": {},
   "source": [
    "<font face=\"微软雅黑\" size=3>集合的交集、并集、差集、子集</font> "
   ]
  },
  {
   "cell_type": "code",
   "execution_count": null,
   "metadata": {
    "scrolled": true
   },
   "outputs": [],
   "source": [
    "a=set([1,2,3,3,4,5,7,8])\n",
    "b=set([1,2,5,7,9,10])\n",
    "print(a-b)\n",
    "print(a&b)\n",
    "print(a|b)"
   ]
  },
  {
   "cell_type": "code",
   "execution_count": null,
   "metadata": {},
   "outputs": [],
   "source": [
    "A1=set([\"姜文\",\"葛优\",\"周润发\",\"刘嘉玲\",\"陈坤\"])  #电影1的主角\n",
    "A2=set([\"姜文\",\"葛优\",\"周韵\",\"舒淇\",\"文章\"])  #电影2的主角\n",
    "print(A1 & A2)\n",
    "print(A1 | A2)\n",
    "print(A1 - A2)"
   ]
  },
  {
   "cell_type": "markdown",
   "metadata": {},
   "source": [
    "<font face=\"微软雅黑\" size=3>综合性练习</font> "
   ]
  },
  {
   "cell_type": "code",
   "execution_count": null,
   "metadata": {},
   "outputs": [],
   "source": [
    "#求author1和author2两个字符串当中包含的相同作者的个数\n",
    "author1=\"郭峰;刘峰;李峰;汪峰;郭峰;\"\n",
    "author2=\"郭峰;李二;张三;刘五;刘五;刘峰;\""
   ]
  },
  {
   "cell_type": "code",
   "execution_count": null,
   "metadata": {},
   "outputs": [],
   "source": [
    "print(author1[0:-1])\n",
    "a1=set(author1[0:-1].split(';'))\n",
    "a2=set(author2[0:-1].split(';'))\n",
    "print(a1)\n",
    "print(a2)\n",
    "print(a1 & a2)\n",
    "print(len(a1 & a2))"
   ]
  },
  {
   "cell_type": "markdown",
   "metadata": {},
   "source": [
    "<font face=\"微软雅黑\" size=3>本讲结束</font> "
   ]
  }
 ],
 "metadata": {
  "kernelspec": {
   "display_name": "Python 3",
   "language": "python",
   "name": "python3"
  },
  "language_info": {
   "codemirror_mode": {
    "name": "ipython",
    "version": 3
   },
   "file_extension": ".py",
   "mimetype": "text/x-python",
   "name": "python",
   "nbconvert_exporter": "python",
   "pygments_lexer": "ipython3",
   "version": "3.6.2"
  }
 },
 "nbformat": 4,
 "nbformat_minor": 2
}
