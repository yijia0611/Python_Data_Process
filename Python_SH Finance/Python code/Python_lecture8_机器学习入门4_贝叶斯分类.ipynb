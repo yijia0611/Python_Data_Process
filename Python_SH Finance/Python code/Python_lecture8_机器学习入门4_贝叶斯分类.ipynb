{
 "cells": [
  {
   "cell_type": "markdown",
   "metadata": {},
   "source": [
    "# 第8讲 机器学习入门"
   ]
  },
  {
   "cell_type": "markdown",
   "metadata": {},
   "source": [
    "<font face=\"宋体\" >郭峰（Email：guofengsfi@163.com)   \n",
    "副教授、博士生导师  \n",
    "上海财经大学公共经济与管理学院 </font> "
   ]
  },
  {
   "cell_type": "markdown",
   "metadata": {},
   "source": [
    "<font face=\"宋体\" >本讲目录：  \n",
    "8.1. 机器学习原理  \n",
    "8.2. 线性回归、岭回归和Lasso回归  \n",
    "8.3. K近邻算法  \n",
    "8.4. 朴素贝叶斯算法  \n",
    "8.5. 机器学习实操案例</font>  "
   ]
  },
  {
   "cell_type": "markdown",
   "metadata": {},
   "source": [
    "## 8.4. 朴素贝叶斯算法"
   ]
  },
  {
   "cell_type": "markdown",
   "metadata": {},
   "source": [
    "### 朴素贝叶斯算法原理"
   ]
  },
  {
   "cell_type": "code",
   "execution_count": null,
   "metadata": {},
   "outputs": [],
   "source": [
    "from IPython.display import Image\n",
    "path='D:/python/郭峰Python讲义/数据与结果/08机器学习入门/'\n",
    "Image(filename = path+'贝叶斯.png', width=500, height=260)"
   ]
  },
  {
   "cell_type": "markdown",
   "metadata": {},
   "source": [
    "### 朴素贝叶斯分类算法的三种类型"
   ]
  },
  {
   "cell_type": "markdown",
   "metadata": {},
   "source": [
    "<font face=\"宋体\" >学习资料:https://blog.csdn.net/luanpeng825485697/article/details/78967139\n",
    "在scikit-learn中，一共有3个朴素贝叶斯的分类算法类。分别是GaussianNB，MultinomialNB和BernoulliNB。其中GaussianNB就是先验为高斯分布的朴素贝叶斯,MultinomialNB就是先验为多项式分布的朴素贝叶斯,而BernoulliNB就是先验为伯努利分布的朴素贝叶斯。</font>  "
   ]
  },
  {
   "cell_type": "markdown",
   "metadata": {},
   "source": [
    "<font face=\"微软雅黑\" size=3>高斯朴素贝叶斯</font> "
   ]
  },
  {
   "cell_type": "code",
   "execution_count": null,
   "metadata": {},
   "outputs": [],
   "source": [
    "from sklearn import datasets\n",
    "iris = datasets.load_iris()\n",
    "\n",
    "from sklearn.naive_bayes import GaussianNB\n",
    "clf = GaussianNB()\n",
    "x=iris.data\n",
    "y=iris.target\n",
    "print(x.shape)\n",
    "clf = clf.fit(x,y)\n",
    "y_pred=clf.predict(x)\n",
    "print(\"高斯朴素贝叶斯，样本总数： %d 错误样本数 : %d\" % (iris.data.shape[0],(iris.target != y_pred).sum()))"
   ]
  },
  {
   "cell_type": "markdown",
   "metadata": {},
   "source": [
    "<font face=\"微软雅黑\" size=3>多项分布朴素贝叶斯</font> "
   ]
  },
  {
   "cell_type": "code",
   "execution_count": null,
   "metadata": {},
   "outputs": [],
   "source": [
    "from sklearn import datasets\n",
    "iris = datasets.load_iris()\n",
    "\n",
    "from sklearn.naive_bayes import MultinomialNB\n",
    "clf = MultinomialNB()\n",
    "x=iris.data\n",
    "y=iris.target\n",
    "clf = clf.fit(x,y)\n",
    "y_pred=clf.predict(iris.data)\n",
    "print(\"多项分布朴素贝叶斯，样本总数： %d 错误样本数 : %d\" % (iris.data.shape[0],(iris.target != y_pred).sum()))"
   ]
  },
  {
   "cell_type": "markdown",
   "metadata": {},
   "source": [
    "<font face=\"微软雅黑\" size=3>伯努利朴素贝叶斯</font>  "
   ]
  },
  {
   "cell_type": "code",
   "execution_count": null,
   "metadata": {},
   "outputs": [],
   "source": [
    "from sklearn import datasets\n",
    "from sklearn.model_selection import train_test_split\n",
    "iris = datasets.load_iris()\n",
    "\n",
    "from sklearn.naive_bayes import BernoulliNB\n",
    "clf = BernoulliNB()\n",
    "x=iris.data\n",
    "y=iris.target\n",
    "X_train,X_test,y_train,y_test =train_test_split(x,y, test_size=0.3)\n",
    "clf_f = clf.fit(X_train,y_train)\n",
    "#clf = clf.fit(X_train,y_train)\n",
    "y_pred=clf.predict(X_test)\n",
    "y_pred2=clf_f.predict(X_test)\n",
    "print(y_test)\n",
    "print(y_pred)\n",
    "print(y_pred2)"
   ]
  },
  {
   "cell_type": "markdown",
   "metadata": {},
   "source": [
    "### 朴素贝叶斯算法参数"
   ]
  },
  {
   "cell_type": "markdown",
   "metadata": {},
   "source": [
    "### 参数"
   ]
  },
  {
   "cell_type": "code",
   "execution_count": null,
   "metadata": {},
   "outputs": [],
   "source": [
    "from sklearn.naive_bayes import GaussianNB\n",
    "clf = GaussianNB()\n",
    "#alpha:先验平滑因子，默认等于1，当等于1时表示拉普拉斯平滑。\n",
    "#fit_prior:是否去学习类的先验概率，默认是True\n",
    "#class_prior:各个类别的先验概率，如果没有指定，则模型会根据数据自动学习， 每个类别的先验概率相同，等于类标记总个数N分之一。"
   ]
  },
  {
   "cell_type": "code",
   "execution_count": null,
   "metadata": {},
   "outputs": [],
   "source": [
    "from sklearn.naive_bayes import BernoulliNB\n",
    "clf = BernoulliNB()\n",
    "#alpha:平滑因子，与多项式中的alpha一致。\n",
    "#binarize:样本特征二值化的阈值，默认是0。如果不输入，则模型会认为所有特征都已经是二值化形式了；如果输入具体的值，则模型会把大于该值的部分归为一类，小于的归为另一类。\n",
    "#fit_prior:是否去学习类的先验概率，默认是True\n",
    "#class_prior:各个类别的先验概率，如果没有指定，则模型会根据数据自动学习， 每个类别的先验概率相同，等于类标记总个数N分之一。"
   ]
  },
  {
   "cell_type": "code",
   "execution_count": null,
   "metadata": {},
   "outputs": [],
   "source": [
    "#多项式\n",
    "clf = MultinomialNB(alpha=1.0,fit_prior=True)\n",
    "#参数说明如下：\n",
    "#alpha：浮点型可选参数，默认为1.0，其实就是添加拉普拉斯平滑，即为上述公式中的λ ，如果这个参数设置为0，就是不添加平滑；\n",
    "#fit_prior：布尔型可选参数，默认为True。布尔参数fit_prior表示是否要考虑先验概率，如果是false,则所有的样本类别输出都有相同的类别先验概率。\n",
    "#否则可以自己用第三个参数class_prior输入先验概率，或者不输入第三个参数class_prior让MultinomialNB自己从训练集样本来计算先验概率，\n",
    "#此时的先验概率为P(Y=Ck)=mk/m。其中m为训练集样本总数量，mk为输出为第k类别的训练集样本数。\n",
    "#class_prior：可选参数，默认为None。"
   ]
  },
  {
   "cell_type": "markdown",
   "metadata": {},
   "source": [
    "fit(X,Y):在数据集(X,Y)上拟合模型。  \n",
    "get_params():获取模型参数。  \n",
    "predict(X):对数据集X进行预测。  \n",
    "predict_log_proba(X):对数据集X预测，得到每个类别的概率对数值。  \n",
    "predict_proba(X):对数据集X预测，得到每个类别的概率。  \n",
    "score(X,Y):得到模型在数据集(X,Y)的得分情况。"
   ]
  },
  {
   "cell_type": "markdown",
   "metadata": {},
   "source": [
    "### 实战案例：泰坦尼克号幸存者"
   ]
  },
  {
   "cell_type": "markdown",
   "metadata": {},
   "source": [
    "<font face=\"宋体\" >泰坦尼克号幸存者数据，广泛应用于机器学习各种算法的演示  \n",
    "任务：给你船员的一些特征（年龄、性别等），判断其在该事件中是否会获救  \n",
    "特征（x)：船舱等级、性别、年龄、兄弟姐妹数目、父母/子女数量、票价和登船口岸    \n",
    "响应(y)：是否获救  \n",
    "方法：朴素贝叶斯。 </font>  "
   ]
  },
  {
   "cell_type": "code",
   "execution_count": null,
   "metadata": {},
   "outputs": [],
   "source": [
    "#步骤1：导入整理数据\n",
    "import pandas as pd\n",
    "import numpy as np\n",
    "import time\n",
    "from sklearn.model_selection import train_test_split\n",
    "from sklearn.naive_bayes import GaussianNB, BernoulliNB, MultinomialNB\n",
    "\n",
    "path=\"D:/python/郭峰Python讲义/数据与结果/08机器学习入门/titanic/data/\"\n",
    "# 导入数据集\n",
    "f1= open(path+\"train.csv\",encoding='utf8')\n",
    "data_train = pd.read_csv(f1,header=0,sep=',')\n",
    "print(data_train.shape)\n",
    "data_train.head()"
   ]
  },
  {
   "cell_type": "code",
   "execution_count": null,
   "metadata": {},
   "outputs": [],
   "source": [
    "#步骤2：清理数据\n",
    "# 将分类变量转换为数字\n",
    "data_train[\"Sex_cleaned\"]=np.where(data_train[\"Sex\"]==\"male\",0,1)\n",
    "data_train[\"Embarked_cleaned\"]=np.where(data_train[\"Embarked\"]==\"S\",0,\n",
    "                                  np.where(data_train[\"Embarked\"]==\"C\",1,\n",
    "                                           np.where(data_train[\"Embarked\"]==\"Q\",2,3)))\n",
    "\n",
    "# 清除数据集中的非数字值（NaN）\n",
    "data_train=data_train[[\"Survived\", \"Pclass\",\"Sex_cleaned\",\"Age\",\"SibSp\",\"Parch\",\"Fare\",\"Embarked_cleaned\"]]\n",
    "data_train=data_train.dropna(axis=0, how='any')\n",
    "print(data_train.shape)\n",
    "data_train.head()"
   ]
  },
  {
   "cell_type": "code",
   "execution_count": null,
   "metadata": {},
   "outputs": [],
   "source": [
    "#定义x和y\n",
    "X =data_train[[\"Pclass\",\"Sex_cleaned\",\"Age\",\"SibSp\",\"Parch\",\"Fare\",\"Embarked_cleaned\"]]\n",
    "y =data_train[[\"Survived\"]]\n",
    "y.head()"
   ]
  },
  {
   "cell_type": "code",
   "execution_count": null,
   "metadata": {},
   "outputs": [],
   "source": [
    "#步骤3：将数据集拆分成训练集和测试集\n",
    "X_train, X_test, y_train, y_test = train_test_split(X,y, test_size=0.25, random_state=666)"
   ]
  },
  {
   "cell_type": "code",
   "execution_count": null,
   "metadata": {},
   "outputs": [],
   "source": [
    "#步骤4：利用训练集数据测试模型\n",
    "# 实例化分类器\n",
    "gnb = GaussianNB()\n",
    "# 训练分类器\n",
    "gnb.fit(X_train,y_train)\n",
    "y_pred = gnb.predict(X_test)"
   ]
  },
  {
   "cell_type": "code",
   "execution_count": null,
   "metadata": {},
   "outputs": [],
   "source": [
    "# 打印结果\n",
    "print(\"Number of mislabeled points out of a total {} points : {}, performance {:05.2f}%\"\n",
    "      .format(X_test.shape[0],\n",
    "          (y_test[\"Survived\"] != y_pred).sum(),\n",
    "          100*(1-(y_test[\"Survived\"] != y_pred).sum()/X_test.shape[0])\n",
    "))\n",
    "#注：分类器成功率78.15%，比网文稍微低一些"
   ]
  },
  {
   "cell_type": "code",
   "execution_count": null,
   "metadata": {},
   "outputs": [],
   "source": [
    "#步骤5：泛化到完全新的数据集\n",
    "# 导入test数据集并整理\n",
    "f1= open(path+\"test.csv\",encoding='utf8')\n",
    "data_test = pd.read_csv(f1,header=0,sep=',')\n",
    "\n",
    "# 将分类变量转换为数字\n",
    "data_test[\"Sex_cleaned\"]=np.where(data_test[\"Sex\"]==\"male\",0,1)\n",
    "data_test[\"Embarked_cleaned\"]=np.where(data_test[\"Embarked\"]==\"S\",0,\n",
    "                                  np.where(data_test[\"Embarked\"]==\"C\",1,\n",
    "                                           np.where(data_test[\"Embarked\"]==\"Q\",2,3)))\n",
    "\n",
    "# 清除数据集中的非数字值（NaN）\n",
    "data_test=data_test[[\"Pclass\",\"Sex_cleaned\",\"Age\",\"SibSp\",\"Parch\",\"Fare\",\"Embarked_cleaned\"]].dropna(axis=0, how='any')"
   ]
  },
  {
   "cell_type": "code",
   "execution_count": null,
   "metadata": {
    "scrolled": false
   },
   "outputs": [],
   "source": [
    "data_test=data_test[[\"Pclass\",\"Sex_cleaned\",\"Age\",\"SibSp\",\"Parch\",\"Fare\",\"Embarked_cleaned\"]]\n",
    "\n",
    "y_pred_test = gnb.predict(data_test)\n",
    "print('泛化到测试集后的预测结果')\n",
    "print(y_pred_test)"
   ]
  },
  {
   "cell_type": "markdown",
   "metadata": {},
   "source": [
    "<font face=\"宋体\" >注：在大型数据实战中，一般测试集和训练集放在一起清理，节省工作量</font>  "
   ]
  }
 ],
 "metadata": {
  "kernelspec": {
   "display_name": "Python 3",
   "language": "python",
   "name": "python3"
  },
  "language_info": {
   "codemirror_mode": {
    "name": "ipython",
    "version": 3
   },
   "file_extension": ".py",
   "mimetype": "text/x-python",
   "name": "python",
   "nbconvert_exporter": "python",
   "pygments_lexer": "ipython3",
   "version": "3.6.2"
  }
 },
 "nbformat": 4,
 "nbformat_minor": 2
}
