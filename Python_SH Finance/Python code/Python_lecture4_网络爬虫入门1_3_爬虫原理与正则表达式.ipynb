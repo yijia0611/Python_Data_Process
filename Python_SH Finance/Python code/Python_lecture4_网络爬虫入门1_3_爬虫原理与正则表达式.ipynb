{
 "cells": [
  {
   "cell_type": "markdown",
   "metadata": {},
   "source": [
    "# 第4讲 网络爬虫入门"
   ]
  },
  {
   "cell_type": "markdown",
   "metadata": {},
   "source": [
    "<font face=\"宋体\" >郭峰（Email：guofengsfi@163.com)   \n",
    "副教授、博士生导师  \n",
    "上海财经大学公共经济与管理学院 </font> "
   ]
  },
  {
   "cell_type": "markdown",
   "metadata": {},
   "source": [
    "<font face=\"宋体\" >本讲目录：  \n",
    "4.1. 爬虫基本原理与操作  \n",
    "4.2. 正则表达式1   \n",
    "4.3. 正则表达式2  \n",
    "4.4. 网络爬虫实战案例</font>  "
   ]
  },
  {
   "cell_type": "markdown",
   "metadata": {},
   "source": [
    "<font face=\"宋体\" >生活生产的网络化，导致了大量之前没有留存、没法分析的资料都数据化,从而变得可以分析，这是我理解的大数据最重要特征。因此获取网络上的数据是现代学术研究、商业实践的重要工作。 </font>"
   ]
  },
  {
   "cell_type": "markdown",
   "metadata": {},
   "source": [
    "## 4.1. 爬虫基本原理与操作"
   ]
  },
  {
   "cell_type": "markdown",
   "metadata": {},
   "source": [
    "### 网页的获取与阅读"
   ]
  },
  {
   "cell_type": "markdown",
   "metadata": {},
   "source": [
    "<font face=\"宋体\" >WEB数据展示特点：主要为人观看服务，数据背后夹杂着大量的无用信息。网络爬虫的目的就是从后台入手，剔除杂乱无用信息，从网络中提取有用信息 </font>"
   ]
  },
  {
   "cell_type": "markdown",
   "metadata": {},
   "source": [
    "<font face=\"宋体\" >网络连接原理：计算机一次Request请求和服务器一次Response回应，即实现网络连接。"
   ]
  },
  {
   "cell_type": "markdown",
   "metadata": {},
   "source": [
    "<font face=\"宋体\" >爬虫原理：模拟计算机对服务器发起Request请求；接收服务器端的Response内容并解析、提取所需信息。 </font>"
   ]
  },
  {
   "cell_type": "markdown",
   "metadata": {},
   "source": [
    "<font face=\"微软雅黑\" size=3>获取网页信息:我们需要的信息在网页源代码</font>   "
   ]
  },
  {
   "cell_type": "code",
   "execution_count": null,
   "metadata": {},
   "outputs": [],
   "source": [
    "#案例：政府工作报告（知县网）\n",
    "#http://www.ahmhxc.com/gongzuobaogao/12951.html"
   ]
  },
  {
   "cell_type": "code",
   "execution_count": null,
   "metadata": {},
   "outputs": [],
   "source": [
    "#在python中获取网页源代码\n",
    "import requests\n",
    "\n",
    "url1='http://www.ahmhxc.com/gongzuobaogao/12951.html'   #知县网\n",
    "url2='http://www.ahmhxc.com/gongzuobaogao/12949.html'   #知县网\n",
    "res1 = requests.get(url1)  \n",
    "print(res1)  #返回的结果是获取的状态，200代表成功\n",
    "\n",
    "res2 = requests.get(url2)  \n",
    "print(res2)    #404代表失败"
   ]
  },
  {
   "cell_type": "code",
   "execution_count": null,
   "metadata": {},
   "outputs": [],
   "source": [
    "#爬取的内容：转码\n",
    "res3=res1.content.decode('gb2312')\n",
    "print(res3)"
   ]
  },
  {
   "cell_type": "code",
   "execution_count": null,
   "metadata": {},
   "outputs": [],
   "source": [
    "#res3就是一串字符串\n",
    "print(res3[1500:2500])"
   ]
  },
  {
   "cell_type": "code",
   "execution_count": null,
   "metadata": {},
   "outputs": [],
   "source": [
    "#注意编码格式\n",
    "res3=res1.content.decode('utf8')\n",
    "print(res3)"
   ]
  },
  {
   "cell_type": "code",
   "execution_count": null,
   "metadata": {},
   "outputs": [],
   "source": [
    "#爬虫结果保存\n",
    "import requests\n",
    "\n",
    "path='D:/python/郭峰Python讲义/数据与结果/04网络爬虫入门/'\n",
    "\n",
    "url1='http://www.ahmhxc.com/gongzuobaogao/12951.html'   #知县网\n",
    "res = requests.get(url1)  \n",
    "text=res.content.decode('gb2312')\n",
    "\n",
    "f=open(path+'scraping_test.txt','w')  #可以输出到一个txt文档\n",
    "f.write(text) \n",
    "f.close()"
   ]
  },
  {
   "cell_type": "code",
   "execution_count": null,
   "metadata": {},
   "outputs": [],
   "source": [
    "#练习4.1：寻找你喜欢的网址【不要上来就挑战商业网站】，查看其源代码，了解其结构，\n",
    "#并参考上述方式，将网页原代码阅读到python当中"
   ]
  },
  {
   "cell_type": "markdown",
   "metadata": {},
   "source": [
    "<font face=\"宋体\" >当然，源代码当中存在大量调整网页结构、让网页更美观的东西，比如：style是为了让网页美观等的；table，tr， td一般用来反映表格；href='地址' 连接显示的内容，</a>反映链接，等等。但这些信息，一般情况下都不是我们需要的，如何提取我们需要的信息，详见下文 </font>   "
   ]
  },
  {
   "cell_type": "markdown",
   "metadata": {},
   "source": [
    "<font face=\"宋体\" color=Blue>也有一些网站，需要的信息不在“网页源代码”，对于这类情形（中的部分类型）数据爬取方法详见下一讲 </font>  "
   ]
  },
  {
   "cell_type": "markdown",
   "metadata": {},
   "source": [
    "### 网络翻页"
   ]
  },
  {
   "cell_type": "markdown",
   "metadata": {},
   "source": [
    "<font face=\"微软雅黑\" size=3>网络翻页</font> "
   ]
  },
  {
   "cell_type": "markdown",
   "metadata": {},
   "source": [
    "<font face=\"宋体\" size=3>对于爬虫，不是要采集单独一个网页，所以需要循环访问一系列网页</font> "
   ]
  },
  {
   "cell_type": "code",
   "execution_count": null,
   "metadata": {},
   "outputs": [],
   "source": [
    "#案例：解放日报\n",
    "https://www.jfdaily.com/journal/2020-01-01/page_01.htm"
   ]
  },
  {
   "cell_type": "markdown",
   "metadata": {},
   "source": [
    "<font face=\"宋体\" size=3>通过循环来翻页</font> "
   ]
  },
  {
   "cell_type": "code",
   "execution_count": null,
   "metadata": {},
   "outputs": [],
   "source": [
    "#撰写方法：copy一个网址过来，对照“修改”\n",
    "#url='http://www.ahmhxc.com/gongzuobaogao/12949.html'\n",
    "for n in range(12940,12950):\n",
    "    url='http://www.ahmhxc.com/gongzuobaogao/'+str(n)+'.html'\n",
    "    print(url)"
   ]
  },
  {
   "cell_type": "markdown",
   "metadata": {},
   "source": [
    "<font face=\"宋体\" size=3>列表生成式翻页</font> "
   ]
  },
  {
   "cell_type": "code",
   "execution_count": null,
   "metadata": {},
   "outputs": [],
   "source": [
    "# http://bj.xiaozhu.com/search-duanzufang-p5-0/ \n",
    "urls = ['http://bj.xiaozhu.com/search-duanzufang-p{}-0/'.format(number)\n",
    "        for number in range(1,10)]   \n",
    "for single_url in urls: \n",
    "    print(single_url) "
   ]
  },
  {
   "cell_type": "code",
   "execution_count": null,
   "metadata": {},
   "outputs": [],
   "source": [
    "#练习4.2：将上面两个例子翻页的方式进行互换"
   ]
  },
  {
   "cell_type": "code",
   "execution_count": null,
   "metadata": {},
   "outputs": [],
   "source": [
    "#练习4.3：尝试将解放日报的翻页循环编写一下"
   ]
  },
  {
   "cell_type": "markdown",
   "metadata": {},
   "source": [
    "### 爬虫Header的设置"
   ]
  },
  {
   "cell_type": "markdown",
   "metadata": {},
   "source": [
    "<font face=\"微软雅黑\" size=3>Header的含义 </font> "
   ]
  },
  {
   "cell_type": "markdown",
   "metadata": {},
   "source": [
    "<font face=\"宋体\" >爬虫最大的障碍就是“反爬虫”，为了突破“反爬虫”，一个小技巧是将程序伪装成浏览器来向网页服务器发起Request（很初级的技术）；浏览器与服务器连接中提交一些浏览器端（header）的信息；一些服务器通过读取header数据判断是否为爬虫，从而防止服务器被大量无意义读取</font>"
   ]
  },
  {
   "cell_type": "markdown",
   "metadata": {},
   "source": [
    "<font face=\"宋体\" >header主要属性：Host 服务器站点名；User-agent 浏览器名和版本号等；Referer 下一页地址；Cookie 包含用户名登陆，以及一些安全认证等信息；一般使用User-agent即可。</font>"
   ]
  },
  {
   "cell_type": "markdown",
   "metadata": {},
   "source": [
    "<font face=\"宋体\" > headerf查看方法：1）打开开发者工具【审查元素】；2，选中Network；3，刷新原始网页；4，“name”中选中一个（中间以后的）；5，最下面就能看到User-Agent；</font>"
   ]
  },
  {
   "cell_type": "markdown",
   "metadata": {},
   "source": [
    "<font face=\"宋体\" >设置开发者工具的方式：https://jingyan.baidu.com/article/c1465413ff61820bfcfc4cf4.html</font>"
   ]
  },
  {
   "cell_type": "markdown",
   "metadata": {},
   "source": [
    "<font face=\"微软雅黑\" size=3>Header实例 </font> "
   ]
  },
  {
   "cell_type": "code",
   "execution_count": null,
   "metadata": {},
   "outputs": [],
   "source": [
    "url='http://www.ahmhxc.com/gongzuobaogao/12951.html'   #网站是知县网，有些地方可能会拒绝连接\n",
    "head={}  #字典结构\n",
    "head['User-Agent']='Mozilla/5.0 (Linux; Android 6.0; Nexus 5 Build/MRA58N) AppleWebKit/537.36 (KHTML, like Gecko) Chrome/65.0.3325.181 Mobile Safari/537.36'\n",
    "res=requests.get(url,headers=head)\n",
    "string=res.content.decode('gb2312')\n",
    "print(string)"
   ]
  },
  {
   "cell_type": "markdown",
   "metadata": {},
   "source": [
    "### 简单爬虫实例"
   ]
  },
  {
   "cell_type": "markdown",
   "metadata": {},
   "source": [
    "<font face=\"微软雅黑\" size=3>斗破苍穹小说网</font> "
   ]
  },
  {
   "cell_type": "code",
   "execution_count": null,
   "metadata": {},
   "outputs": [],
   "source": [
    "#斗破苍穹小说网中该小说的全文信息（http://www.doupoxs.com/doupocangqiong/）\n",
    "import requests\n",
    "import re\n",
    "import time\n",
    "\n",
    "path='D:/python/郭峰Python讲义/数据与结果/04网络爬虫入门/'\n",
    "\n",
    "headers = {\n",
    "    'User-Agent':'Mozilla/5.0 (Windows NT 6.1; WOW64) AppleWebKit/537.36 (KHTML, like Gecko) Chrome/56.0.2924.87 Safari/537.36'\n",
    "}\n",
    "\n",
    "f = open(path+'doupo.txt','a+')  \n",
    "\n",
    "def get_info(url):\n",
    "    res = requests.get(url,headers=headers)\n",
    "    print(res)\n",
    "    if res.status_code == 200:            #网页编码有跳跃，部分404\n",
    "                              #追加一些输出，可以监控爬虫进程\n",
    "        string=res.content.decode('utf-8')\n",
    "        #print(string)\n",
    "        contents = re.findall('<p>(.*?)</p>',string,re.S) #正则表达式匹配，详见下一节\n",
    "        print(contents)\n",
    "        for content in contents:\n",
    "            f.write(content+'\\n')        #正则获取数据，写入txt文件\n",
    "    else:\n",
    "        pass                            #不为200，就pass掉\n",
    "\n",
    "if __name__ == '__main__':\n",
    "    urls = ['http://www.doupoxs.com/doupocangqiong/{}.html'.format(str(i)) for i in range(1,4)]   #网页编码规则有跳跃\n",
    "    for url in urls:\n",
    "        print(url)  \n",
    "        get_info(url)\n",
    "        time.sleep(1)              #爬行间隔时间，1600多页，爬完需要一点时间。\n",
    "    f.close()      \n",
    "#注意：运行完之后，txt文件中存在一些多余特殊字符，可以通过替换等方式将其剔除"
   ]
  },
  {
   "cell_type": "code",
   "execution_count": null,
   "metadata": {},
   "outputs": [],
   "source": [
    "#练习4.4：将上述例子改成非函数的形式，同时去掉“if __name__ == '__main__': \"，改为普通循环的方式"
   ]
  },
  {
   "cell_type": "markdown",
   "metadata": {},
   "source": [
    "## 4.2. 正则表达式1"
   ]
  },
  {
   "cell_type": "markdown",
   "metadata": {},
   "source": [
    "### 正则表达式的逻辑"
   ]
  },
  {
   "cell_type": "markdown",
   "metadata": {},
   "source": [
    "<font face=\"宋体\" >正则表达式(Regular Expression)使用单个字符串来描述、匹配一系列匹配某个句法规则的字符串，凡是符合规则的字符串，我们就认为它“匹配”了。许多程序设计语言都支持利用正则表达式进行字符串操作。</font>  "
   ]
  },
  {
   "cell_type": "markdown",
   "metadata": {},
   "source": [
    "<font face=\"微软雅黑\" size=3>简单实例 </font> "
   ]
  },
  {
   "cell_type": "code",
   "execution_count": null,
   "metadata": {},
   "outputs": [],
   "source": [
    "#先来看一个例子，目的是在下面这个看起来杂乱无章的字符串中提取年龄这个有用信息\n",
    "import re\n",
    "string='''假装这里还有很多其他信息<td><div align=\"center\">1954>/div></td>假装这里还有很多其他信息'''  \n",
    "string2='''假装这里还有很多其他信<td><div align=\"center\">1980>/div></td>假装这里还有很多其他信息'''\n",
    "#print(string)\n",
    "pattern=\"\\\"center\\\">([0-9]+)>/div></td>\" #也可以改为\\d+\n",
    "x1=re.findall(pattern, string)  #string当中找到所有满足pattern规则部分\n",
    "print(x1)"
   ]
  },
  {
   "cell_type": "code",
   "execution_count": null,
   "metadata": {},
   "outputs": [],
   "source": [
    "x2=re.findall(pattern, string2)  #string当中找到所有满足pattern规则部分\n",
    "print(x2)"
   ]
  },
  {
   "cell_type": "markdown",
   "metadata": {},
   "source": [
    "<font face=\"宋体\" >如果匹配字符串写的不准确，就匹配不到内容</font>  "
   ]
  },
  {
   "cell_type": "markdown",
   "metadata": {},
   "source": [
    "<font face=\"微软雅黑\" size=3>常用元字符 </font> "
   ]
  },
  {
   "cell_type": "code",
   "execution_count": null,
   "metadata": {},
   "outputs": [],
   "source": [
    "#常用元字符集\n",
    "#[0-9]+ 匹配数字\n",
    "#[\\s]+  匹配空格\n",
    "#[^\\s]+,或者[^<]+ 匹配非空格的字符串\n",
    "#[^\\']+ 匹配非双引号的字符串\n",
    "#\\d  匹配一个数字字符，等价于[0-9]\n",
    "#\\D  匹配一个非数字字符，等价与[^0-9]\n",
    "#\\s  匹配任何空白字符，包括空格，制表符、换页符等。\n",
    "#\\S  匹配任何非空白字符\n",
    "#\\w  匹配包括下划线在内的任何单词字符\n",
    "#\\W  匹配任何非单词字符\n",
    "#.   匹配任意字符"
   ]
  },
  {
   "cell_type": "code",
   "execution_count": null,
   "metadata": {},
   "outputs": [],
   "source": [
    "#数量词\n",
    "# * 匹配前一个字符0或者无限次\n",
    "# + 匹配前一个字符1或者无限次\n",
    "#？匹配前一个字符串0或者1次\n",
    "#{m} 匹配前一个字符m次\n",
    "#{m,n} 匹配前一个字符m至n次"
   ]
  },
  {
   "cell_type": "code",
   "execution_count": null,
   "metadata": {},
   "outputs": [],
   "source": [
    "#re模块修饰符\n",
    "#re.I 使匹配对大小写不敏感\n",
    "#re.L 作本地化识别\n",
    "#re.M 多行匹配\n",
    "#re.S 使匹配包括换行在内的多个字符，这个最有用。"
   ]
  },
  {
   "cell_type": "markdown",
   "metadata": {},
   "source": [
    "<font face=\"微软雅黑\" size=3>点运算符 . </font> "
   ]
  },
  {
   "cell_type": "markdown",
   "metadata": {},
   "source": [
    "<font face=\"宋体\" >.是元字符中最简单的例子。 .匹配任意单个字符，但不匹配换行符。 例如，表达式.ar匹配一个任意字符后面跟着是a和r的字符串。</font>"
   ]
  },
  {
   "cell_type": "markdown",
   "metadata": {},
   "source": [
    "<font face=\"微软雅黑\" size=3>字符集</font> "
   ]
  },
  {
   "cell_type": "markdown",
   "metadata": {},
   "source": [
    "<font face=\"宋体\" >字符集也叫做字符类。 方括号用来指定一个字符集。 在方括号中使用连字符来指定字符集的范围。 在方括号中的字符集不关心顺序。 例如，表达式[Tt]he 匹配 the 和 The。</font> "
   ]
  },
  {
   "cell_type": "markdown",
   "metadata": {},
   "source": [
    "<font face=\"宋体\" >方括号的句号就表示句号。 表达式 ar[.] 匹配 ar.字符串</font> "
   ]
  },
  {
   "cell_type": "markdown",
   "metadata": {},
   "source": [
    "<font face=\"微软雅黑\" size=3>否定字符集</font> "
   ]
  },
  {
   "cell_type": "markdown",
   "metadata": {},
   "source": [
    "<font face=\"宋体\" >一般来说 ^ 表示一个字符串的开头，但它用在一个方括号的开头的时候，它表示这个字符集是否定的。 例如，表达式[^c]ar 匹配一个后面跟着ar的除了c的任意字符。</font>"
   ]
  },
  {
   "cell_type": "markdown",
   "metadata": {},
   "source": [
    "<font face=\"微软雅黑\" size=3>转义符/和r</font> "
   ]
  },
  {
   "cell_type": "markdown",
   "metadata": {},
   "source": [
    "<font face=\"宋体\" >当需要输出特殊的字符时，需要在特殊字符前加转义字符\"\\\"；或者使用Python的r前缀，就不用考虑转义问题了</font> "
   ]
  },
  {
   "cell_type": "code",
   "execution_count": null,
   "metadata": {},
   "outputs": [],
   "source": [
    "import re\n",
    "#目的：提取网页的标题\n",
    "string=\"<td class='title'\\n习近平主席发表二○二○年新年贺词\\n</td>\"\n",
    "#print(string)\n",
    "title1=re.findall(\"<td class='title'\\\\n(.*?)\\\\n</td>\",string,re.S)\n",
    "title2=re.findall(r\"<td class='title'\\n(.*?)\\n</td>\",string,re.S) #只用r的好处是无需识别特殊字符，而且当原网页特殊字符较多时，更加便利。\n",
    "print(title1)\n",
    "print(title2)"
   ]
  },
  {
   "cell_type": "markdown",
   "metadata": {},
   "source": [
    "<font face=\"宋体\" >元字符详细讲解：https://github.com/ziishaned/learn-regex/blob/master/translations/README-cn.md</font> "
   ]
  },
  {
   "cell_type": "markdown",
   "metadata": {},
   "source": [
    "<font face=\"微软雅黑\" size=3>()内才是我们需要的 </font> "
   ]
  },
  {
   "cell_type": "code",
   "execution_count": null,
   "metadata": {},
   "outputs": [],
   "source": [
    "import re\n",
    "#目的:在下面这个看起来杂乱无章的字符串中提取高管年龄这个有用信息\n",
    "string='''假装这里还有很多其他信息<td><div align=\"center\">董明珠>div>1954</div></td>假装这里还有很多其他信息'''  \n",
    "string2='''假装这里还有很多其他信息<td><div align=\"center\">王石>div>1950</div></td>假装这里还有很多其他信息'''\n",
    "#print(string)\n",
    "pattern='\\\"center\\\">.*?>div>([0-9]+)</div>' #也可以改为\\d+\n",
    "x1=re.findall(pattern, string)  #string当中找到所有满足pattern规则部分\n",
    "print(x1)\n",
    "x2=re.findall(pattern, string2)  #string当中找到所有满足pattern规则部分\n",
    "print(x2)"
   ]
  },
  {
   "cell_type": "code",
   "execution_count": null,
   "metadata": {},
   "outputs": [],
   "source": [
    "#练习4.5：在上述例子中，匹配高管姓名，而不是年龄"
   ]
  },
  {
   "cell_type": "markdown",
   "metadata": {},
   "source": [
    "<font face=\"微软雅黑\" size=3>多次匹配 </font> "
   ]
  },
  {
   "cell_type": "code",
   "execution_count": null,
   "metadata": {},
   "outputs": [],
   "source": [
    "#案例1\n",
    "import re\n",
    "info='<a href=\"http://www.baidu.com\">baidu</a>'\n",
    "relink='<a href=\\\"(.*)\\\">(.*)</a>'   #也可以写成[^\\\"]+\n",
    "cinfo=re.findall(relink,info)\n",
    "print(cinfo)"
   ]
  },
  {
   "cell_type": "code",
   "execution_count": null,
   "metadata": {},
   "outputs": [],
   "source": [
    "#案例2：\n",
    "import re\n",
    "string='''<td><div align=\"center\">董明珠</div></td>\n",
    "             <td><div align=\"center\">女</div></td>\n",
    "             <td><div align=\"center\">1954</div></td>\n",
    "             <td><div align=\"center\">研究生 </div></td>\n",
    "         '''\n",
    "#pattern='align=\\\"center\\\">([\\S]+)</div></td>'  \n",
    "#pattern='align=\\\"center\\\">([^<]+)</div></td>'  # 匹配非<字符，一个字符及以上\n",
    "#pattern='align=\\\"center\\\">(.*?)</div></td>'  # 这样也可以，这个匹配最常用\n",
    "pattern='align=\\\"center\\\">(\\d+)</div></td>'  # 这样也可以，这个匹配最常用\n",
    "x=re.findall(pattern, string)\n",
    "print(x) #琢磨一下为什么”研究生”没有被匹配出来"
   ]
  },
  {
   "cell_type": "markdown",
   "metadata": {},
   "source": [
    "## 4.3. 正则表达式2"
   ]
  },
  {
   "cell_type": "markdown",
   "metadata": {},
   "source": [
    "### 其他匹配函数"
   ]
  },
  {
   "cell_type": "markdown",
   "metadata": {},
   "source": [
    "<font face=\"宋体\" >除了findall外，re模块还有search(),sub(),find()等函数。  \n",
    "re.search()匹配并提取第一个符合规律的内容。  \n",
    "re.search(pattern,string,flags=0)    \n",
    "pattern为匹配的正则表达式  \n",
    "string为要匹配的字符串  \n",
    "flags为标志位，控制匹配方式，如是否区分大小写，多行匹配等 </font> "
   ]
  },
  {
   "cell_type": "markdown",
   "metadata": {},
   "source": [
    "<font face=\"微软雅黑\" size=3>sub函数 </font> "
   ]
  },
  {
   "cell_type": "markdown",
   "metadata": {},
   "source": [
    "<font face=\"宋体\" >re.sub()函数用于替换字符串中的匹配项，sub()函数的语法为：re.sub(pattern,repl,string,count=0,flags=0),其中，pattern为匹配的正则表达式，repl为替换的字符串，string为要被查找替换的原始字符串，为匹配后替换的最大次数，默认0为替换所有匹配，flags为标志位，控制匹配方式，如是否区分大小写，多行匹配等 </font> "
   ]
  },
  {
   "cell_type": "code",
   "execution_count": null,
   "metadata": {},
   "outputs": [],
   "source": [
    "import re\n",
    "unit='上海财经大学200433'\n",
    "unit_new=re.sub('\\d',\"\",unit)\n",
    "print(unit_new)"
   ]
  },
  {
   "cell_type": "code",
   "execution_count": null,
   "metadata": {},
   "outputs": [],
   "source": [
    "phone='151_2103_2349'\n",
    "new_phone=re.sub('\\D',\"\",phone)\n",
    "print(new_phone)"
   ]
  },
  {
   "cell_type": "markdown",
   "metadata": {},
   "source": [
    "<font face=\"微软雅黑\" size=3>更多匹配写法备忘 </font> "
   ]
  },
  {
   "cell_type": "code",
   "execution_count": null,
   "metadata": {},
   "outputs": [],
   "source": [
    "[amk]匹配'a','m'或'k'\n",
    "[^abc]匹配a,b,c之外的字符，^只有在方括号内才表示非的意思，[^A-Z\\;]表示非大写字母和;，如果^在方括号外则表示行的开头\n",
    "[0-9a-zA-Z_]+可以匹配至少有一个数字、字母或着下划线组成的字符串，比如'a100','0_z','Py3000'等等；\n",
    "[a-zA-Z_][0-9a-zA-Z_]*可以匹配由字母或下划线开头，后接任意个由一个数字、字母或者下划线组成的字符串，也就是Python的合法变量\n",
    "[a-zA-Z_][0-9a-zA-Z_]{0,19}更精确地限制了变量的长度是1-20个字符（前面1个字符+后面最多19个字符\n",
    "[\\u4e00-\\u9fa5]+ 只提取中文字符"
   ]
  },
  {
   "cell_type": "markdown",
   "metadata": {},
   "source": [
    "<font face=\"微软雅黑\" size=3>课题号提取 </font> "
   ]
  },
  {
   "cell_type": "markdown",
   "metadata": {},
   "source": [
    "<font face=\"宋体\" >应用：在下列表达式括号内的内容提取出来：本课题获得国家社科基金的资助（课题号：GDK2017-035）；此外还获得上海社科（2017kt045）的资助。。。 </font> "
   ]
  },
  {
   "cell_type": "code",
   "execution_count": null,
   "metadata": {},
   "outputs": [],
   "source": [
    "string='本课题获得国家社科基金的资助（课题号：GJKT2017-035）；此外还获得上海社科（2017kt045）的资助'\n",
    "import re\n",
    "project=re.findall('（(.*?)）',string)\n",
    "print(project)"
   ]
  },
  {
   "cell_type": "code",
   "execution_count": null,
   "metadata": {},
   "outputs": [],
   "source": [
    "project=[c.replace('课题号：',\"\") for c in project]\n",
    "print(project)"
   ]
  },
  {
   "cell_type": "code",
   "execution_count": null,
   "metadata": {},
   "outputs": [],
   "source": [
    "list=' '.join(project)\n",
    "#list=list.replace(' ','')\n",
    "print(list)"
   ]
  },
  {
   "cell_type": "code",
   "execution_count": null,
   "metadata": {},
   "outputs": [],
   "source": [
    "#如果想只要课题编号，不要“课题号”这几个字，可以在通过替换等方式将这几个字消去\n",
    "#思考题：如何通过正则表达式，直接踢出去\"课题号\"（仅包含数字或字母）"
   ]
  },
  {
   "cell_type": "code",
   "execution_count": null,
   "metadata": {},
   "outputs": [],
   "source": [
    "#去掉中文\n",
    "import re\n",
    "string='本课题获得国家社科基金的资助（课题编号：GJKT2017-035）；此外还获得上海社科（2017上海kt045）的资助'\n",
    "project1=re.findall('（(.*?)）',string)  #只要括号内东西\n",
    "project1=' '.join(project1)    #列表转字符\n",
    "print(project1)"
   ]
  },
  {
   "cell_type": "code",
   "execution_count": null,
   "metadata": {},
   "outputs": [],
   "source": [
    "project2=re.sub('.*：',\"\",project1) #“课题号：”这种情形删除 \n",
    "print(project2)"
   ]
  },
  {
   "cell_type": "code",
   "execution_count": null,
   "metadata": {},
   "outputs": [],
   "source": [
    "#剔除其中中文\n",
    "pattern=\"[\\u4e00-\\u9fa5]+\"#中文正则表达式\n",
    "project3=re.sub(pattern,\"\",project2) #剔除其中中文\n",
    "print(project3)"
   ]
  },
  {
   "cell_type": "code",
   "execution_count": null,
   "metadata": {},
   "outputs": [],
   "source": [
    "#剔除其中英文:小写字母\n",
    "pattern2=\"[a-z]+\"#英文正则表达式\n",
    "project3=re.sub(pattern2,\"\",project2) #剔除其中英文\n",
    "print(project3)"
   ]
  },
  {
   "cell_type": "code",
   "execution_count": null,
   "metadata": {},
   "outputs": [],
   "source": [
    "#剔除英文大写\n",
    "pattern2=\"[A-Z]+\"#英文正则表达式\n",
    "project4=re.sub(pattern2,\"\",project2) #剔除其中英文\n",
    "print(project4)"
   ]
  },
  {
   "cell_type": "code",
   "execution_count": null,
   "metadata": {},
   "outputs": [],
   "source": [
    "#剔除中英文大小写\n",
    "pattern2=\"[A-Z|a-z]+\"#英文正则表达式\n",
    "project5=re.sub(pattern2,\"\",project2) #剔除其中英文\n",
    "print(project5)"
   ]
  },
  {
   "cell_type": "markdown",
   "metadata": {},
   "source": [
    "<font face=\"微软雅黑\" size=3> 更简单的做法：可以直接选择字母和数字横线得到</font> "
   ]
  },
  {
   "cell_type": "code",
   "execution_count": null,
   "metadata": {},
   "outputs": [],
   "source": [
    "import re\n",
    "string='本课题获得国家社科基金的资助（课题编号：GJKT2017-035）；此外还获得上海社科（2017kt045）的资助'\n",
    "final=re.findall('([A-Za-z\\d-]+)',string)\n",
    "print(final)"
   ]
  },
  {
   "cell_type": "markdown",
   "metadata": {},
   "source": [
    "<font face=\"宋体\" >通过上述例子，可以发现，正则表达式的写法不是唯一的，应通过实战去摸索更好的写法</font>"
   ]
  },
  {
   "cell_type": "markdown",
   "metadata": {},
   "source": [
    "<font face=\"微软雅黑\" size=3> 正则表达式在爬虫中的应用</font> "
   ]
  },
  {
   "cell_type": "code",
   "execution_count": null,
   "metadata": {},
   "outputs": [],
   "source": [
    "#知县网\n",
    "import requests\n",
    "url='http://www.ahmhxc.com/gongzuobaogao/12951.html'\n",
    "res = requests.get(url)  \n",
    "print(res) \n",
    "string=res.content\n",
    "string2=str(string,'gb2312')\n",
    "print(string2)"
   ]
  },
  {
   "cell_type": "code",
   "execution_count": null,
   "metadata": {},
   "outputs": [],
   "source": [
    "\n",
    "string3=re.findall(' <script src=\"/d/js/acmsd/thea8.js\"></script>(.*?)<div class=\"pagebreak\">',string2,re.S)\n",
    "#string3=re.findall('<p style=\"text-align: justify;\"><span style=\"font-size:14px;\">(.*?)</span><span style=\"display:none\">',string2, re.S)\n",
    "#<p style=\"text-align: justify;\"><span style=\"font-size:14px;\">　　政　府　工　作　报　告</span><span style=\"display:none\">qVY知县网---有深度、有态度、接地气的县域大数据门户</span></p>\n",
    "#string3=re.findall(' <div class=\"title\"><h1>(.*?)</h1></div>',string2,re.S)\n",
    "print(string3)"
   ]
  },
  {
   "cell_type": "code",
   "execution_count": null,
   "metadata": {},
   "outputs": [],
   "source": [
    "#练习4.6：上述正则表达式可以写的短一些"
   ]
  },
  {
   "cell_type": "markdown",
   "metadata": {},
   "source": [
    "<font face=\"微软雅黑\" size=3> 其他数据清理</font> "
   ]
  },
  {
   "cell_type": "code",
   "execution_count": null,
   "metadata": {},
   "outputs": [],
   "source": [
    "# 取出字符串string1中所有的天气状态\n",
    "import re\n",
    "string1= \"{ymd:'2018-01-01',tianqi:'晴',aqiInfo:'轻度污染'},{ymd:'2018-01-02',tianqi:'阴~小雨',aqiInfo:'优'},{ymd:'2018-01-03',tianqi:'小雨~中雨',aqiInfo:'优'},{ymd:'2018-01-04',tianqi:'中雨~小雨',aqiInfo:'优'}\"\n",
    "# 基于正则表达式使用findall函数\n",
    "print(re.findall(\"tianqi:'(.*?)'\", string1))"
   ]
  },
  {
   "cell_type": "code",
   "execution_count": null,
   "metadata": {},
   "outputs": [],
   "source": [
    "# 将string2中的标点符号、数字和字母删除\n",
    "string2 = '据悉，这次发运的4台蒸汽冷凝罐属于国际热核聚变实验堆（ITER）项目的核二级压力设备，先后完成了压力试验、真空试验、氦气检漏试验、千斤顶试验、吊耳载荷试验、叠装试验等验收试验。'\n",
    "# 基于正则表达式使用sub函数\n",
    "print(re.sub('[，。、a-zA-Z0-9（）]','',string2))"
   ]
  },
  {
   "cell_type": "code",
   "execution_count": null,
   "metadata": {},
   "outputs": [],
   "source": [
    "# 将string3中的每个子部分内容分割开\n",
    "string3 = '2室2厅 | 101.62平 | 低区/7层 | 朝南  上海未来 - 浦东 - 金杨 - 2005年建'\n",
    "# 基于正则表达式使用split函数\n",
    "split = re.split('[-|/]', string3)\n",
    "print(split)\n",
    "# 分割结果的清洗\n",
    "split_strip = [i.strip() for i in split]\n",
    "print(split_strip)"
   ]
  },
  {
   "cell_type": "markdown",
   "metadata": {},
   "source": [
    "<font face=\"宋体\" >更多正则表达式学习资料：https://blog.csdn.net/weixin_40907382/article/details/79654372</font>"
   ]
  }
 ],
 "metadata": {
  "kernelspec": {
   "display_name": "Python 3",
   "language": "python",
   "name": "python3"
  },
  "language_info": {
   "codemirror_mode": {
    "name": "ipython",
    "version": 3
   },
   "file_extension": ".py",
   "mimetype": "text/x-python",
   "name": "python",
   "nbconvert_exporter": "python",
   "pygments_lexer": "ipython3",
   "version": "3.6.2"
  }
 },
 "nbformat": 4,
 "nbformat_minor": 2
}
